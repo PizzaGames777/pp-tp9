{
 "cells": [
  {
   "cell_type": "markdown",
   "id": "3bbb1997-e93e-420e-b8b6-121be3c27198",
   "metadata": {},
   "source": [
    "# Actividad 9\n",
    "# 🔍 Parte 2: Análisis de Datasets\n",
    "Objetivo: Analizar datasets con Pandas, utilizando filtros y visualización con:\n",
    "* tablas\n",
    "* gráficos\n",
    "* mapas\n",
    "\n"
   ]
  },
  {
   "cell_type": "markdown",
   "id": "88e03465-38b2-4515-a885-419c0cd40ffd",
   "metadata": {},
   "source": [
    "## Elegí un dataset\n",
    "* Realizar exploración básica"
   ]
  },
  {
   "cell_type": "markdown",
   "id": "a99df127-cfcb-43bf-a55a-eb525e273481",
   "metadata": {},
   "source": [
    "*  ### Avistajes de felinos en Argentina\n",
    "    * Link para descarga: https://archivos.linti.unlp.edu.ar/index.php/s/5iC9FrYWiGi11d0\n",
    "    * Nombre del archivo: felinos_filtrado.csv \n",
    "    * Descargado y adaptado de: https://www.gbif.org/ \n",
    "    * Descripción: describe los avistajes de felinos en peligro de extinción con ubicación, especie, fecha etc.\n",
    "* ### Áreas protegidas\n",
    "    * Link para descarga: https://archivos.linti.unlp.edu.ar/index.php/s/Eqw1eAVC1pdefmb \n",
    "    * Descargado de: https://dnsg.ign.gob.ar/apps/api/v1/capas-sig/Geodesia+y+demarcaci%C3%B3n/L%C3%ADmites/area_protegida/csv*\n",
    "    * Página consultada: https://www.ign.gob.ar/NuestrasActividades/InformacionGeoespacial/CapasSIG \n",
    "    * Descripción: detalle de las áreas protegidas terrestres y marítimas \n",
    "    * Documento con detalle de los datos: https://archivos.linti.unlp.edu.ar/index.php/s/9LoXcqzxI8bDzbN\n",
    "* ### Aeropuertos Argentina\n",
    "    * Link para  descarga: https://archivos.linti.unlp.edu.ar/index.php/s/RwFLzTUtqEfqOkc\n",
    "    * Nombre del archivo: ar-airports.csv \n",
    "    * Descargado de: https://ourairports.com/countries/AR/airports.csv \n",
    "    * Descripción: Aeropuertos de Argentina por tipo y localidad\n",
    "* ### Conectividad Argentina\n",
    "    * Link para descarga: https://archivos.linti.unlp.edu.ar/index.php/s/3k2TO5sSzaAU6IY\n",
    "    * Nombre del archivo: Conectividad_Internet.csv \n",
    "    * Descargado de : https://datos.gob.ar/dataset/enacom-conectividad-al-servicio-internet/archivo/enacom_CONEC-AL-SERVI-DE-INTER_0 \n",
    "    * Descripción: Describe las tecnologías disponibles en las localidades para acceder al servicio de Internet fijo y móvil\n",
    "* ### Precios combustibles\n",
    "    * [Link para descarga](https://archivos.linti.unlp.edu.ar/index.php/s/x0InilFLhgt1B1R).\n",
    "    * Descargado de: https://www.datos.gob.ar/dataset/energia-precios-surtidor---resolucion-3142016\n",
    "    * Descripción: Datos del Sistema en línea de información de precios de combustibles en surtidor, a través del cual los titulares de bocas de expendio de combustibles líquidos inscriptos en el registro creado por la resolución n° 1.102/2004 presentan la información relativa a precios de comercialización minorista dentro de las 8 (ocho) horas de producida una modificación en el precio en surtidor.\n",
    "* ### Ferrocarriles.\n",
    "    *  [Link para descarga](https://archivos.linti.unlp.edu.ar/index.php/s/Pr6vcKL9fxfmZoj)\n",
    "    * Descargado de :https://datos.transporte.gob.ar/dataset/cruces-ferroviarios\n",
    "    * Descripción: Cruces ferroviarios con respecto a la red vial nacional. Relevados por la Dirección Nacional de Vialidad. Año 2016.\n",
    "    \n"
   ]
  },
  {
   "cell_type": "markdown",
   "id": "816f1350-e8c0-45da-a425-90a05051b072",
   "metadata": {},
   "source": [
    "# ✅ Etapa 1: Exploración Básica (10 min)\n",
    "* Cantidad de filas y columans\n",
    "* Nombres de las columnas\n",
    "* Tipos de datos de las columnas\n",
    "* Ver las primeras 10 filas del dataset"
   ]
  },
  {
   "cell_type": "code",
   "execution_count": 22,
   "id": "de474e6f-3971-48fb-bd04-981ec2a2a0fd",
   "metadata": {},
   "outputs": [
    {
     "name": "stdout",
     "output_type": "stream",
     "text": [
      "Defaulting to user installation because normal site-packages is not writeable\n",
      "Requirement already satisfied: plotly in /usr/local/lib/python3.11/dist-packages (5.13.1)\n",
      "Requirement already satisfied: tenacity>=6.2.0 in /usr/local/lib/python3.11/dist-packages (from plotly) (8.2.2)\n",
      "\n",
      "\u001b[1m[\u001b[0m\u001b[34;49mnotice\u001b[0m\u001b[1;39;49m]\u001b[0m\u001b[39;49m A new release of pip is available: \u001b[0m\u001b[31;49m23.0.1\u001b[0m\u001b[39;49m -> \u001b[0m\u001b[32;49m25.2\u001b[0m\n",
      "\u001b[1m[\u001b[0m\u001b[34;49mnotice\u001b[0m\u001b[1;39;49m]\u001b[0m\u001b[39;49m To update, run: \u001b[0m\u001b[32;49mpython3.11 -m pip install --upgrade pip\u001b[0m\n"
     ]
    }
   ],
   "source": [
    "!pip install plotly"
   ]
  },
  {
   "cell_type": "code",
   "execution_count": 1,
   "id": "e88a7ec4-a287-4512-8540-f6f79abbb63e",
   "metadata": {},
   "outputs": [],
   "source": [
    "import pandas as pd\n",
    "import plotly.express as px\n",
    "area = pd.read_csv(\"area_protegida.csv\")"
   ]
  },
  {
   "cell_type": "code",
   "execution_count": 4,
   "id": "d067c24b-ff65-47fc-b3e8-995c74162190",
   "metadata": {},
   "outputs": [
    {
     "data": {
      "text/plain": [
       "(395, 14)"
      ]
     },
     "execution_count": 4,
     "metadata": {},
     "output_type": "execute_result"
    }
   ],
   "source": [
    "area.shape"
   ]
  },
  {
   "cell_type": "code",
   "execution_count": 3,
   "id": "f784d65d-567c-453a-9749-f616688cc8d2",
   "metadata": {},
   "outputs": [
    {
     "data": {
      "text/plain": [
       "Index(['lat', 'lng', 'gid', 'entidad', 'objeto', 'fna', 'gna', 'nam', 'tap',\n",
       "       'jap', 'caa', 'fdc', 'sag', 'area'],\n",
       "      dtype='object')"
      ]
     },
     "execution_count": 3,
     "metadata": {},
     "output_type": "execute_result"
    }
   ],
   "source": [
    "area.columns"
   ]
  },
  {
   "cell_type": "code",
   "execution_count": 18,
   "id": "c1de62b2-ca12-4d5f-a848-1e27e7246bbb",
   "metadata": {},
   "outputs": [
    {
     "data": {
      "text/plain": [
       "lat        float64\n",
       "lng        float64\n",
       "gid          int64\n",
       "entidad     object\n",
       "objeto      object\n",
       "fna         object\n",
       "gna         object\n",
       "nam         object\n",
       "tap          int64\n",
       "jap          int64\n",
       "caa          int64\n",
       "fdc         object\n",
       "sag         object\n",
       "area         int64\n",
       "dtype: object"
      ]
     },
     "execution_count": 18,
     "metadata": {},
     "output_type": "execute_result"
    }
   ],
   "source": [
    "area.dtypes"
   ]
  },
  {
   "cell_type": "code",
   "execution_count": 5,
   "id": "961c2834-446c-4ca8-abd2-0cf55400f040",
   "metadata": {},
   "outputs": [
    {
     "data": {
      "text/html": [
       "<div>\n",
       "<style scoped>\n",
       "    .dataframe tbody tr th:only-of-type {\n",
       "        vertical-align: middle;\n",
       "    }\n",
       "\n",
       "    .dataframe tbody tr th {\n",
       "        vertical-align: top;\n",
       "    }\n",
       "\n",
       "    .dataframe thead th {\n",
       "        text-align: right;\n",
       "    }\n",
       "</style>\n",
       "<table border=\"1\" class=\"dataframe\">\n",
       "  <thead>\n",
       "    <tr style=\"text-align: right;\">\n",
       "      <th></th>\n",
       "      <th>lat</th>\n",
       "      <th>lng</th>\n",
       "      <th>gid</th>\n",
       "      <th>entidad</th>\n",
       "      <th>objeto</th>\n",
       "      <th>fna</th>\n",
       "      <th>gna</th>\n",
       "      <th>nam</th>\n",
       "      <th>tap</th>\n",
       "      <th>jap</th>\n",
       "      <th>caa</th>\n",
       "      <th>fdc</th>\n",
       "      <th>sag</th>\n",
       "      <th>area</th>\n",
       "    </tr>\n",
       "  </thead>\n",
       "  <tbody>\n",
       "    <tr>\n",
       "      <th>0</th>\n",
       "      <td>-53.546655</td>\n",
       "      <td>-68.041297</td>\n",
       "      <td>362</td>\n",
       "      <td>falso</td>\n",
       "      <td>Área protegida</td>\n",
       "      <td>Sitio RAMSAR y Reserva Hemisférica Costa Atlán...</td>\n",
       "      <td>Sitio RAMSAR y Reserva Hemisférica</td>\n",
       "      <td>Costa Atlántica de Tierra del Fuego</td>\n",
       "      <td>2</td>\n",
       "      <td>2</td>\n",
       "      <td>17</td>\n",
       "      <td>SIB/IGN/Ley Provincial Nº 415/1998</td>\n",
       "      <td>IGN</td>\n",
       "      <td>762166</td>\n",
       "    </tr>\n",
       "    <tr>\n",
       "      <th>1</th>\n",
       "      <td>-31.404445</td>\n",
       "      <td>-64.357709</td>\n",
       "      <td>157</td>\n",
       "      <td>falso</td>\n",
       "      <td>Área protegida</td>\n",
       "      <td>Reserva Natural de la Defensa La Calera</td>\n",
       "      <td>Reserva Natural de la Defensa</td>\n",
       "      <td>La Calera</td>\n",
       "      <td>2</td>\n",
       "      <td>2</td>\n",
       "      <td>17</td>\n",
       "      <td>SIB/IGN/Protocolo adicional Nº 05/2009</td>\n",
       "      <td>IGN</td>\n",
       "      <td>136225</td>\n",
       "    </tr>\n",
       "    <tr>\n",
       "      <th>2</th>\n",
       "      <td>-32.245004</td>\n",
       "      <td>-60.734423</td>\n",
       "      <td>169</td>\n",
       "      <td>falso</td>\n",
       "      <td>Área protegida</td>\n",
       "      <td>Sitio Ramsar Delta del Parana</td>\n",
       "      <td>Sitio Ramsar</td>\n",
       "      <td>Delta del Parana</td>\n",
       "      <td>2</td>\n",
       "      <td>2</td>\n",
       "      <td>17</td>\n",
       "      <td>NaN</td>\n",
       "      <td>MAyDS</td>\n",
       "      <td>2430979</td>\n",
       "    </tr>\n",
       "    <tr>\n",
       "      <th>3</th>\n",
       "      <td>-26.031780</td>\n",
       "      <td>-54.418743</td>\n",
       "      <td>47</td>\n",
       "      <td>falso</td>\n",
       "      <td>Área protegida</td>\n",
       "      <td>Parque Natural Municipal Lote C Huerto Municipal</td>\n",
       "      <td>Parque Natural Municipal</td>\n",
       "      <td>Lote C Huerto Municipal</td>\n",
       "      <td>1</td>\n",
       "      <td>4</td>\n",
       "      <td>17</td>\n",
       "      <td>SIB/IGN/Disposición Nº 45/95</td>\n",
       "      <td>IGN</td>\n",
       "      <td>955</td>\n",
       "    </tr>\n",
       "    <tr>\n",
       "      <th>4</th>\n",
       "      <td>-26.402258</td>\n",
       "      <td>-65.680992</td>\n",
       "      <td>206</td>\n",
       "      <td>falso</td>\n",
       "      <td>Área protegida</td>\n",
       "      <td>Parque Provincial Cumbres Calchaquíes</td>\n",
       "      <td>Parque Provincial</td>\n",
       "      <td>Cumbres Calchaquíes</td>\n",
       "      <td>1</td>\n",
       "      <td>3</td>\n",
       "      <td>17</td>\n",
       "      <td>NaN</td>\n",
       "      <td>IGN</td>\n",
       "      <td>706222</td>\n",
       "    </tr>\n",
       "    <tr>\n",
       "      <th>5</th>\n",
       "      <td>-27.630853</td>\n",
       "      <td>-67.275597</td>\n",
       "      <td>213</td>\n",
       "      <td>falso</td>\n",
       "      <td>Área protegida</td>\n",
       "      <td>Area Natural Protegida Sierras de Belén</td>\n",
       "      <td>Area Natural Protegida</td>\n",
       "      <td>Sierras de Belén</td>\n",
       "      <td>2</td>\n",
       "      <td>3</td>\n",
       "      <td>17</td>\n",
       "      <td>NaN</td>\n",
       "      <td>MAyDS</td>\n",
       "      <td>392087</td>\n",
       "    </tr>\n",
       "    <tr>\n",
       "      <th>6</th>\n",
       "      <td>-33.804530</td>\n",
       "      <td>-59.291954</td>\n",
       "      <td>99</td>\n",
       "      <td>falso</td>\n",
       "      <td>Área protegida</td>\n",
       "      <td>Reserva Natural Objetivo Definido Educativo Pa...</td>\n",
       "      <td>Reserva Natural Objetivo Definido Educativo</td>\n",
       "      <td>Paraná Guazú</td>\n",
       "      <td>2</td>\n",
       "      <td>4</td>\n",
       "      <td>17</td>\n",
       "      <td>NaN</td>\n",
       "      <td>MAyDS</td>\n",
       "      <td>7541</td>\n",
       "    </tr>\n",
       "    <tr>\n",
       "      <th>7</th>\n",
       "      <td>-47.925458</td>\n",
       "      <td>-72.317514</td>\n",
       "      <td>223</td>\n",
       "      <td>falso</td>\n",
       "      <td>Área protegida</td>\n",
       "      <td>Parque Nacional Perito Moreno</td>\n",
       "      <td>Parque Nacional</td>\n",
       "      <td>Perito Moreno</td>\n",
       "      <td>1</td>\n",
       "      <td>2</td>\n",
       "      <td>17</td>\n",
       "      <td>SIB/IGN/Decreto Nacional Nº 105.433/1937</td>\n",
       "      <td>IGN</td>\n",
       "      <td>953034</td>\n",
       "    </tr>\n",
       "    <tr>\n",
       "      <th>8</th>\n",
       "      <td>-50.337227</td>\n",
       "      <td>-69.017112</td>\n",
       "      <td>230</td>\n",
       "      <td>falso</td>\n",
       "      <td>Área protegida</td>\n",
       "      <td>Parque Nacional Monte León</td>\n",
       "      <td>Parque Nacional</td>\n",
       "      <td>Monte León</td>\n",
       "      <td>1</td>\n",
       "      <td>2</td>\n",
       "      <td>17</td>\n",
       "      <td>SIB/IGN/Ley Nacional Nº 25.945/2004</td>\n",
       "      <td>IGN</td>\n",
       "      <td>562692</td>\n",
       "    </tr>\n",
       "    <tr>\n",
       "      <th>9</th>\n",
       "      <td>-27.474382</td>\n",
       "      <td>-55.001868</td>\n",
       "      <td>65</td>\n",
       "      <td>falso</td>\n",
       "      <td>Área protegida</td>\n",
       "      <td>Reserva Privada Ingeniero Barney</td>\n",
       "      <td>Reserva Privada</td>\n",
       "      <td>Ingeniero Barney</td>\n",
       "      <td>2</td>\n",
       "      <td>5</td>\n",
       "      <td>3</td>\n",
       "      <td>SIB/IGN/Decreto Provincial Nº 07/2000</td>\n",
       "      <td>IGN</td>\n",
       "      <td>500</td>\n",
       "    </tr>\n",
       "    <tr>\n",
       "      <th>10</th>\n",
       "      <td>-39.039733</td>\n",
       "      <td>-61.386494</td>\n",
       "      <td>1</td>\n",
       "      <td>falso</td>\n",
       "      <td>Área protegida</td>\n",
       "      <td>Reserva Geológica, Paleontológica y Arqueológi...</td>\n",
       "      <td>Reserva Geológica, Paleontológica y Arqueológic</td>\n",
       "      <td>Pehuen Có - Monte Hermoso</td>\n",
       "      <td>2</td>\n",
       "      <td>3</td>\n",
       "      <td>17</td>\n",
       "      <td>SIB/IGN/Ley Provincial Nº 13.394</td>\n",
       "      <td>IGN</td>\n",
       "      <td>572244</td>\n",
       "    </tr>\n",
       "    <tr>\n",
       "      <th>11</th>\n",
       "      <td>-38.810728</td>\n",
       "      <td>-62.270099</td>\n",
       "      <td>2</td>\n",
       "      <td>falso</td>\n",
       "      <td>Área protegida</td>\n",
       "      <td>Reserva Natural Integral Islote de la Gaviota ...</td>\n",
       "      <td>Reserva Natural Integral</td>\n",
       "      <td>Islote de la Gaviota Cangrejera</td>\n",
       "      <td>2</td>\n",
       "      <td>3</td>\n",
       "      <td>17</td>\n",
       "      <td>SIB/IGN/Decreto Provincial Nº 469</td>\n",
       "      <td>IGN</td>\n",
       "      <td>2925</td>\n",
       "    </tr>\n",
       "    <tr>\n",
       "      <th>12</th>\n",
       "      <td>-38.932023</td>\n",
       "      <td>-60.584677</td>\n",
       "      <td>3</td>\n",
       "      <td>falso</td>\n",
       "      <td>Área protegida</td>\n",
       "      <td>Reserva Natural Provincial de Uso Múltiple Arr...</td>\n",
       "      <td>Reserva Natural Provincial de Uso Múltiple</td>\n",
       "      <td>Arroyo Los Gauchos</td>\n",
       "      <td>2</td>\n",
       "      <td>3</td>\n",
       "      <td>17</td>\n",
       "      <td>SIB/IGN/Decreto Provincial Nº 469/2011</td>\n",
       "      <td>IGN</td>\n",
       "      <td>7413</td>\n",
       "    </tr>\n",
       "    <tr>\n",
       "      <th>13</th>\n",
       "      <td>-26.847979</td>\n",
       "      <td>-59.655168</td>\n",
       "      <td>155</td>\n",
       "      <td>falso</td>\n",
       "      <td>Área protegida</td>\n",
       "      <td>Parque Nacional Chaco</td>\n",
       "      <td>Parque Nacional</td>\n",
       "      <td>Chaco</td>\n",
       "      <td>1</td>\n",
       "      <td>2</td>\n",
       "      <td>17</td>\n",
       "      <td>SIB/IGN/Ley Nacional Nº 14.366/1954</td>\n",
       "      <td>IGN</td>\n",
       "      <td>149308</td>\n",
       "    </tr>\n",
       "  </tbody>\n",
       "</table>\n",
       "</div>"
      ],
      "text/plain": [
       "          lat        lng  gid entidad          objeto  \\\n",
       "0  -53.546655 -68.041297  362   falso  Área protegida   \n",
       "1  -31.404445 -64.357709  157   falso  Área protegida   \n",
       "2  -32.245004 -60.734423  169   falso  Área protegida   \n",
       "3  -26.031780 -54.418743   47   falso  Área protegida   \n",
       "4  -26.402258 -65.680992  206   falso  Área protegida   \n",
       "5  -27.630853 -67.275597  213   falso  Área protegida   \n",
       "6  -33.804530 -59.291954   99   falso  Área protegida   \n",
       "7  -47.925458 -72.317514  223   falso  Área protegida   \n",
       "8  -50.337227 -69.017112  230   falso  Área protegida   \n",
       "9  -27.474382 -55.001868   65   falso  Área protegida   \n",
       "10 -39.039733 -61.386494    1   falso  Área protegida   \n",
       "11 -38.810728 -62.270099    2   falso  Área protegida   \n",
       "12 -38.932023 -60.584677    3   falso  Área protegida   \n",
       "13 -26.847979 -59.655168  155   falso  Área protegida   \n",
       "\n",
       "                                                  fna  \\\n",
       "0   Sitio RAMSAR y Reserva Hemisférica Costa Atlán...   \n",
       "1             Reserva Natural de la Defensa La Calera   \n",
       "2                       Sitio Ramsar Delta del Parana   \n",
       "3    Parque Natural Municipal Lote C Huerto Municipal   \n",
       "4               Parque Provincial Cumbres Calchaquíes   \n",
       "5             Area Natural Protegida Sierras de Belén   \n",
       "6   Reserva Natural Objetivo Definido Educativo Pa...   \n",
       "7                       Parque Nacional Perito Moreno   \n",
       "8                          Parque Nacional Monte León   \n",
       "9                    Reserva Privada Ingeniero Barney   \n",
       "10  Reserva Geológica, Paleontológica y Arqueológi...   \n",
       "11  Reserva Natural Integral Islote de la Gaviota ...   \n",
       "12  Reserva Natural Provincial de Uso Múltiple Arr...   \n",
       "13                              Parque Nacional Chaco   \n",
       "\n",
       "                                                gna  \\\n",
       "0                Sitio RAMSAR y Reserva Hemisférica   \n",
       "1                     Reserva Natural de la Defensa   \n",
       "2                                      Sitio Ramsar   \n",
       "3                          Parque Natural Municipal   \n",
       "4                                 Parque Provincial   \n",
       "5                            Area Natural Protegida   \n",
       "6       Reserva Natural Objetivo Definido Educativo   \n",
       "7                                   Parque Nacional   \n",
       "8                                   Parque Nacional   \n",
       "9                                   Reserva Privada   \n",
       "10  Reserva Geológica, Paleontológica y Arqueológic   \n",
       "11                         Reserva Natural Integral   \n",
       "12       Reserva Natural Provincial de Uso Múltiple   \n",
       "13                                  Parque Nacional   \n",
       "\n",
       "                                    nam  tap  jap  caa  \\\n",
       "0   Costa Atlántica de Tierra del Fuego    2    2   17   \n",
       "1                             La Calera    2    2   17   \n",
       "2                      Delta del Parana    2    2   17   \n",
       "3               Lote C Huerto Municipal    1    4   17   \n",
       "4                   Cumbres Calchaquíes    1    3   17   \n",
       "5                      Sierras de Belén    2    3   17   \n",
       "6                          Paraná Guazú    2    4   17   \n",
       "7                         Perito Moreno    1    2   17   \n",
       "8                            Monte León    1    2   17   \n",
       "9                      Ingeniero Barney    2    5    3   \n",
       "10            Pehuen Có - Monte Hermoso    2    3   17   \n",
       "11      Islote de la Gaviota Cangrejera    2    3   17   \n",
       "12                   Arroyo Los Gauchos    2    3   17   \n",
       "13                                Chaco    1    2   17   \n",
       "\n",
       "                                         fdc    sag     area  \n",
       "0         SIB/IGN/Ley Provincial Nº 415/1998    IGN   762166  \n",
       "1     SIB/IGN/Protocolo adicional Nº 05/2009    IGN   136225  \n",
       "2                                        NaN  MAyDS  2430979  \n",
       "3               SIB/IGN/Disposición Nº 45/95    IGN      955  \n",
       "4                                        NaN    IGN   706222  \n",
       "5                                        NaN  MAyDS   392087  \n",
       "6                                        NaN  MAyDS     7541  \n",
       "7   SIB/IGN/Decreto Nacional Nº 105.433/1937    IGN   953034  \n",
       "8        SIB/IGN/Ley Nacional Nº 25.945/2004    IGN   562692  \n",
       "9      SIB/IGN/Decreto Provincial Nº 07/2000    IGN      500  \n",
       "10          SIB/IGN/Ley Provincial Nº 13.394    IGN   572244  \n",
       "11         SIB/IGN/Decreto Provincial Nº 469    IGN     2925  \n",
       "12    SIB/IGN/Decreto Provincial Nº 469/2011    IGN     7413  \n",
       "13       SIB/IGN/Ley Nacional Nº 14.366/1954    IGN   149308  "
      ]
     },
     "execution_count": 5,
     "metadata": {},
     "output_type": "execute_result"
    }
   ],
   "source": [
    "area.head(14)"
   ]
  },
  {
   "cell_type": "markdown",
   "id": "58a1a7b2-c40d-4214-b715-ba7c1f4b91f8",
   "metadata": {},
   "source": [
    "# ✅ Etapa 2: Análisis por temática(10 min)\n",
    "* Cada dataset se analizará según categorías correspondiente a los datos que lo conforman"
   ]
  },
  {
   "cell_type": "code",
   "execution_count": 46,
   "id": "f3afaa59-ad7a-4c6a-a1fc-9790e44bef0d",
   "metadata": {},
   "outputs": [
    {
     "data": {
      "text/plain": [
       "-22.1586842099999"
      ]
     },
     "execution_count": 46,
     "metadata": {},
     "output_type": "execute_result"
    }
   ],
   "source": [
    "maximo = area[\"lat\"].max()"
   ]
  },
  {
   "cell_type": "markdown",
   "id": "30c7fa49-e008-4bd3-9582-55b40e304bd8",
   "metadata": {},
   "source": [
    "# ✅ Etapa 3: Filtrar y Limpiar Datos (15 min)"
   ]
  },
  {
   "cell_type": "code",
   "execution_count": null,
   "id": "8876bad6-0787-465b-9317-2c3f7abdbfe1",
   "metadata": {},
   "outputs": [],
   "source": []
  },
  {
   "cell_type": "markdown",
   "id": "bd52685e-af18-4eab-beb7-2de840a5f8f6",
   "metadata": {},
   "source": [
    "# ✅ Etapa 4: Valores Nulos y Estadísticas (10 min)\n",
    "* Mostrar la composición de las columnas indicando aquellas con datos faltantes"
   ]
  },
  {
   "cell_type": "code",
   "execution_count": 23,
   "id": "aacc6a17-4832-4122-94ba-02f20b0e8299",
   "metadata": {},
   "outputs": [
    {
     "name": "stdout",
     "output_type": "stream",
     "text": [
      "<class 'pandas.core.frame.DataFrame'>\n",
      "RangeIndex: 395 entries, 0 to 394\n",
      "Data columns (total 14 columns):\n",
      " #   Column   Non-Null Count  Dtype  \n",
      "---  ------   --------------  -----  \n",
      " 0   lat      395 non-null    float64\n",
      " 1   lng      395 non-null    float64\n",
      " 2   gid      395 non-null    int64  \n",
      " 3   entidad  395 non-null    object \n",
      " 4   objeto   395 non-null    object \n",
      " 5   fna      395 non-null    object \n",
      " 6   gna      395 non-null    object \n",
      " 7   nam      395 non-null    object \n",
      " 8   tap      395 non-null    int64  \n",
      " 9   jap      395 non-null    int64  \n",
      " 10  caa      395 non-null    int64  \n",
      " 11  fdc      336 non-null    object \n",
      " 12  sag      394 non-null    object \n",
      " 13  area     395 non-null    int64  \n",
      "dtypes: float64(2), int64(5), object(7)\n",
      "memory usage: 43.3+ KB\n"
     ]
    }
   ],
   "source": [
    "area.info()"
   ]
  },
  {
   "cell_type": "markdown",
   "id": "8c158c4f-309d-40f6-b257-7cfc092cc903",
   "metadata": {},
   "source": [
    "# ✅ Etapa 5: Visualización con Mapas (15 min)"
   ]
  },
  {
   "cell_type": "markdown",
   "id": "374d54c3-665e-4e20-b3fc-bf8540d3c1fb",
   "metadata": {},
   "source": [
    "*  ### Avistajes de felinos en Argentina\n",
    "    * **Mapa**: mostrar iconos de color según el tipo de \"genus\" .\n",
    "* ### Áreas protegidas\n",
    "    * **Mapa**: mostrar iconos de color según el tipo de área protegida definida en la columna \"tap\" que indica (Parque, Reserva, MonumentosNatural).\n",
    "* ### Aeropuertos Argentina\n",
    "    * **Mapa**: mostrar iconos de color según el tipo de aeropuerto: type\n",
    "* ### Conectividad Argentina\n",
    "    * **Mapa**: mostrar las localidades donde hay FIBRAOPTICA.\n",
    "* ### Precios combustibles\n",
    "    *  **Mapa**: mostrar los registros de las provincias de la Patagonia según \"tipohorario\".\n",
    "* ### Ferrocarriles.\n",
    "    * **Mapa**: mostrar las estaciones en el mapa según el tipo indicado en la columna \"gna\"."
   ]
  },
  {
   "cell_type": "markdown",
   "id": "da0feae1-e9bf-4b1b-bdf4-643112c1defd",
   "metadata": {},
   "source": [
    "## 📌 Paso 1.Generar un mapa **base** para luego agregar los puntos"
   ]
  },
  {
   "cell_type": "code",
   "execution_count": 9,
   "id": "267c80f0-36ad-4842-9001-e9f7437d8f89",
   "metadata": {},
   "outputs": [],
   "source": [
    "import folium"
   ]
  },
  {
   "cell_type": "code",
   "execution_count": 14,
   "id": "5b781e3c-b3d6-49dc-a446-e88dcdf4bb02",
   "metadata": {},
   "outputs": [],
   "source": [
    "def generar_mapa():\n",
    "    attr = (\n",
    "        '&copy; <a href=\"https://www.openstreetmap.org/copyright\">OpenStreetMap</a> '\n",
    "        'contributors, &copy; <a href=\"https://cartodb.com/attributions\">CartoDB</a>'\n",
    "    )\n",
    "    \n",
    "    tiles = 'https://wms.ign.gob.ar/geoserver/gwc/service/tms/1.0.0/capabaseargenmap@EPSG%3A3857@png/{z}/{x}/{-y}.png'\n",
    "    m = folium.Map(\n",
    "        location=(-33.457606, -65.346857),\n",
    "        control_scale=True,\n",
    "        zoom_start=5,\n",
    "        name='es',\n",
    "        tiles=tiles,\n",
    "        attr=attr\n",
    "    )\n",
    "    return m"
   ]
  },
  {
   "cell_type": "code",
   "execution_count": 43,
   "id": "3f8cbca2-5e41-4da4-bd94-a5a3c8efd7ba",
   "metadata": {},
   "outputs": [
    {
     "data": {
      "text/html": [
       "<div style=\"width:100%;\"><div style=\"position:relative;width:100%;height:0;padding-bottom:60%;\"><span style=\"color:#565656\">Make this Notebook Trusted to load map: File -> Trust Notebook</span><iframe srcdoc=\"&lt;!DOCTYPE html&gt;\n",
       "&lt;html&gt;\n",
       "&lt;head&gt;\n",
       "    \n",
       "    &lt;meta http-equiv=&quot;content-type&quot; content=&quot;text/html; charset=UTF-8&quot; /&gt;\n",
       "    &lt;script src=&quot;https://cdn.jsdelivr.net/npm/leaflet@1.9.3/dist/leaflet.js&quot;&gt;&lt;/script&gt;\n",
       "    &lt;script src=&quot;https://code.jquery.com/jquery-3.7.1.min.js&quot;&gt;&lt;/script&gt;\n",
       "    &lt;script src=&quot;https://cdn.jsdelivr.net/npm/bootstrap@5.2.2/dist/js/bootstrap.bundle.min.js&quot;&gt;&lt;/script&gt;\n",
       "    &lt;script src=&quot;https://cdnjs.cloudflare.com/ajax/libs/Leaflet.awesome-markers/2.0.2/leaflet.awesome-markers.js&quot;&gt;&lt;/script&gt;\n",
       "    &lt;link rel=&quot;stylesheet&quot; href=&quot;https://cdn.jsdelivr.net/npm/leaflet@1.9.3/dist/leaflet.css&quot;/&gt;\n",
       "    &lt;link rel=&quot;stylesheet&quot; href=&quot;https://cdn.jsdelivr.net/npm/bootstrap@5.2.2/dist/css/bootstrap.min.css&quot;/&gt;\n",
       "    &lt;link rel=&quot;stylesheet&quot; href=&quot;https://netdna.bootstrapcdn.com/bootstrap/3.0.0/css/bootstrap-glyphicons.css&quot;/&gt;\n",
       "    &lt;link rel=&quot;stylesheet&quot; href=&quot;https://cdn.jsdelivr.net/npm/@fortawesome/fontawesome-free@6.2.0/css/all.min.css&quot;/&gt;\n",
       "    &lt;link rel=&quot;stylesheet&quot; href=&quot;https://cdnjs.cloudflare.com/ajax/libs/Leaflet.awesome-markers/2.0.2/leaflet.awesome-markers.css&quot;/&gt;\n",
       "    &lt;link rel=&quot;stylesheet&quot; href=&quot;https://cdn.jsdelivr.net/gh/python-visualization/folium/folium/templates/leaflet.awesome.rotate.min.css&quot;/&gt;\n",
       "    \n",
       "            &lt;meta name=&quot;viewport&quot; content=&quot;width=device-width,\n",
       "                initial-scale=1.0, maximum-scale=1.0, user-scalable=no&quot; /&gt;\n",
       "            &lt;style&gt;\n",
       "                #map_3bd0603abeccb8b527caf56f3b7f3b44 {\n",
       "                    position: relative;\n",
       "                    width: 100.0%;\n",
       "                    height: 100.0%;\n",
       "                    left: 0.0%;\n",
       "                    top: 0.0%;\n",
       "                }\n",
       "                .leaflet-container { font-size: 1rem; }\n",
       "            &lt;/style&gt;\n",
       "\n",
       "            &lt;style&gt;html, body {\n",
       "                width: 100%;\n",
       "                height: 100%;\n",
       "                margin: 0;\n",
       "                padding: 0;\n",
       "            }\n",
       "            &lt;/style&gt;\n",
       "\n",
       "            &lt;style&gt;#map {\n",
       "                position:absolute;\n",
       "                top:0;\n",
       "                bottom:0;\n",
       "                right:0;\n",
       "                left:0;\n",
       "                }\n",
       "            &lt;/style&gt;\n",
       "\n",
       "            &lt;script&gt;\n",
       "                L_NO_TOUCH = false;\n",
       "                L_DISABLE_3D = false;\n",
       "            &lt;/script&gt;\n",
       "\n",
       "        \n",
       "&lt;/head&gt;\n",
       "&lt;body&gt;\n",
       "    \n",
       "    \n",
       "            &lt;div class=&quot;folium-map&quot; id=&quot;map_3bd0603abeccb8b527caf56f3b7f3b44&quot; &gt;&lt;/div&gt;\n",
       "        \n",
       "&lt;/body&gt;\n",
       "&lt;script&gt;\n",
       "    \n",
       "    \n",
       "            var map_3bd0603abeccb8b527caf56f3b7f3b44 = L.map(\n",
       "                &quot;map_3bd0603abeccb8b527caf56f3b7f3b44&quot;,\n",
       "                {\n",
       "                    center: [-33.457606, -65.346857],\n",
       "                    crs: L.CRS.EPSG3857,\n",
       "                    ...{\n",
       "  &quot;zoom&quot;: 5,\n",
       "  &quot;zoomControl&quot;: true,\n",
       "  &quot;preferCanvas&quot;: false,\n",
       "  &quot;name&quot;: &quot;es&quot;,\n",
       "}\n",
       "\n",
       "                }\n",
       "            );\n",
       "            L.control.scale().addTo(map_3bd0603abeccb8b527caf56f3b7f3b44);\n",
       "\n",
       "            \n",
       "\n",
       "        \n",
       "    \n",
       "            var tile_layer_375c1480f29c3589d1c2809b108967d8 = L.tileLayer(\n",
       "                &quot;https://wms.ign.gob.ar/geoserver/gwc/service/tms/1.0.0/capabaseargenmap@EPSG%3A3857@png/{z}/{x}/{-y}.png&quot;,\n",
       "                {\n",
       "  &quot;minZoom&quot;: 0,\n",
       "  &quot;maxZoom&quot;: 18,\n",
       "  &quot;maxNativeZoom&quot;: 18,\n",
       "  &quot;noWrap&quot;: false,\n",
       "  &quot;attribution&quot;: &quot;\\u0026copy; \\u003ca href=\\&quot;https://www.openstreetmap.org/copyright\\&quot;\\u003eOpenStreetMap\\u003c/a\\u003e contributors, \\u0026copy; \\u003ca href=\\&quot;https://cartodb.com/attributions\\&quot;\\u003eCartoDB\\u003c/a\\u003e&quot;,\n",
       "  &quot;subdomains&quot;: &quot;abc&quot;,\n",
       "  &quot;detectRetina&quot;: false,\n",
       "  &quot;tms&quot;: false,\n",
       "  &quot;opacity&quot;: 1,\n",
       "}\n",
       "\n",
       "            );\n",
       "        \n",
       "    \n",
       "            tile_layer_375c1480f29c3589d1c2809b108967d8.addTo(map_3bd0603abeccb8b527caf56f3b7f3b44);\n",
       "        \n",
       "&lt;/script&gt;\n",
       "&lt;/html&gt;\" style=\"position:absolute;width:100%;height:100%;left:0;top:0;border:none !important;\" allowfullscreen webkitallowfullscreen mozallowfullscreen></iframe></div></div>"
      ],
      "text/plain": [
       "<folium.folium.Map at 0x7f4d6beb1390>"
      ]
     },
     "execution_count": 43,
     "metadata": {},
     "output_type": "execute_result"
    }
   ],
   "source": [
    "mapa = generar_mapa()\n",
    "mapa"
   ]
  },
  {
   "cell_type": "markdown",
   "id": "58ec513e-165b-4d10-81b6-f822ad1c27bc",
   "metadata": {},
   "source": [
    "## 📌 Paso 2. Definir la función para  agregar los puntos"
   ]
  },
  {
   "cell_type": "code",
   "execution_count": 44,
   "id": "9f3b6e0e-2b1d-4af7-9426-c86455526975",
   "metadata": {},
   "outputs": [],
   "source": [
    "def agregar_marca_area(row):\n",
    "    folium.Marker(\n",
    "        [row['lat'], row['lng']],\n",
    "        popup=row['gna'],   \n",
    "        icon=folium.Icon()\n",
    "    ).add_to(mapa)\n"
   ]
  },
  {
   "cell_type": "code",
   "execution_count": 47,
   "id": "fd68ed08-6207-4f1d-b7c2-cdbf51a59eec",
   "metadata": {},
   "outputs": [
    {
     "ename": "NameError",
     "evalue": "name 'maximo' is not defined",
     "output_type": "error",
     "traceback": [
      "\u001b[0;31m---------------------------------------------------------------------------\u001b[0m",
      "\u001b[0;31mNameError\u001b[0m                                 Traceback (most recent call last)",
      "Cell \u001b[0;32mIn[47], line 1\u001b[0m\n\u001b[0;32m----> 1\u001b[0m \u001b[43mmaximo\u001b[49m\u001b[38;5;241m.\u001b[39mapply(agregar_marca_area, axis\u001b[38;5;241m=\u001b[39m\u001b[38;5;241m1\u001b[39m)\n\u001b[1;32m      2\u001b[0m mapa\n",
      "\u001b[0;31mNameError\u001b[0m: name 'maximo' is not defined"
     ]
    }
   ],
   "source": [
    "SantaCruz_lat.apply(agregar_marca_area, axis=1)\n",
    "mapa"
   ]
  },
  {
   "cell_type": "markdown",
   "id": "7fa5ddf8-793b-40a6-b9c0-611be2368854",
   "metadata": {},
   "source": [
    "## 📌 Paso 3. Agrergar los puntos al mapa"
   ]
  },
  {
   "cell_type": "markdown",
   "id": "92e99e55",
   "metadata": {},
   "source": [
    "filtre con dos condiciones para"
   ]
  },
  {
   "cell_type": "code",
   "execution_count": 42,
   "id": "f053916b-b630-4aa1-bf12-c95f699711a5",
   "metadata": {},
   "outputs": [],
   "source": [
    "\n",
    "SantaCruz_lat = area[(area[\"lat\"]<-46.4122422155)&(area [\"lat\"]>-52.3473518344999)]"
   ]
  },
  {
   "cell_type": "code",
   "execution_count": null,
   "id": "b4aa4fc2-b5ad-4f98-b2a0-18c273823832",
   "metadata": {},
   "outputs": [],
   "source": []
  }
 ],
 "metadata": {
  "kernelspec": {
   "display_name": "Python 3 (ipykernel)",
   "language": "python",
   "name": "python3"
  },
  "language_info": {
   "codemirror_mode": {
    "name": "ipython",
    "version": 3
   },
   "file_extension": ".py",
   "mimetype": "text/x-python",
   "name": "python",
   "nbconvert_exporter": "python",
   "pygments_lexer": "ipython3",
   "version": "3.11.7"
  }
 },
 "nbformat": 4,
 "nbformat_minor": 5
}
