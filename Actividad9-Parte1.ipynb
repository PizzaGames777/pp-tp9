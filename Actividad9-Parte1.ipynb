{
 "cells": [
  {
   "cell_type": "markdown",
   "id": "0d33664f-6d32-4f66-baf7-5cc4c4c25d69",
   "metadata": {},
   "source": [
    "# Actividad 9\n",
    "# 🔍 Parte 1: Análisis de Lagos Argentinos con Python\n",
    "Objetivo: Repasar manipulación de datos con Pandas e introducir valores nulos y mapas con Folium.\n",
    "\n"
   ]
  },
  {
   "cell_type": "markdown",
   "id": "0e0b8025-f70f-4327-9987-b8c1d99a2ce9",
   "metadata": {},
   "source": [
    "#  La información de nuestros datos \n",
    "* ¿Cómo comunicamos la información analizada sobre los datos?\n",
    "* ¿Cómo conocemos la composición de los datos?\n",
    "* ¿Qué recursos podemos usar para comunicar los resultados de los análisis?:\n",
    "    * Cantidad de lagos por provincia.\n",
    "    * Cantidad de lagos por tamaño.\n",
    "  "
   ]
  },
  {
   "cell_type": "markdown",
   "id": "88662355-e8f2-4c2a-869e-9867649e5fd3",
   "metadata": {},
   "source": [
    "# ✅ Etapa 1: Exploración Básica (10 min)\n",
    "* Consigna 1: Cargá el dataset y utiliza las operaciones básicas para conocer el contenido del dataset:\n",
    "* [Lagos Argentinos](https://archivos.linti.unlp.edu.ar/index.php/s/LBNPS7EdmNSwt8z).\n",
    "    * Nombre del archivo: lagos_arg.csv\n",
    "    * Descargado de: https://www.ign.gob.ar/NuestrasActividades/Geografia/DatosArgentina/Lagos\n",
    "* Cantidad de filas y columans\n",
    "* Nombres de las columnas\n",
    "* Tipos de datos de las columnas\n",
    "* Ver las primeras 10 filas del dataset"
   ]
  },
  {
   "cell_type": "markdown",
   "id": "a568ff9c-e2f7-44cf-8d81-6795e289dfd2",
   "metadata": {},
   "source": [
    "## La cantidad de filas y columnas del dataset"
   ]
  },
  {
   "cell_type": "code",
   "execution_count": null,
   "id": "0b6ac24f-ec93-4c01-ac05-95810d6385c4",
   "metadata": {},
   "outputs": [],
   "source": []
  },
  {
   "cell_type": "markdown",
   "id": "f8e8d497-efb8-4678-9e52-0c9d141cd6c1",
   "metadata": {},
   "source": [
    "## Nombres de las columnas"
   ]
  },
  {
   "cell_type": "code",
   "execution_count": null,
   "id": "cf1f7664-4ae3-4a43-9ffc-0f72af6b93d5",
   "metadata": {},
   "outputs": [],
   "source": []
  },
  {
   "cell_type": "markdown",
   "id": "93b30bb2-9b7f-4211-81a1-3ae8a2c2c3d1",
   "metadata": {},
   "source": [
    "## Tipo de datos de las columnas"
   ]
  },
  {
   "cell_type": "markdown",
   "id": "cc56a499-0f42-4643-9425-5d3660b3b156",
   "metadata": {},
   "source": [
    "## Primeras 10 filas del dataset"
   ]
  },
  {
   "cell_type": "code",
   "execution_count": null,
   "id": "42ec31f6-20c4-40d2-8abc-fd15ba40dabb",
   "metadata": {},
   "outputs": [],
   "source": []
  },
  {
   "cell_type": "markdown",
   "id": "2f4d05fa-4676-4b54-8e55-8399b2d080f9",
   "metadata": {},
   "source": [
    "# ✅ Etapa 2: Análisis por Provincia (15 min)\n",
    "* ¿En qué provincias hay lagos?\n",
    "* Cantidad de Lagos por provincia.\n",
    "* Gráfico de torta sobre la cantidad de lagos provincia.\n",
    "* Gráfico de barra sobre la cantidad de lagos provincia."
   ]
  },
  {
   "cell_type": "markdown",
   "id": "43cb70b5-4189-4527-a86e-2e51a36be85c",
   "metadata": {},
   "source": [
    "## Cantidad de Lagos por provincia"
   ]
  },
  {
   "cell_type": "code",
   "execution_count": null,
   "id": "e2be9437-6584-4909-a5d5-3007c389b44a",
   "metadata": {},
   "outputs": [],
   "source": []
  },
  {
   "cell_type": "markdown",
   "id": "c3b7af8f-a73a-44f6-9976-a133ac8c55a4",
   "metadata": {},
   "source": [
    "## Gráfico de torta sobre la cantidad de lagos provincia"
   ]
  },
  {
   "cell_type": "code",
   "execution_count": null,
   "id": "53adb724-70df-416e-90e8-879ec833a328",
   "metadata": {},
   "outputs": [],
   "source": [
    "import plotly.express as px"
   ]
  },
  {
   "cell_type": "code",
   "execution_count": null,
   "id": "0fe236b0-02df-4274-bb4e-61280feee90b",
   "metadata": {},
   "outputs": [],
   "source": []
  },
  {
   "cell_type": "markdown",
   "id": "07a14e63-0f98-4ae2-9a81-a93dc22cb899",
   "metadata": {},
   "source": [
    "## Gráfico de barra sobre la cantidad de lagos provincia"
   ]
  },
  {
   "cell_type": "markdown",
   "id": "13e0deeb-4031-4abc-8924-6b9c71d0eecd",
   "metadata": {},
   "source": []
  },
  {
   "cell_type": "markdown",
   "id": "a1c6b989-d175-429e-8cd1-b22b03dbb5ea",
   "metadata": {},
   "source": [
    "## ¿En qué provincias hay lagos?"
   ]
  },
  {
   "cell_type": "code",
   "execution_count": null,
   "id": "b004f829-6032-4235-93ec-8ece18fe66e4",
   "metadata": {},
   "outputs": [],
   "source": []
  },
  {
   "cell_type": "markdown",
   "id": "2a30678d-10d9-4404-8403-a1ca046ef279",
   "metadata": {},
   "source": [
    "# ✅ Etapa 3: Filtrar y Limpiar Datos (15 min)\n",
    "* Mostrar los lagos que son de la provincia de Neuquén. **Nota**: no te olvides de incluir el lago que está compartido con otra provincia, (isin([\"Neuquén\", \"Río Negro / Neuquén\"])]\n",
    "* Mostrar cómo modificaríamos si nos piden  reemplazar el valor de 'Río Negro / Neuquén' **por** 'Neuquén'?\n",
    "* Filtrá los lagos de Chubut con superficie menor a 10 km². **Nota**: dataframe[(condición1) & (condición2)]"
   ]
  },
  {
   "cell_type": "markdown",
   "id": "0678b9c1-f26f-4e75-9c9c-e9e15c7a624b",
   "metadata": {},
   "source": [
    "### Mostrar los lagos que son de la provincia de Neuquén"
   ]
  },
  {
   "cell_type": "code",
   "execution_count": null,
   "id": "9fd4a8b8-b816-4b34-b56b-d60f42ef88b1",
   "metadata": {},
   "outputs": [],
   "source": []
  },
  {
   "cell_type": "markdown",
   "id": "9da4cafe-0eaf-43e4-be94-f8ec1e2d332c",
   "metadata": {},
   "source": [
    "## Mostrar cómo modificaríamos si nos piden  reemplazar el valor de 'Río Negro / Neuquén' **por** 'Neuquén'?"
   ]
  },
  {
   "cell_type": "code",
   "execution_count": null,
   "id": "12642ec7-deab-4154-8264-c4c2a83665bc",
   "metadata": {},
   "outputs": [],
   "source": []
  },
  {
   "cell_type": "markdown",
   "id": "47079f37-82d5-4a36-be20-3ae71844e05d",
   "metadata": {},
   "source": [
    "## Filtrá los lagos de Chubut con superficie menor a 10 km²"
   ]
  },
  {
   "cell_type": "code",
   "execution_count": null,
   "id": "81cac15c-51e4-48f7-9dc0-3dafb33e9e36",
   "metadata": {},
   "outputs": [],
   "source": []
  },
  {
   "cell_type": "markdown",
   "id": "53035ae7-aaf2-4569-9b8c-bf19c08ffc99",
   "metadata": {},
   "source": [
    "# ✅ Etapa 4: Valores Nulos y Estadísticas (10 min)\n",
    "* ¿Qué podemos analizar sobre los valores de la profundidad máxima y media de los lagos?\n",
    "* ¿Entre qué valores están ambas mediciones? **Nota**: describe().\n",
    "* Realicemos un gráfico de barras para comparar **Profundidad máxima** y **Profundidad media** de los lagos.\n",
    "    \n",
    "* ¿Hay valores nulos? **Nota**: info().\n",
    "* Investigar sobre gráficos tipo scatter o dispersión."
   ]
  },
  {
   "cell_type": "markdown",
   "id": "312d39ea-e0ba-4e78-a42a-fb5081e89a95",
   "metadata": {},
   "source": [
    "## ¿Qué podemos analizar sobre los valores de la profundidad máxima y media de los lagos?\n"
   ]
  },
  {
   "cell_type": "code",
   "execution_count": null,
   "id": "8e4c4476-396a-48b3-b499-c721a12049ba",
   "metadata": {},
   "outputs": [],
   "source": []
  },
  {
   "cell_type": "markdown",
   "id": "a14ca8ea-cc19-4e93-987c-1d5b8a4c5212",
   "metadata": {},
   "source": [
    "##  ¿Entre qué valores están ambas mediciones?"
   ]
  },
  {
   "cell_type": "code",
   "execution_count": null,
   "id": "6e554735-3c93-4cfd-a9da-f176ac7d026d",
   "metadata": {},
   "outputs": [],
   "source": []
  },
  {
   "cell_type": "markdown",
   "id": "95c3053d-160e-405e-9729-ff61076389fa",
   "metadata": {},
   "source": [
    "## Realicemos un gráfico para comparar **Profundidad máxima** y **Profundidad media** de los lagos."
   ]
  },
  {
   "cell_type": "code",
   "execution_count": null,
   "id": "12fa85cc-9cb9-4e15-8aef-db40245d7207",
   "metadata": {},
   "outputs": [],
   "source": [
    "import plotly.express as px\n",
    "fig = px.bar(completar, \n",
    "             x=\"Nombre\", \n",
    "             y=[\"nombre columna1\", \"nombre columna2\"],\n",
    "             barmode='group',\n",
    "             title=\"Comparación de Profundidades de Lagos\",\n",
    "             labels={\"value\": \"Metros\", \"variable\": \"Tipo de Profundidad\"},\n",
    "             color_discrete_sequence=[\"#1E90FF\", \"#00BFFF\"])\n",
    "\n",
    "fig.show()"
   ]
  },
  {
   "cell_type": "markdown",
   "id": "222d10e8-8318-4585-8683-e8b4a8828621",
   "metadata": {},
   "source": [
    "¿Qué pasa en con los datos de algunos lagos?"
   ]
  },
  {
   "cell_type": "markdown",
   "id": "b693802b-7a8f-4917-920d-ab434af4730f",
   "metadata": {},
   "source": [
    "## ¿Hay valores nulos? **Nota**: info()"
   ]
  },
  {
   "cell_type": "code",
   "execution_count": null,
   "id": "dcd79dac-72cb-48b8-9e6d-5c8134956552",
   "metadata": {},
   "outputs": [],
   "source": []
  },
  {
   "cell_type": "markdown",
   "id": "104e9cf7-e658-4b24-976c-251da55926a7",
   "metadata": {},
   "source": [
    "## Gráfico de dispersión"
   ]
  },
  {
   "cell_type": "markdown",
   "id": "b6b035d8-62c7-4e52-95c0-fad1a8dd2697",
   "metadata": {},
   "source": [
    "¿Qué datos compara este gráfico?"
   ]
  },
  {
   "cell_type": "code",
   "execution_count": null,
   "id": "dbb9201b-b068-4bb1-ad7a-ae6df39c358d",
   "metadata": {},
   "outputs": [],
   "source": [
    "fig = px.scatter(lagos, \n",
    "                 x=\"Profundidad media (m)\", \n",
    "                 y=\"Superficie (km²)\",\n",
    "                 \n",
    "                 title=\"Relación: Profundidad Media vs. Superficie\")  \n",
    "\n",
    "fig.update_traces(textposition='top center', marker=dict(size=12))\n",
    "fig.show()"
   ]
  },
  {
   "cell_type": "markdown",
   "id": "70403da3-ab22-4fd7-b655-a345dec601ea",
   "metadata": {},
   "source": [
    "Modificar el gráfico para que compare la longitud y la Superficie."
   ]
  },
  {
   "cell_type": "code",
   "execution_count": null,
   "id": "53de3173-63fd-4913-ac25-345b16909f7f",
   "metadata": {},
   "outputs": [],
   "source": []
  },
  {
   "cell_type": "markdown",
   "id": "a7a928ab-7b96-46b2-bd10-72413bb559fb",
   "metadata": {},
   "source": [
    "# ✅ Etapa 5: Visualización con Mapas (15 min)\n",
    "* Otro recurso para visualizar datos geolocalizados son los mapas.\n",
    "* Mostrar todos los lagos en un mapa.\n",
    "* Mostrar los lagos de Chubut solamente.\n",
    "* Mostrar los lagos con color según su tamaño.\n",
    "* Mostrar los datos de otro dataset.\n"
   ]
  },
  {
   "cell_type": "markdown",
   "id": "064068da-348e-4c50-8288-9600f3dc9db8",
   "metadata": {},
   "source": [
    "## La librería folium nos permite mostrar datos en mapas"
   ]
  },
  {
   "cell_type": "code",
   "execution_count": null,
   "id": "89ec42f7-dd1f-44a2-aafc-ef629138535a",
   "metadata": {},
   "outputs": [],
   "source": [
    "import folium"
   ]
  },
  {
   "cell_type": "markdown",
   "id": "098ef78a-5282-474e-840b-7fb6cb64386c",
   "metadata": {},
   "source": [
    "* ¿Qué datos nos indican un punto geográfico en un mapa?\n",
    "* ¿En qué columnas están estos datos?"
   ]
  },
  {
   "cell_type": "code",
   "execution_count": null,
   "id": "23ced665-e68d-48ab-acb0-923dcefc9fe0",
   "metadata": {},
   "outputs": [],
   "source": []
  },
  {
   "cell_type": "markdown",
   "id": "0e27d20e-c70f-4bf4-b6fc-05e5df1e8bee",
   "metadata": {},
   "source": [
    "## 📌 Paso 1.Vamos a generar un mapa **base** para luego agregar los puntos\n",
    "* Esta función configura un mapa para mostrar de la República Argentina, realizados por [Instituto Geográfico Nacional](https://www.ign.gob.ar/)\n",
    "* ¿Sabemos qué es una funciòn?"
   ]
  },
  {
   "cell_type": "code",
   "execution_count": null,
   "id": "b172e03e-f8c0-4a27-afc8-02258770c53b",
   "metadata": {},
   "outputs": [],
   "source": [
    "def generar_mapa():\n",
    "    attr = (\n",
    "        '&copy; <a href=\"https://www.openstreetmap.org/copyright\">OpenStreetMap</a> '\n",
    "        'contributors, &copy; <a href=\"https://cartodb.com/attributions\">CartoDB</a>'\n",
    "    )\n",
    "    \n",
    "    tiles = 'https://wms.ign.gob.ar/geoserver/gwc/service/tms/1.0.0/capabaseargenmap@EPSG%3A3857@png/{z}/{x}/{-y}.png'\n",
    "    m = folium.Map(\n",
    "        location=(-33.457606, -65.346857),\n",
    "        control_scale=True,\n",
    "        zoom_start=5,\n",
    "        name='es',\n",
    "        tiles=tiles,\n",
    "        attr=attr\n",
    "    )\n",
    "    return m"
   ]
  },
  {
   "cell_type": "markdown",
   "id": "c14796d7-45fa-489f-befe-9c8f8fa655ef",
   "metadata": {},
   "source": [
    "Usamos la función **generar_mapa** para tener nuestro mapa base"
   ]
  },
  {
   "cell_type": "code",
   "execution_count": null,
   "id": "917c2725-8d45-4d73-96b6-599a98a5397c",
   "metadata": {},
   "outputs": [],
   "source": [
    "mapa = generar_mapa()"
   ]
  },
  {
   "cell_type": "markdown",
   "id": "89141300-f394-47da-bf9c-7a5efb823b59",
   "metadata": {},
   "source": [
    "La variable **mapa** es nuestro mapa **base**"
   ]
  },
  {
   "cell_type": "markdown",
   "id": "29aedcd8-dee5-408e-9bf2-c2c2a1e005cb",
   "metadata": {},
   "source": [
    "## 📌 Paso 2. Definimos la función para poder agregar los puntos:\n",
    "En la celda de abajo pusimos el código de la función que permnite agregar los puntos:\n",
    "\n",
    "* la función **agregar_marca_lago** recibe cada fila e indicamos  los puntos que se encuentran en las columnas de las **coordenadas** de esta forma.\n",
    "```python\n",
    "[row['latitud'], row['longitud']],\n",
    "```\n",
    "* queremos que muestre el nombre del lago cuando hacemos clic sobre cada icono, ponemos el nombre de la columna **Nombre**,  donde se encuentra **ese dato**.\n",
    "```python\n",
    "popup=row['Nombre']\n",
    "```\n"
   ]
  },
  {
   "cell_type": "code",
   "execution_count": 12,
   "id": "9b8a3cbc-be01-4a7f-aa40-fece50fa9b4b",
   "metadata": {},
   "outputs": [],
   "source": [
    "def agregar_marca_lago(row):\n",
    "    folium.Marker(\n",
    "        [row['completar'], row['completar']],\n",
    "        popup=row['Nombre'],\n",
    "        icon=folium.Icon()\n",
    "        ).add_to(mapa)\n",
    "\n"
   ]
  },
  {
   "cell_type": "markdown",
   "id": "67f5027f-ee9d-4928-a380-1c6da8180198",
   "metadata": {},
   "source": [
    "## 📌 Paso 3. Agregamos los puntos al mapa:"
   ]
  },
  {
   "cell_type": "markdown",
   "id": "33df4c27-8ec1-424b-8900-ecb7ec4aa328",
   "metadata": {},
   "source": [
    "En la celda de abajo pusimos el código para poder agregar los puntos,  lo más importante para tener en cuenta:\n",
    "* el nombre de la variable que contiene los datos de los lagos **lagos** y para que agregue los puntos usamos:\n",
    "    * ```python\n",
    "      lagos.apply(nombre_funcion, axis=1)\n",
    "      ```\n",
    "* por úlitmo, mostramos el mapa, escribiendo el nombre de la variable del mapa."
   ]
  },
  {
   "cell_type": "code",
   "execution_count": null,
   "id": "c3a7e44a-37c6-46fb-a499-1796b2b2193c",
   "metadata": {},
   "outputs": [],
   "source": [
    "lagos.apply(agregar_marca_lago, axis=1)\n",
    "mapa"
   ]
  },
  {
   "cell_type": "markdown",
   "id": "132d5bc6-c287-471b-85bb-348560bd51dc",
   "metadata": {},
   "source": [
    "## Mostrar en un mapa los lagos de Chubut"
   ]
  },
  {
   "cell_type": "code",
   "execution_count": null,
   "id": "6b6abe97-12d8-4822-b436-fda020a14e30",
   "metadata": {},
   "outputs": [],
   "source": []
  },
  {
   "cell_type": "markdown",
   "id": "d0459b9d-6bb8-42e7-ab6f-984cd47704a3",
   "metadata": {},
   "source": [
    "## Mostrar los lagos con iconos de colores según su tamaño"
   ]
  },
  {
   "cell_type": "markdown",
   "id": "fd505695-f16e-439e-8761-a5b9d81c53f0",
   "metadata": {},
   "source": [
    "* ¿En qué columna están con valores categorizados los tamaños de los lagos?\n",
    "* ¿Cuáles son los tamaños?"
   ]
  },
  {
   "cell_type": "code",
   "execution_count": null,
   "id": "c04368c6-75c7-4f2f-af65-ba47f678c7a6",
   "metadata": {},
   "outputs": [],
   "source": []
  },
  {
   "cell_type": "code",
   "execution_count": null,
   "id": "d989c407-2755-4ddd-a3cc-b515655f82e1",
   "metadata": {},
   "outputs": [],
   "source": []
  },
  {
   "cell_type": "code",
   "execution_count": null,
   "id": "2a7d25ec-1ebc-4c18-bf84-08bd83ea2dc2",
   "metadata": {},
   "outputs": [],
   "source": [
    "def agregar_marca_lago(row):\n",
    "    colores = {'tamaño1': 'red', 'tamaño2': 'blue', 'tamaño3': 'green'}\n",
    "    color = colores.get(row['Sup Tamaño'], 'gray')\n",
    "    folium.CircleMarker( \n",
    "        location=[row['lat'], row['lng']],\n",
    "        radius=6,\n",
    "        color=color,\n",
    "        fill=True,\n",
    "        popup=row['Nombre']\n",
    "        ).add_to(mapa)\n"
   ]
  },
  {
   "cell_type": "code",
   "execution_count": null,
   "id": "45dc0b52-5ded-42c8-993b-aeb22cc43147",
   "metadata": {},
   "outputs": [],
   "source": [
    "lagos.apply(agregar_marca_lago, axis=1)\n",
    "mapa"
   ]
  }
 ],
 "metadata": {
  "kernelspec": {
   "display_name": "Python 3 (ipykernel)",
   "language": "python",
   "name": "python3"
  },
  "language_info": {
   "codemirror_mode": {
    "name": "ipython",
    "version": 3
   },
   "file_extension": ".py",
   "mimetype": "text/x-python",
   "name": "python",
   "nbconvert_exporter": "python",
   "pygments_lexer": "ipython3",
   "version": "3.10.12"
  }
 },
 "nbformat": 4,
 "nbformat_minor": 5
}
