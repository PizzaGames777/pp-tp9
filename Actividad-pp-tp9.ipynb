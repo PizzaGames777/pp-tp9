{
 "cells": [
  {
   "cell_type": "markdown",
   "id": "0d33664f-6d32-4f66-baf7-5cc4c4c25d69",
   "metadata": {},
   "source": [
    "# Actividad 9\n",
    "# 🔍 Parte 1: Análisis de Lagos Argentinos con Python\n",
    "Objetivo: Repasar manipulación de datos con Pandas e introducir valores nulos y mapas con Folium.\n",
    "\n"
   ]
  },
  {
   "cell_type": "markdown",
   "id": "0e0b8025-f70f-4327-9987-b8c1d99a2ce9",
   "metadata": {},
   "source": [
    "#  La información de nuestros datos \n",
    "* ¿Cómo comunicamos la información analizada sobre los datos?\n",
    "* ¿Cómo conocemos la composición de los datos?\n",
    "* ¿Qué recursos podemos usar para comunicar los resultados de los análisis?:\n",
    "    * Cantidad de lagos por provincia.\n",
    "    * Cantidad de lagos por tamaño.\n",
    "  "
   ]
  },
  {
   "cell_type": "raw",
   "id": "326d42f9-b3e4-4fd8-9fc0-f8b5ae03814a",
   "metadata": {},
   "source": [
    "# Cómo comunicamos la información analizada\n",
    "\n",
    "* La información de los datos se comunica de manera clara y visual para que otros puedan entender los hallazgos sin necesidad de revisar el dataset completo. Esto se puede hacer mediante:\n",
    "\n",
    "Resúmenes estadísticos (media, mínimo, máximo, etc.).\n",
    "\n",
    "Tablas que muestren cantidades o frecuencias de elementos.\n",
    "\n",
    "Gráficos que representen visualmente comparaciones o tendencias.\n",
    "\n",
    "# Cómo conocemos la composición de los datos\n",
    "\n",
    "* Para entender qué contienen los datos, se analizan las columnas relevantes:\n",
    "\n",
    "Por ejemplo, la provincia permite saber la distribución geográfica de los lagos.\n",
    "\n",
    "La superficie nos indica el tamaño de los lagos y nos ayuda a clasificarlos en pequeños, medianos o grandes.\n",
    "\n",
    "Herramientas útiles:\n",
    "\n",
    "value_counts() para ver cuántos lagos hay por provincia o por tamaño.\n",
    "\n",
    "describe() para obtener estadísticas básicas de columnas numéricas.  \n",
    "\n",
    "# Recursos para comunicar los resultados\n",
    "* Tablas de frecuencia: muestran de manera ordenada la cantidad de lagos por provincia o por rango de superficie.\n",
    "\n",
    "Gráficos de barras: ideales para comparar cantidades entre provincias o categorías de tamaños.\n",
    "\n",
    "Gráficos de torta/pie: útiles para mostrar proporciones relativas, como qué porcentaje de lagos pertenece a cada provincia.\n",
    "\n",
    "Listados ordenados: permiten identificar rápidamente los lagos más grandes o más pequeños.    "
   ]
  },
  {
   "cell_type": "markdown",
   "id": "88662355-e8f2-4c2a-869e-9867649e5fd3",
   "metadata": {},
   "source": [
    "# ✅ Etapa 1: Exploración Básica (10 min)\n",
    "* Consigna 1: Cargá el dataset y utiliza las operaciones básicas para conocer el contenido del dataset:\n",
    "* [Lagos Argentinos](https://archivos.linti.unlp.edu.ar/index.php/s/LBNPS7EdmNSwt8z).\n",
    "    * Nombre del archivo: lagos_arg.csv\n",
    "    * Descargado de: https://www.ign.gob.ar/NuestrasActividades/Geografia/DatosArgentina/Lagos\n",
    "* Cantidad de filas y columans\n",
    "* Nombres de las columnas\n",
    "* Tipos de datos de las columnas\n",
    "* Ver las primeras 10 filas del dataset"
   ]
  },
  {
   "cell_type": "markdown",
   "id": "a568ff9c-e2f7-44cf-8d81-6795e289dfd2",
   "metadata": {},
   "source": [
    "## La cantidad de filas y columnas del dataset"
   ]
  },
  {
   "cell_type": "code",
   "execution_count": 7,
   "id": "97e677c8-a6db-4a8d-842c-6bdb496b2a97",
   "metadata": {},
   "outputs": [
    {
     "name": "stdout",
     "output_type": "stream",
     "text": [
      "Collecting plotly\n",
      "  Downloading plotly-6.3.0-py3-none-any.whl.metadata (8.5 kB)\n",
      "Requirement already satisfied: narwhals>=1.15.1 in ./env/lib/python3.13/site-packages (from plotly) (2.1.2)\n",
      "Requirement already satisfied: packaging in ./env/lib/python3.13/site-packages (from plotly) (25.0)\n",
      "Downloading plotly-6.3.0-py3-none-any.whl (9.8 MB)\n",
      "\u001b[2K   \u001b[38;2;114;156;31m━━━━━━━━━━━━━━━━━━━━━━━━━━━━━━━━━━━━━━━━\u001b[0m \u001b[32m9.8/9.8 MB\u001b[0m \u001b[31m3.9 MB/s\u001b[0m eta \u001b[36m0:00:00\u001b[0mm eta \u001b[36m0:00:01\u001b[0m0:01\u001b[0m:01\u001b[0m\n",
      "\u001b[?25hInstalling collected packages: plotly\n",
      "Successfully installed plotly-6.3.0\n"
     ]
    }
   ],
   "source": [
    "!pip install plotly"
   ]
  },
  {
   "cell_type": "code",
   "execution_count": 1,
   "id": "0b6ac24f-ec93-4c01-ac05-95810d6385c4",
   "metadata": {},
   "outputs": [
    {
     "ename": "FileNotFoundError",
     "evalue": "[Errno 2] No such file or directory: 'lagos_arg.csv'",
     "output_type": "error",
     "traceback": [
      "\u001b[0;31m---------------------------------------------------------------------------\u001b[0m",
      "\u001b[0;31mFileNotFoundError\u001b[0m                         Traceback (most recent call last)",
      "Cell \u001b[0;32mIn[1], line 3\u001b[0m\n\u001b[1;32m      1\u001b[0m \u001b[38;5;28;01mimport\u001b[39;00m \u001b[38;5;21;01mpandas\u001b[39;00m \u001b[38;5;28;01mas\u001b[39;00m \u001b[38;5;21;01mpd\u001b[39;00m\n\u001b[1;32m      2\u001b[0m \u001b[38;5;28;01mimport\u001b[39;00m \u001b[38;5;21;01mplotly\u001b[39;00m\u001b[38;5;21;01m.\u001b[39;00m\u001b[38;5;21;01mexpress\u001b[39;00m \u001b[38;5;28;01mas\u001b[39;00m \u001b[38;5;21;01mpx\u001b[39;00m\n\u001b[0;32m----> 3\u001b[0m lagos \u001b[38;5;241m=\u001b[39m \u001b[43mpd\u001b[49m\u001b[38;5;241;43m.\u001b[39;49m\u001b[43mread_csv\u001b[49m\u001b[43m(\u001b[49m\u001b[38;5;124;43m\"\u001b[39;49m\u001b[38;5;124;43mlagos_arg.csv\u001b[39;49m\u001b[38;5;124;43m\"\u001b[39;49m\u001b[43m)\u001b[49m\n",
      "File \u001b[0;32m/usr/local/lib/python3.11/dist-packages/pandas/util/_decorators.py:211\u001b[0m, in \u001b[0;36mdeprecate_kwarg.<locals>._deprecate_kwarg.<locals>.wrapper\u001b[0;34m(*args, **kwargs)\u001b[0m\n\u001b[1;32m    209\u001b[0m     \u001b[38;5;28;01melse\u001b[39;00m:\n\u001b[1;32m    210\u001b[0m         kwargs[new_arg_name] \u001b[38;5;241m=\u001b[39m new_arg_value\n\u001b[0;32m--> 211\u001b[0m \u001b[38;5;28;01mreturn\u001b[39;00m \u001b[43mfunc\u001b[49m\u001b[43m(\u001b[49m\u001b[38;5;241;43m*\u001b[39;49m\u001b[43margs\u001b[49m\u001b[43m,\u001b[49m\u001b[43m \u001b[49m\u001b[38;5;241;43m*\u001b[39;49m\u001b[38;5;241;43m*\u001b[39;49m\u001b[43mkwargs\u001b[49m\u001b[43m)\u001b[49m\n",
      "File \u001b[0;32m/usr/local/lib/python3.11/dist-packages/pandas/util/_decorators.py:331\u001b[0m, in \u001b[0;36mdeprecate_nonkeyword_arguments.<locals>.decorate.<locals>.wrapper\u001b[0;34m(*args, **kwargs)\u001b[0m\n\u001b[1;32m    325\u001b[0m \u001b[38;5;28;01mif\u001b[39;00m \u001b[38;5;28mlen\u001b[39m(args) \u001b[38;5;241m>\u001b[39m num_allow_args:\n\u001b[1;32m    326\u001b[0m     warnings\u001b[38;5;241m.\u001b[39mwarn(\n\u001b[1;32m    327\u001b[0m         msg\u001b[38;5;241m.\u001b[39mformat(arguments\u001b[38;5;241m=\u001b[39m_format_argument_list(allow_args)),\n\u001b[1;32m    328\u001b[0m         \u001b[38;5;167;01mFutureWarning\u001b[39;00m,\n\u001b[1;32m    329\u001b[0m         stacklevel\u001b[38;5;241m=\u001b[39mfind_stack_level(),\n\u001b[1;32m    330\u001b[0m     )\n\u001b[0;32m--> 331\u001b[0m \u001b[38;5;28;01mreturn\u001b[39;00m \u001b[43mfunc\u001b[49m\u001b[43m(\u001b[49m\u001b[38;5;241;43m*\u001b[39;49m\u001b[43margs\u001b[49m\u001b[43m,\u001b[49m\u001b[43m \u001b[49m\u001b[38;5;241;43m*\u001b[39;49m\u001b[38;5;241;43m*\u001b[39;49m\u001b[43mkwargs\u001b[49m\u001b[43m)\u001b[49m\n",
      "File \u001b[0;32m/usr/local/lib/python3.11/dist-packages/pandas/io/parsers/readers.py:950\u001b[0m, in \u001b[0;36mread_csv\u001b[0;34m(filepath_or_buffer, sep, delimiter, header, names, index_col, usecols, squeeze, prefix, mangle_dupe_cols, dtype, engine, converters, true_values, false_values, skipinitialspace, skiprows, skipfooter, nrows, na_values, keep_default_na, na_filter, verbose, skip_blank_lines, parse_dates, infer_datetime_format, keep_date_col, date_parser, dayfirst, cache_dates, iterator, chunksize, compression, thousands, decimal, lineterminator, quotechar, quoting, doublequote, escapechar, comment, encoding, encoding_errors, dialect, error_bad_lines, warn_bad_lines, on_bad_lines, delim_whitespace, low_memory, memory_map, float_precision, storage_options)\u001b[0m\n\u001b[1;32m    935\u001b[0m kwds_defaults \u001b[38;5;241m=\u001b[39m _refine_defaults_read(\n\u001b[1;32m    936\u001b[0m     dialect,\n\u001b[1;32m    937\u001b[0m     delimiter,\n\u001b[0;32m   (...)\u001b[0m\n\u001b[1;32m    946\u001b[0m     defaults\u001b[38;5;241m=\u001b[39m{\u001b[38;5;124m\"\u001b[39m\u001b[38;5;124mdelimiter\u001b[39m\u001b[38;5;124m\"\u001b[39m: \u001b[38;5;124m\"\u001b[39m\u001b[38;5;124m,\u001b[39m\u001b[38;5;124m\"\u001b[39m},\n\u001b[1;32m    947\u001b[0m )\n\u001b[1;32m    948\u001b[0m kwds\u001b[38;5;241m.\u001b[39mupdate(kwds_defaults)\n\u001b[0;32m--> 950\u001b[0m \u001b[38;5;28;01mreturn\u001b[39;00m \u001b[43m_read\u001b[49m\u001b[43m(\u001b[49m\u001b[43mfilepath_or_buffer\u001b[49m\u001b[43m,\u001b[49m\u001b[43m \u001b[49m\u001b[43mkwds\u001b[49m\u001b[43m)\u001b[49m\n",
      "File \u001b[0;32m/usr/local/lib/python3.11/dist-packages/pandas/io/parsers/readers.py:605\u001b[0m, in \u001b[0;36m_read\u001b[0;34m(filepath_or_buffer, kwds)\u001b[0m\n\u001b[1;32m    602\u001b[0m _validate_names(kwds\u001b[38;5;241m.\u001b[39mget(\u001b[38;5;124m\"\u001b[39m\u001b[38;5;124mnames\u001b[39m\u001b[38;5;124m\"\u001b[39m, \u001b[38;5;28;01mNone\u001b[39;00m))\n\u001b[1;32m    604\u001b[0m \u001b[38;5;66;03m# Create the parser.\u001b[39;00m\n\u001b[0;32m--> 605\u001b[0m parser \u001b[38;5;241m=\u001b[39m \u001b[43mTextFileReader\u001b[49m\u001b[43m(\u001b[49m\u001b[43mfilepath_or_buffer\u001b[49m\u001b[43m,\u001b[49m\u001b[43m \u001b[49m\u001b[38;5;241;43m*\u001b[39;49m\u001b[38;5;241;43m*\u001b[39;49m\u001b[43mkwds\u001b[49m\u001b[43m)\u001b[49m\n\u001b[1;32m    607\u001b[0m \u001b[38;5;28;01mif\u001b[39;00m chunksize \u001b[38;5;129;01mor\u001b[39;00m iterator:\n\u001b[1;32m    608\u001b[0m     \u001b[38;5;28;01mreturn\u001b[39;00m parser\n",
      "File \u001b[0;32m/usr/local/lib/python3.11/dist-packages/pandas/io/parsers/readers.py:1442\u001b[0m, in \u001b[0;36mTextFileReader.__init__\u001b[0;34m(self, f, engine, **kwds)\u001b[0m\n\u001b[1;32m   1439\u001b[0m     \u001b[38;5;28mself\u001b[39m\u001b[38;5;241m.\u001b[39moptions[\u001b[38;5;124m\"\u001b[39m\u001b[38;5;124mhas_index_names\u001b[39m\u001b[38;5;124m\"\u001b[39m] \u001b[38;5;241m=\u001b[39m kwds[\u001b[38;5;124m\"\u001b[39m\u001b[38;5;124mhas_index_names\u001b[39m\u001b[38;5;124m\"\u001b[39m]\n\u001b[1;32m   1441\u001b[0m \u001b[38;5;28mself\u001b[39m\u001b[38;5;241m.\u001b[39mhandles: IOHandles \u001b[38;5;241m|\u001b[39m \u001b[38;5;28;01mNone\u001b[39;00m \u001b[38;5;241m=\u001b[39m \u001b[38;5;28;01mNone\u001b[39;00m\n\u001b[0;32m-> 1442\u001b[0m \u001b[38;5;28mself\u001b[39m\u001b[38;5;241m.\u001b[39m_engine \u001b[38;5;241m=\u001b[39m \u001b[38;5;28;43mself\u001b[39;49m\u001b[38;5;241;43m.\u001b[39;49m\u001b[43m_make_engine\u001b[49m\u001b[43m(\u001b[49m\u001b[43mf\u001b[49m\u001b[43m,\u001b[49m\u001b[43m \u001b[49m\u001b[38;5;28;43mself\u001b[39;49m\u001b[38;5;241;43m.\u001b[39;49m\u001b[43mengine\u001b[49m\u001b[43m)\u001b[49m\n",
      "File \u001b[0;32m/usr/local/lib/python3.11/dist-packages/pandas/io/parsers/readers.py:1735\u001b[0m, in \u001b[0;36mTextFileReader._make_engine\u001b[0;34m(self, f, engine)\u001b[0m\n\u001b[1;32m   1733\u001b[0m     \u001b[38;5;28;01mif\u001b[39;00m \u001b[38;5;124m\"\u001b[39m\u001b[38;5;124mb\u001b[39m\u001b[38;5;124m\"\u001b[39m \u001b[38;5;129;01mnot\u001b[39;00m \u001b[38;5;129;01min\u001b[39;00m mode:\n\u001b[1;32m   1734\u001b[0m         mode \u001b[38;5;241m+\u001b[39m\u001b[38;5;241m=\u001b[39m \u001b[38;5;124m\"\u001b[39m\u001b[38;5;124mb\u001b[39m\u001b[38;5;124m\"\u001b[39m\n\u001b[0;32m-> 1735\u001b[0m \u001b[38;5;28mself\u001b[39m\u001b[38;5;241m.\u001b[39mhandles \u001b[38;5;241m=\u001b[39m \u001b[43mget_handle\u001b[49m\u001b[43m(\u001b[49m\n\u001b[1;32m   1736\u001b[0m \u001b[43m    \u001b[49m\u001b[43mf\u001b[49m\u001b[43m,\u001b[49m\n\u001b[1;32m   1737\u001b[0m \u001b[43m    \u001b[49m\u001b[43mmode\u001b[49m\u001b[43m,\u001b[49m\n\u001b[1;32m   1738\u001b[0m \u001b[43m    \u001b[49m\u001b[43mencoding\u001b[49m\u001b[38;5;241;43m=\u001b[39;49m\u001b[38;5;28;43mself\u001b[39;49m\u001b[38;5;241;43m.\u001b[39;49m\u001b[43moptions\u001b[49m\u001b[38;5;241;43m.\u001b[39;49m\u001b[43mget\u001b[49m\u001b[43m(\u001b[49m\u001b[38;5;124;43m\"\u001b[39;49m\u001b[38;5;124;43mencoding\u001b[39;49m\u001b[38;5;124;43m\"\u001b[39;49m\u001b[43m,\u001b[49m\u001b[43m \u001b[49m\u001b[38;5;28;43;01mNone\u001b[39;49;00m\u001b[43m)\u001b[49m\u001b[43m,\u001b[49m\n\u001b[1;32m   1739\u001b[0m \u001b[43m    \u001b[49m\u001b[43mcompression\u001b[49m\u001b[38;5;241;43m=\u001b[39;49m\u001b[38;5;28;43mself\u001b[39;49m\u001b[38;5;241;43m.\u001b[39;49m\u001b[43moptions\u001b[49m\u001b[38;5;241;43m.\u001b[39;49m\u001b[43mget\u001b[49m\u001b[43m(\u001b[49m\u001b[38;5;124;43m\"\u001b[39;49m\u001b[38;5;124;43mcompression\u001b[39;49m\u001b[38;5;124;43m\"\u001b[39;49m\u001b[43m,\u001b[49m\u001b[43m \u001b[49m\u001b[38;5;28;43;01mNone\u001b[39;49;00m\u001b[43m)\u001b[49m\u001b[43m,\u001b[49m\n\u001b[1;32m   1740\u001b[0m \u001b[43m    \u001b[49m\u001b[43mmemory_map\u001b[49m\u001b[38;5;241;43m=\u001b[39;49m\u001b[38;5;28;43mself\u001b[39;49m\u001b[38;5;241;43m.\u001b[39;49m\u001b[43moptions\u001b[49m\u001b[38;5;241;43m.\u001b[39;49m\u001b[43mget\u001b[49m\u001b[43m(\u001b[49m\u001b[38;5;124;43m\"\u001b[39;49m\u001b[38;5;124;43mmemory_map\u001b[39;49m\u001b[38;5;124;43m\"\u001b[39;49m\u001b[43m,\u001b[49m\u001b[43m \u001b[49m\u001b[38;5;28;43;01mFalse\u001b[39;49;00m\u001b[43m)\u001b[49m\u001b[43m,\u001b[49m\n\u001b[1;32m   1741\u001b[0m \u001b[43m    \u001b[49m\u001b[43mis_text\u001b[49m\u001b[38;5;241;43m=\u001b[39;49m\u001b[43mis_text\u001b[49m\u001b[43m,\u001b[49m\n\u001b[1;32m   1742\u001b[0m \u001b[43m    \u001b[49m\u001b[43merrors\u001b[49m\u001b[38;5;241;43m=\u001b[39;49m\u001b[38;5;28;43mself\u001b[39;49m\u001b[38;5;241;43m.\u001b[39;49m\u001b[43moptions\u001b[49m\u001b[38;5;241;43m.\u001b[39;49m\u001b[43mget\u001b[49m\u001b[43m(\u001b[49m\u001b[38;5;124;43m\"\u001b[39;49m\u001b[38;5;124;43mencoding_errors\u001b[39;49m\u001b[38;5;124;43m\"\u001b[39;49m\u001b[43m,\u001b[49m\u001b[43m \u001b[49m\u001b[38;5;124;43m\"\u001b[39;49m\u001b[38;5;124;43mstrict\u001b[39;49m\u001b[38;5;124;43m\"\u001b[39;49m\u001b[43m)\u001b[49m\u001b[43m,\u001b[49m\n\u001b[1;32m   1743\u001b[0m \u001b[43m    \u001b[49m\u001b[43mstorage_options\u001b[49m\u001b[38;5;241;43m=\u001b[39;49m\u001b[38;5;28;43mself\u001b[39;49m\u001b[38;5;241;43m.\u001b[39;49m\u001b[43moptions\u001b[49m\u001b[38;5;241;43m.\u001b[39;49m\u001b[43mget\u001b[49m\u001b[43m(\u001b[49m\u001b[38;5;124;43m\"\u001b[39;49m\u001b[38;5;124;43mstorage_options\u001b[39;49m\u001b[38;5;124;43m\"\u001b[39;49m\u001b[43m,\u001b[49m\u001b[43m \u001b[49m\u001b[38;5;28;43;01mNone\u001b[39;49;00m\u001b[43m)\u001b[49m\u001b[43m,\u001b[49m\n\u001b[1;32m   1744\u001b[0m \u001b[43m\u001b[49m\u001b[43m)\u001b[49m\n\u001b[1;32m   1745\u001b[0m \u001b[38;5;28;01massert\u001b[39;00m \u001b[38;5;28mself\u001b[39m\u001b[38;5;241m.\u001b[39mhandles \u001b[38;5;129;01mis\u001b[39;00m \u001b[38;5;129;01mnot\u001b[39;00m \u001b[38;5;28;01mNone\u001b[39;00m\n\u001b[1;32m   1746\u001b[0m f \u001b[38;5;241m=\u001b[39m \u001b[38;5;28mself\u001b[39m\u001b[38;5;241m.\u001b[39mhandles\u001b[38;5;241m.\u001b[39mhandle\n",
      "File \u001b[0;32m/usr/local/lib/python3.11/dist-packages/pandas/io/common.py:856\u001b[0m, in \u001b[0;36mget_handle\u001b[0;34m(path_or_buf, mode, encoding, compression, memory_map, is_text, errors, storage_options)\u001b[0m\n\u001b[1;32m    851\u001b[0m \u001b[38;5;28;01melif\u001b[39;00m \u001b[38;5;28misinstance\u001b[39m(handle, \u001b[38;5;28mstr\u001b[39m):\n\u001b[1;32m    852\u001b[0m     \u001b[38;5;66;03m# Check whether the filename is to be opened in binary mode.\u001b[39;00m\n\u001b[1;32m    853\u001b[0m     \u001b[38;5;66;03m# Binary mode does not support 'encoding' and 'newline'.\u001b[39;00m\n\u001b[1;32m    854\u001b[0m     \u001b[38;5;28;01mif\u001b[39;00m ioargs\u001b[38;5;241m.\u001b[39mencoding \u001b[38;5;129;01mand\u001b[39;00m \u001b[38;5;124m\"\u001b[39m\u001b[38;5;124mb\u001b[39m\u001b[38;5;124m\"\u001b[39m \u001b[38;5;129;01mnot\u001b[39;00m \u001b[38;5;129;01min\u001b[39;00m ioargs\u001b[38;5;241m.\u001b[39mmode:\n\u001b[1;32m    855\u001b[0m         \u001b[38;5;66;03m# Encoding\u001b[39;00m\n\u001b[0;32m--> 856\u001b[0m         handle \u001b[38;5;241m=\u001b[39m \u001b[38;5;28;43mopen\u001b[39;49m\u001b[43m(\u001b[49m\n\u001b[1;32m    857\u001b[0m \u001b[43m            \u001b[49m\u001b[43mhandle\u001b[49m\u001b[43m,\u001b[49m\n\u001b[1;32m    858\u001b[0m \u001b[43m            \u001b[49m\u001b[43mioargs\u001b[49m\u001b[38;5;241;43m.\u001b[39;49m\u001b[43mmode\u001b[49m\u001b[43m,\u001b[49m\n\u001b[1;32m    859\u001b[0m \u001b[43m            \u001b[49m\u001b[43mencoding\u001b[49m\u001b[38;5;241;43m=\u001b[39;49m\u001b[43mioargs\u001b[49m\u001b[38;5;241;43m.\u001b[39;49m\u001b[43mencoding\u001b[49m\u001b[43m,\u001b[49m\n\u001b[1;32m    860\u001b[0m \u001b[43m            \u001b[49m\u001b[43merrors\u001b[49m\u001b[38;5;241;43m=\u001b[39;49m\u001b[43merrors\u001b[49m\u001b[43m,\u001b[49m\n\u001b[1;32m    861\u001b[0m \u001b[43m            \u001b[49m\u001b[43mnewline\u001b[49m\u001b[38;5;241;43m=\u001b[39;49m\u001b[38;5;124;43m\"\u001b[39;49m\u001b[38;5;124;43m\"\u001b[39;49m\u001b[43m,\u001b[49m\n\u001b[1;32m    862\u001b[0m \u001b[43m        \u001b[49m\u001b[43m)\u001b[49m\n\u001b[1;32m    863\u001b[0m     \u001b[38;5;28;01melse\u001b[39;00m:\n\u001b[1;32m    864\u001b[0m         \u001b[38;5;66;03m# Binary mode\u001b[39;00m\n\u001b[1;32m    865\u001b[0m         handle \u001b[38;5;241m=\u001b[39m \u001b[38;5;28mopen\u001b[39m(handle, ioargs\u001b[38;5;241m.\u001b[39mmode)\n",
      "\u001b[0;31mFileNotFoundError\u001b[0m: [Errno 2] No such file or directory: 'lagos_arg.csv'"
     ]
    }
   ],
   "source": [
    "import pandas as pd\n",
    "import plotly.express as px\n",
    "lagos = pd.read_csv(\"lagos_arg.csv\")"
   ]
  },
  {
   "cell_type": "code",
   "execution_count": 2,
   "id": "20b25afe-6f21-47f5-aba6-e207292ae3d8",
   "metadata": {},
   "outputs": [
    {
     "ename": "NameError",
     "evalue": "name 'lagos' is not defined",
     "output_type": "error",
     "traceback": [
      "\u001b[0;31m---------------------------------------------------------------------------\u001b[0m",
      "\u001b[0;31mNameError\u001b[0m                                 Traceback (most recent call last)",
      "Cell \u001b[0;32mIn[2], line 1\u001b[0m\n\u001b[0;32m----> 1\u001b[0m \u001b[43mlagos\u001b[49m\u001b[38;5;241m.\u001b[39mshape\n",
      "\u001b[0;31mNameError\u001b[0m: name 'lagos' is not defined"
     ]
    }
   ],
   "source": [
    "lagos.shape"
   ]
  },
  {
   "cell_type": "code",
   "execution_count": null,
   "id": "3775ed46",
   "metadata": {},
   "outputs": [],
   "source": []
  },
  {
   "cell_type": "markdown",
   "id": "f8e8d497-efb8-4678-9e52-0c9d141cd6c1",
   "metadata": {},
   "source": [
    "## Nombres de las columnas"
   ]
  },
  {
   "cell_type": "code",
   "execution_count": 13,
   "id": "cf1f7664-4ae3-4a43-9ffc-0f72af6b93d5",
   "metadata": {},
   "outputs": [
    {
     "data": {
      "text/plain": [
       "Index(['Nombre', 'Ubicación', 'Superficie (km²)', 'Profundidad máxima (m)',\n",
       "       'Profundidad media (m)', 'Coordenadas', 'Sup Tamaño', 'Latitud en GMS',\n",
       "       'Longitud en GMS', 'lat', 'lng'],\n",
       "      dtype='object')"
      ]
     },
     "execution_count": 13,
     "metadata": {},
     "output_type": "execute_result"
    }
   ],
   "source": [
    "lagos.columns"
   ]
  },
  {
   "cell_type": "markdown",
   "id": "93b30bb2-9b7f-4211-81a1-3ae8a2c2c3d1",
   "metadata": {},
   "source": [
    "## Tipo de datos de las columnas"
   ]
  },
  {
   "cell_type": "code",
   "execution_count": 15,
   "id": "357fdd34-186c-4815-9c96-f0ac23f0a7bf",
   "metadata": {},
   "outputs": [
    {
     "data": {
      "text/plain": [
       "Nombre                     object\n",
       "Ubicación                  object\n",
       "Superficie (km²)            int64\n",
       "Profundidad máxima (m)    float64\n",
       "Profundidad media (m)     float64\n",
       "Coordenadas                object\n",
       "Sup Tamaño                 object\n",
       "Latitud en GMS             object\n",
       "Longitud en GMS            object\n",
       "lat                       float64\n",
       "lng                       float64\n",
       "dtype: object"
      ]
     },
     "execution_count": 15,
     "metadata": {},
     "output_type": "execute_result"
    }
   ],
   "source": [
    "lagos.dtypes"
   ]
  },
  {
   "cell_type": "markdown",
   "id": "cc56a499-0f42-4643-9425-5d3660b3b156",
   "metadata": {},
   "source": [
    "## Primeras 10 filas del dataset"
   ]
  },
  {
   "cell_type": "code",
   "execution_count": 32,
   "id": "42ec31f6-20c4-40d2-8abc-fd15ba40dabb",
   "metadata": {},
   "outputs": [
    {
     "data": {
      "text/plain": [
       "0             Santa Cruz\n",
       "1             Santa Cruz\n",
       "2    Río Negro / Neuquén\n",
       "3                 Chubut\n",
       "4             Santa Cruz\n",
       "5           Buenos Aires\n",
       "6              Río Negro\n",
       "7             Santa Cruz\n",
       "8                 Chubut\n",
       "9                Neuquén\n",
       "Name: Ubicación, dtype: object"
      ]
     },
     "execution_count": 32,
     "metadata": {},
     "output_type": "execute_result"
    }
   ],
   "source": [
    "lagos.head(10)"
   ]
  },
  {
   "cell_type": "markdown",
   "id": "2f4d05fa-4676-4b54-8e55-8399b2d080f9",
   "metadata": {},
   "source": [
    "# ✅ Etapa 2: Análisis por Provincia (15 min)\n",
    "* ¿En qué provincias hay lagos?\n",
    "* Cantidad de Lagos por provincia.\n",
    "* Gráfico de torta sobre la cantidad de lagos provincia.\n",
    "* Gráfico de barra sobre la cantidad de lagos provincia."
   ]
  },
  {
   "cell_type": "markdown",
   "id": "43cb70b5-4189-4527-a86e-2e51a36be85c",
   "metadata": {},
   "source": [
    "## Cantidad de Lagos por provincia"
   ]
  },
  {
   "cell_type": "code",
   "execution_count": 7,
   "id": "e2be9437-6584-4909-a5d5-3007c389b44a",
   "metadata": {},
   "outputs": [
    {
     "name": "stdout",
     "output_type": "stream",
     "text": [
      "Ubicación\n",
      "Santa Cruz                                               16\n",
      "Neuquén                                                  14\n",
      "Chubut                                                   13\n",
      "Río Negro                                                 4\n",
      "Tierra del Fuego, Antártida e Islas del Atlántico Sur     3\n",
      "Río Negro / Neuquén                                       1\n",
      "Buenos Aires                                              1\n",
      "Name: count, dtype: int64\n"
     ]
    }
   ],
   "source": [
    "provincias = lagos[\"Ubicación\"]\n",
    "provincias.unique()\n",
    "cantidadprovincia = provincias.value_counts()\n",
    "print (cantidadprovincia)"
   ]
  },
  {
   "cell_type": "code",
   "execution_count": 40,
   "id": "51345a00-5d95-4d98-9a4c-4f85a330e929",
   "metadata": {},
   "outputs": [],
   "source": [
    "## Gráfico de torta sobre la cantidad de lagos provincia"
   ]
  },
  {
   "cell_type": "code",
   "execution_count": 26,
   "id": "0fe236b0-02df-4274-bb4e-61280feee90b",
   "metadata": {},
   "outputs": [
    {
     "data": {
      "application/vnd.plotly.v1+json": {
       "config": {
        "plotlyServerURL": "https://plot.ly"
       },
       "data": [
        {
         "domain": {
          "x": [
           0,
           1
          ],
          "y": [
           0,
           1
          ]
         },
         "hovertemplate": "Provincia=%{label}<br>Cantidad=%{value}<extra></extra>",
         "labels": [
          "Santa Cruz",
          "Neuquén",
          "Chubut",
          "Río Negro",
          "Tierra del Fuego, Antártida e Islas del Atlántico Sur",
          "Buenos Aires"
         ],
         "legendgroup": "",
         "name": "",
         "showlegend": true,
         "type": "pie",
         "values": {
          "bdata": "EA8NBAMB",
          "dtype": "i1"
         }
        }
       ],
       "layout": {
        "legend": {
         "tracegroupgap": 0
        },
        "template": {
         "data": {
          "bar": [
           {
            "error_x": {
             "color": "#2a3f5f"
            },
            "error_y": {
             "color": "#2a3f5f"
            },
            "marker": {
             "line": {
              "color": "#E5ECF6",
              "width": 0.5
             },
             "pattern": {
              "fillmode": "overlay",
              "size": 10,
              "solidity": 0.2
             }
            },
            "type": "bar"
           }
          ],
          "barpolar": [
           {
            "marker": {
             "line": {
              "color": "#E5ECF6",
              "width": 0.5
             },
             "pattern": {
              "fillmode": "overlay",
              "size": 10,
              "solidity": 0.2
             }
            },
            "type": "barpolar"
           }
          ],
          "carpet": [
           {
            "aaxis": {
             "endlinecolor": "#2a3f5f",
             "gridcolor": "white",
             "linecolor": "white",
             "minorgridcolor": "white",
             "startlinecolor": "#2a3f5f"
            },
            "baxis": {
             "endlinecolor": "#2a3f5f",
             "gridcolor": "white",
             "linecolor": "white",
             "minorgridcolor": "white",
             "startlinecolor": "#2a3f5f"
            },
            "type": "carpet"
           }
          ],
          "choropleth": [
           {
            "colorbar": {
             "outlinewidth": 0,
             "ticks": ""
            },
            "type": "choropleth"
           }
          ],
          "contour": [
           {
            "colorbar": {
             "outlinewidth": 0,
             "ticks": ""
            },
            "colorscale": [
             [
              0,
              "#0d0887"
             ],
             [
              0.1111111111111111,
              "#46039f"
             ],
             [
              0.2222222222222222,
              "#7201a8"
             ],
             [
              0.3333333333333333,
              "#9c179e"
             ],
             [
              0.4444444444444444,
              "#bd3786"
             ],
             [
              0.5555555555555556,
              "#d8576b"
             ],
             [
              0.6666666666666666,
              "#ed7953"
             ],
             [
              0.7777777777777778,
              "#fb9f3a"
             ],
             [
              0.8888888888888888,
              "#fdca26"
             ],
             [
              1,
              "#f0f921"
             ]
            ],
            "type": "contour"
           }
          ],
          "contourcarpet": [
           {
            "colorbar": {
             "outlinewidth": 0,
             "ticks": ""
            },
            "type": "contourcarpet"
           }
          ],
          "heatmap": [
           {
            "colorbar": {
             "outlinewidth": 0,
             "ticks": ""
            },
            "colorscale": [
             [
              0,
              "#0d0887"
             ],
             [
              0.1111111111111111,
              "#46039f"
             ],
             [
              0.2222222222222222,
              "#7201a8"
             ],
             [
              0.3333333333333333,
              "#9c179e"
             ],
             [
              0.4444444444444444,
              "#bd3786"
             ],
             [
              0.5555555555555556,
              "#d8576b"
             ],
             [
              0.6666666666666666,
              "#ed7953"
             ],
             [
              0.7777777777777778,
              "#fb9f3a"
             ],
             [
              0.8888888888888888,
              "#fdca26"
             ],
             [
              1,
              "#f0f921"
             ]
            ],
            "type": "heatmap"
           }
          ],
          "histogram": [
           {
            "marker": {
             "pattern": {
              "fillmode": "overlay",
              "size": 10,
              "solidity": 0.2
             }
            },
            "type": "histogram"
           }
          ],
          "histogram2d": [
           {
            "colorbar": {
             "outlinewidth": 0,
             "ticks": ""
            },
            "colorscale": [
             [
              0,
              "#0d0887"
             ],
             [
              0.1111111111111111,
              "#46039f"
             ],
             [
              0.2222222222222222,
              "#7201a8"
             ],
             [
              0.3333333333333333,
              "#9c179e"
             ],
             [
              0.4444444444444444,
              "#bd3786"
             ],
             [
              0.5555555555555556,
              "#d8576b"
             ],
             [
              0.6666666666666666,
              "#ed7953"
             ],
             [
              0.7777777777777778,
              "#fb9f3a"
             ],
             [
              0.8888888888888888,
              "#fdca26"
             ],
             [
              1,
              "#f0f921"
             ]
            ],
            "type": "histogram2d"
           }
          ],
          "histogram2dcontour": [
           {
            "colorbar": {
             "outlinewidth": 0,
             "ticks": ""
            },
            "colorscale": [
             [
              0,
              "#0d0887"
             ],
             [
              0.1111111111111111,
              "#46039f"
             ],
             [
              0.2222222222222222,
              "#7201a8"
             ],
             [
              0.3333333333333333,
              "#9c179e"
             ],
             [
              0.4444444444444444,
              "#bd3786"
             ],
             [
              0.5555555555555556,
              "#d8576b"
             ],
             [
              0.6666666666666666,
              "#ed7953"
             ],
             [
              0.7777777777777778,
              "#fb9f3a"
             ],
             [
              0.8888888888888888,
              "#fdca26"
             ],
             [
              1,
              "#f0f921"
             ]
            ],
            "type": "histogram2dcontour"
           }
          ],
          "mesh3d": [
           {
            "colorbar": {
             "outlinewidth": 0,
             "ticks": ""
            },
            "type": "mesh3d"
           }
          ],
          "parcoords": [
           {
            "line": {
             "colorbar": {
              "outlinewidth": 0,
              "ticks": ""
             }
            },
            "type": "parcoords"
           }
          ],
          "pie": [
           {
            "automargin": true,
            "type": "pie"
           }
          ],
          "scatter": [
           {
            "fillpattern": {
             "fillmode": "overlay",
             "size": 10,
             "solidity": 0.2
            },
            "type": "scatter"
           }
          ],
          "scatter3d": [
           {
            "line": {
             "colorbar": {
              "outlinewidth": 0,
              "ticks": ""
             }
            },
            "marker": {
             "colorbar": {
              "outlinewidth": 0,
              "ticks": ""
             }
            },
            "type": "scatter3d"
           }
          ],
          "scattercarpet": [
           {
            "marker": {
             "colorbar": {
              "outlinewidth": 0,
              "ticks": ""
             }
            },
            "type": "scattercarpet"
           }
          ],
          "scattergeo": [
           {
            "marker": {
             "colorbar": {
              "outlinewidth": 0,
              "ticks": ""
             }
            },
            "type": "scattergeo"
           }
          ],
          "scattergl": [
           {
            "marker": {
             "colorbar": {
              "outlinewidth": 0,
              "ticks": ""
             }
            },
            "type": "scattergl"
           }
          ],
          "scattermap": [
           {
            "marker": {
             "colorbar": {
              "outlinewidth": 0,
              "ticks": ""
             }
            },
            "type": "scattermap"
           }
          ],
          "scattermapbox": [
           {
            "marker": {
             "colorbar": {
              "outlinewidth": 0,
              "ticks": ""
             }
            },
            "type": "scattermapbox"
           }
          ],
          "scatterpolar": [
           {
            "marker": {
             "colorbar": {
              "outlinewidth": 0,
              "ticks": ""
             }
            },
            "type": "scatterpolar"
           }
          ],
          "scatterpolargl": [
           {
            "marker": {
             "colorbar": {
              "outlinewidth": 0,
              "ticks": ""
             }
            },
            "type": "scatterpolargl"
           }
          ],
          "scatterternary": [
           {
            "marker": {
             "colorbar": {
              "outlinewidth": 0,
              "ticks": ""
             }
            },
            "type": "scatterternary"
           }
          ],
          "surface": [
           {
            "colorbar": {
             "outlinewidth": 0,
             "ticks": ""
            },
            "colorscale": [
             [
              0,
              "#0d0887"
             ],
             [
              0.1111111111111111,
              "#46039f"
             ],
             [
              0.2222222222222222,
              "#7201a8"
             ],
             [
              0.3333333333333333,
              "#9c179e"
             ],
             [
              0.4444444444444444,
              "#bd3786"
             ],
             [
              0.5555555555555556,
              "#d8576b"
             ],
             [
              0.6666666666666666,
              "#ed7953"
             ],
             [
              0.7777777777777778,
              "#fb9f3a"
             ],
             [
              0.8888888888888888,
              "#fdca26"
             ],
             [
              1,
              "#f0f921"
             ]
            ],
            "type": "surface"
           }
          ],
          "table": [
           {
            "cells": {
             "fill": {
              "color": "#EBF0F8"
             },
             "line": {
              "color": "white"
             }
            },
            "header": {
             "fill": {
              "color": "#C8D4E3"
             },
             "line": {
              "color": "white"
             }
            },
            "type": "table"
           }
          ]
         },
         "layout": {
          "annotationdefaults": {
           "arrowcolor": "#2a3f5f",
           "arrowhead": 0,
           "arrowwidth": 1
          },
          "autotypenumbers": "strict",
          "coloraxis": {
           "colorbar": {
            "outlinewidth": 0,
            "ticks": ""
           }
          },
          "colorscale": {
           "diverging": [
            [
             0,
             "#8e0152"
            ],
            [
             0.1,
             "#c51b7d"
            ],
            [
             0.2,
             "#de77ae"
            ],
            [
             0.3,
             "#f1b6da"
            ],
            [
             0.4,
             "#fde0ef"
            ],
            [
             0.5,
             "#f7f7f7"
            ],
            [
             0.6,
             "#e6f5d0"
            ],
            [
             0.7,
             "#b8e186"
            ],
            [
             0.8,
             "#7fbc41"
            ],
            [
             0.9,
             "#4d9221"
            ],
            [
             1,
             "#276419"
            ]
           ],
           "sequential": [
            [
             0,
             "#0d0887"
            ],
            [
             0.1111111111111111,
             "#46039f"
            ],
            [
             0.2222222222222222,
             "#7201a8"
            ],
            [
             0.3333333333333333,
             "#9c179e"
            ],
            [
             0.4444444444444444,
             "#bd3786"
            ],
            [
             0.5555555555555556,
             "#d8576b"
            ],
            [
             0.6666666666666666,
             "#ed7953"
            ],
            [
             0.7777777777777778,
             "#fb9f3a"
            ],
            [
             0.8888888888888888,
             "#fdca26"
            ],
            [
             1,
             "#f0f921"
            ]
           ],
           "sequentialminus": [
            [
             0,
             "#0d0887"
            ],
            [
             0.1111111111111111,
             "#46039f"
            ],
            [
             0.2222222222222222,
             "#7201a8"
            ],
            [
             0.3333333333333333,
             "#9c179e"
            ],
            [
             0.4444444444444444,
             "#bd3786"
            ],
            [
             0.5555555555555556,
             "#d8576b"
            ],
            [
             0.6666666666666666,
             "#ed7953"
            ],
            [
             0.7777777777777778,
             "#fb9f3a"
            ],
            [
             0.8888888888888888,
             "#fdca26"
            ],
            [
             1,
             "#f0f921"
            ]
           ]
          },
          "colorway": [
           "#636efa",
           "#EF553B",
           "#00cc96",
           "#ab63fa",
           "#FFA15A",
           "#19d3f3",
           "#FF6692",
           "#B6E880",
           "#FF97FF",
           "#FECB52"
          ],
          "font": {
           "color": "#2a3f5f"
          },
          "geo": {
           "bgcolor": "white",
           "lakecolor": "white",
           "landcolor": "#E5ECF6",
           "showlakes": true,
           "showland": true,
           "subunitcolor": "white"
          },
          "hoverlabel": {
           "align": "left"
          },
          "hovermode": "closest",
          "mapbox": {
           "style": "light"
          },
          "paper_bgcolor": "white",
          "plot_bgcolor": "#E5ECF6",
          "polar": {
           "angularaxis": {
            "gridcolor": "white",
            "linecolor": "white",
            "ticks": ""
           },
           "bgcolor": "#E5ECF6",
           "radialaxis": {
            "gridcolor": "white",
            "linecolor": "white",
            "ticks": ""
           }
          },
          "scene": {
           "xaxis": {
            "backgroundcolor": "#E5ECF6",
            "gridcolor": "white",
            "gridwidth": 2,
            "linecolor": "white",
            "showbackground": true,
            "ticks": "",
            "zerolinecolor": "white"
           },
           "yaxis": {
            "backgroundcolor": "#E5ECF6",
            "gridcolor": "white",
            "gridwidth": 2,
            "linecolor": "white",
            "showbackground": true,
            "ticks": "",
            "zerolinecolor": "white"
           },
           "zaxis": {
            "backgroundcolor": "#E5ECF6",
            "gridcolor": "white",
            "gridwidth": 2,
            "linecolor": "white",
            "showbackground": true,
            "ticks": "",
            "zerolinecolor": "white"
           }
          },
          "shapedefaults": {
           "line": {
            "color": "#2a3f5f"
           }
          },
          "ternary": {
           "aaxis": {
            "gridcolor": "white",
            "linecolor": "white",
            "ticks": ""
           },
           "baxis": {
            "gridcolor": "white",
            "linecolor": "white",
            "ticks": ""
           },
           "bgcolor": "#E5ECF6",
           "caxis": {
            "gridcolor": "white",
            "linecolor": "white",
            "ticks": ""
           }
          },
          "title": {
           "x": 0.05
          },
          "xaxis": {
           "automargin": true,
           "gridcolor": "white",
           "linecolor": "white",
           "ticks": "",
           "title": {
            "standoff": 15
           },
           "zerolinecolor": "white",
           "zerolinewidth": 2
          },
          "yaxis": {
           "automargin": true,
           "gridcolor": "white",
           "linecolor": "white",
           "ticks": "",
           "title": {
            "standoff": 15
           },
           "zerolinecolor": "white",
           "zerolinewidth": 2
          }
         }
        },
        "title": {
         "text": "Cantidad de lagos por provincia"
        }
       }
      },
      "image/png": "[encoded data removed]"
     },
     "metadata": {},
     "output_type": "display_data"
    }
   ],
   "source": [
    "cantidad_por_provincia = lagos[\"Ubicación\"].value_counts().reset_index()\n",
    "cantidad_por_provincia.columns = [\"Provincia\", \"Cantidad\"]\n",
    "fig = px.pie(cantidad_por_provincia, names=\"Provincia\", values=\"Cantidad\",title=\"Cantidad de lagos por provincia\")\n",
    "fig.show()"
   ]
  },
  {
   "cell_type": "markdown",
   "id": "07a14e63-0f98-4ae2-9a81-a93dc22cb899",
   "metadata": {},
   "source": [
    "## Gráfico de barra sobre la cantidad de lagos provincia"
   ]
  },
  {
   "cell_type": "code",
   "execution_count": 16,
   "id": "d6d0ed18-fd22-4767-b9f0-16549a026af0",
   "metadata": {},
   "outputs": [
    {
     "data": {
      "application/vnd.plotly.v1+json": {
       "config": {
        "plotlyServerURL": "https://plot.ly"
       },
       "data": [
        {
         "hovertemplate": "Provincia=%{x}<br>Cantidad=%{y}<extra></extra>",
         "legendgroup": "",
         "marker": {
          "color": "#636efa",
          "pattern": {
           "shape": ""
          }
         },
         "name": "",
         "orientation": "v",
         "showlegend": false,
         "textposition": "auto",
         "type": "bar",
         "x": [
          "Santa Cruz",
          "Neuquén",
          "Chubut",
          "Río Negro",
          "Tierra del Fuego, Antártida e Islas del Atlántico Sur",
          "Río Negro / Neuquén",
          "Buenos Aires"
         ],
         "xaxis": "x",
         "y": {
          "bdata": "EA4NBAMBAQ==",
          "dtype": "i1"
         },
         "yaxis": "y"
        }
       ],
       "layout": {
        "barmode": "relative",
        "legend": {
         "tracegroupgap": 0
        },
        "template": {
         "data": {
          "bar": [
           {
            "error_x": {
             "color": "#2a3f5f"
            },
            "error_y": {
             "color": "#2a3f5f"
            },
            "marker": {
             "line": {
              "color": "#E5ECF6",
              "width": 0.5
             },
             "pattern": {
              "fillmode": "overlay",
              "size": 10,
              "solidity": 0.2
             }
            },
            "type": "bar"
           }
          ],
          "barpolar": [
           {
            "marker": {
             "line": {
              "color": "#E5ECF6",
              "width": 0.5
             },
             "pattern": {
              "fillmode": "overlay",
              "size": 10,
              "solidity": 0.2
             }
            },
            "type": "barpolar"
           }
          ],
          "carpet": [
           {
            "aaxis": {
             "endlinecolor": "#2a3f5f",
             "gridcolor": "white",
             "linecolor": "white",
             "minorgridcolor": "white",
             "startlinecolor": "#2a3f5f"
            },
            "baxis": {
             "endlinecolor": "#2a3f5f",
             "gridcolor": "white",
             "linecolor": "white",
             "minorgridcolor": "white",
             "startlinecolor": "#2a3f5f"
            },
            "type": "carpet"
           }
          ],
          "choropleth": [
           {
            "colorbar": {
             "outlinewidth": 0,
             "ticks": ""
            },
            "type": "choropleth"
           }
          ],
          "contour": [
           {
            "colorbar": {
             "outlinewidth": 0,
             "ticks": ""
            },
            "colorscale": [
             [
              0,
              "#0d0887"
             ],
             [
              0.1111111111111111,
              "#46039f"
             ],
             [
              0.2222222222222222,
              "#7201a8"
             ],
             [
              0.3333333333333333,
              "#9c179e"
             ],
             [
              0.4444444444444444,
              "#bd3786"
             ],
             [
              0.5555555555555556,
              "#d8576b"
             ],
             [
              0.6666666666666666,
              "#ed7953"
             ],
             [
              0.7777777777777778,
              "#fb9f3a"
             ],
             [
              0.8888888888888888,
              "#fdca26"
             ],
             [
              1,
              "#f0f921"
             ]
            ],
            "type": "contour"
           }
          ],
          "contourcarpet": [
           {
            "colorbar": {
             "outlinewidth": 0,
             "ticks": ""
            },
            "type": "contourcarpet"
           }
          ],
          "heatmap": [
           {
            "colorbar": {
             "outlinewidth": 0,
             "ticks": ""
            },
            "colorscale": [
             [
              0,
              "#0d0887"
             ],
             [
              0.1111111111111111,
              "#46039f"
             ],
             [
              0.2222222222222222,
              "#7201a8"
             ],
             [
              0.3333333333333333,
              "#9c179e"
             ],
             [
              0.4444444444444444,
              "#bd3786"
             ],
             [
              0.5555555555555556,
              "#d8576b"
             ],
             [
              0.6666666666666666,
              "#ed7953"
             ],
             [
              0.7777777777777778,
              "#fb9f3a"
             ],
             [
              0.8888888888888888,
              "#fdca26"
             ],
             [
              1,
              "#f0f921"
             ]
            ],
            "type": "heatmap"
           }
          ],
          "histogram": [
           {
            "marker": {
             "pattern": {
              "fillmode": "overlay",
              "size": 10,
              "solidity": 0.2
             }
            },
            "type": "histogram"
           }
          ],
          "histogram2d": [
           {
            "colorbar": {
             "outlinewidth": 0,
             "ticks": ""
            },
            "colorscale": [
             [
              0,
              "#0d0887"
             ],
             [
              0.1111111111111111,
              "#46039f"
             ],
             [
              0.2222222222222222,
              "#7201a8"
             ],
             [
              0.3333333333333333,
              "#9c179e"
             ],
             [
              0.4444444444444444,
              "#bd3786"
             ],
             [
              0.5555555555555556,
              "#d8576b"
             ],
             [
              0.6666666666666666,
              "#ed7953"
             ],
             [
              0.7777777777777778,
              "#fb9f3a"
             ],
             [
              0.8888888888888888,
              "#fdca26"
             ],
             [
              1,
              "#f0f921"
             ]
            ],
            "type": "histogram2d"
           }
          ],
          "histogram2dcontour": [
           {
            "colorbar": {
             "outlinewidth": 0,
             "ticks": ""
            },
            "colorscale": [
             [
              0,
              "#0d0887"
             ],
             [
              0.1111111111111111,
              "#46039f"
             ],
             [
              0.2222222222222222,
              "#7201a8"
             ],
             [
              0.3333333333333333,
              "#9c179e"
             ],
             [
              0.4444444444444444,
              "#bd3786"
             ],
             [
              0.5555555555555556,
              "#d8576b"
             ],
             [
              0.6666666666666666,
              "#ed7953"
             ],
             [
              0.7777777777777778,
              "#fb9f3a"
             ],
             [
              0.8888888888888888,
              "#fdca26"
             ],
             [
              1,
              "#f0f921"
             ]
            ],
            "type": "histogram2dcontour"
           }
          ],
          "mesh3d": [
           {
            "colorbar": {
             "outlinewidth": 0,
             "ticks": ""
            },
            "type": "mesh3d"
           }
          ],
          "parcoords": [
           {
            "line": {
             "colorbar": {
              "outlinewidth": 0,
              "ticks": ""
             }
            },
            "type": "parcoords"
           }
          ],
          "pie": [
           {
            "automargin": true,
            "type": "pie"
           }
          ],
          "scatter": [
           {
            "fillpattern": {
             "fillmode": "overlay",
             "size": 10,
             "solidity": 0.2
            },
            "type": "scatter"
           }
          ],
          "scatter3d": [
           {
            "line": {
             "colorbar": {
              "outlinewidth": 0,
              "ticks": ""
             }
            },
            "marker": {
             "colorbar": {
              "outlinewidth": 0,
              "ticks": ""
             }
            },
            "type": "scatter3d"
           }
          ],
          "scattercarpet": [
           {
            "marker": {
             "colorbar": {
              "outlinewidth": 0,
              "ticks": ""
             }
            },
            "type": "scattercarpet"
           }
          ],
          "scattergeo": [
           {
            "marker": {
             "colorbar": {
              "outlinewidth": 0,
              "ticks": ""
             }
            },
            "type": "scattergeo"
           }
          ],
          "scattergl": [
           {
            "marker": {
             "colorbar": {
              "outlinewidth": 0,
              "ticks": ""
             }
            },
            "type": "scattergl"
           }
          ],
          "scattermap": [
           {
            "marker": {
             "colorbar": {
              "outlinewidth": 0,
              "ticks": ""
             }
            },
            "type": "scattermap"
           }
          ],
          "scattermapbox": [
           {
            "marker": {
             "colorbar": {
              "outlinewidth": 0,
              "ticks": ""
             }
            },
            "type": "scattermapbox"
           }
          ],
          "scatterpolar": [
           {
            "marker": {
             "colorbar": {
              "outlinewidth": 0,
              "ticks": ""
             }
            },
            "type": "scatterpolar"
           }
          ],
          "scatterpolargl": [
           {
            "marker": {
             "colorbar": {
              "outlinewidth": 0,
              "ticks": ""
             }
            },
            "type": "scatterpolargl"
           }
          ],
          "scatterternary": [
           {
            "marker": {
             "colorbar": {
              "outlinewidth": 0,
              "ticks": ""
             }
            },
            "type": "scatterternary"
           }
          ],
          "surface": [
           {
            "colorbar": {
             "outlinewidth": 0,
             "ticks": ""
            },
            "colorscale": [
             [
              0,
              "#0d0887"
             ],
             [
              0.1111111111111111,
              "#46039f"
             ],
             [
              0.2222222222222222,
              "#7201a8"
             ],
             [
              0.3333333333333333,
              "#9c179e"
             ],
             [
              0.4444444444444444,
              "#bd3786"
             ],
             [
              0.5555555555555556,
              "#d8576b"
             ],
             [
              0.6666666666666666,
              "#ed7953"
             ],
             [
              0.7777777777777778,
              "#fb9f3a"
             ],
             [
              0.8888888888888888,
              "#fdca26"
             ],
             [
              1,
              "#f0f921"
             ]
            ],
            "type": "surface"
           }
          ],
          "table": [
           {
            "cells": {
             "fill": {
              "color": "#EBF0F8"
             },
             "line": {
              "color": "white"
             }
            },
            "header": {
             "fill": {
              "color": "#C8D4E3"
             },
             "line": {
              "color": "white"
             }
            },
            "type": "table"
           }
          ]
         },
         "layout": {
          "annotationdefaults": {
           "arrowcolor": "#2a3f5f",
           "arrowhead": 0,
           "arrowwidth": 1
          },
          "autotypenumbers": "strict",
          "coloraxis": {
           "colorbar": {
            "outlinewidth": 0,
            "ticks": ""
           }
          },
          "colorscale": {
           "diverging": [
            [
             0,
             "#8e0152"
            ],
            [
             0.1,
             "#c51b7d"
            ],
            [
             0.2,
             "#de77ae"
            ],
            [
             0.3,
             "#f1b6da"
            ],
            [
             0.4,
             "#fde0ef"
            ],
            [
             0.5,
             "#f7f7f7"
            ],
            [
             0.6,
             "#e6f5d0"
            ],
            [
             0.7,
             "#b8e186"
            ],
            [
             0.8,
             "#7fbc41"
            ],
            [
             0.9,
             "#4d9221"
            ],
            [
             1,
             "#276419"
            ]
           ],
           "sequential": [
            [
             0,
             "#0d0887"
            ],
            [
             0.1111111111111111,
             "#46039f"
            ],
            [
             0.2222222222222222,
             "#7201a8"
            ],
            [
             0.3333333333333333,
             "#9c179e"
            ],
            [
             0.4444444444444444,
             "#bd3786"
            ],
            [
             0.5555555555555556,
             "#d8576b"
            ],
            [
             0.6666666666666666,
             "#ed7953"
            ],
            [
             0.7777777777777778,
             "#fb9f3a"
            ],
            [
             0.8888888888888888,
             "#fdca26"
            ],
            [
             1,
             "#f0f921"
            ]
           ],
           "sequentialminus": [
            [
             0,
             "#0d0887"
            ],
            [
             0.1111111111111111,
             "#46039f"
            ],
            [
             0.2222222222222222,
             "#7201a8"
            ],
            [
             0.3333333333333333,
             "#9c179e"
            ],
            [
             0.4444444444444444,
             "#bd3786"
            ],
            [
             0.5555555555555556,
             "#d8576b"
            ],
            [
             0.6666666666666666,
             "#ed7953"
            ],
            [
             0.7777777777777778,
             "#fb9f3a"
            ],
            [
             0.8888888888888888,
             "#fdca26"
            ],
            [
             1,
             "#f0f921"
            ]
           ]
          },
          "colorway": [
           "#636efa",
           "#EF553B",
           "#00cc96",
           "#ab63fa",
           "#FFA15A",
           "#19d3f3",
           "#FF6692",
           "#B6E880",
           "#FF97FF",
           "#FECB52"
          ],
          "font": {
           "color": "#2a3f5f"
          },
          "geo": {
           "bgcolor": "white",
           "lakecolor": "white",
           "landcolor": "#E5ECF6",
           "showlakes": true,
           "showland": true,
           "subunitcolor": "white"
          },
          "hoverlabel": {
           "align": "left"
          },
          "hovermode": "closest",
          "mapbox": {
           "style": "light"
          },
          "paper_bgcolor": "white",
          "plot_bgcolor": "#E5ECF6",
          "polar": {
           "angularaxis": {
            "gridcolor": "white",
            "linecolor": "white",
            "ticks": ""
           },
           "bgcolor": "#E5ECF6",
           "radialaxis": {
            "gridcolor": "white",
            "linecolor": "white",
            "ticks": ""
           }
          },
          "scene": {
           "xaxis": {
            "backgroundcolor": "#E5ECF6",
            "gridcolor": "white",
            "gridwidth": 2,
            "linecolor": "white",
            "showbackground": true,
            "ticks": "",
            "zerolinecolor": "white"
           },
           "yaxis": {
            "backgroundcolor": "#E5ECF6",
            "gridcolor": "white",
            "gridwidth": 2,
            "linecolor": "white",
            "showbackground": true,
            "ticks": "",
            "zerolinecolor": "white"
           },
           "zaxis": {
            "backgroundcolor": "#E5ECF6",
            "gridcolor": "white",
            "gridwidth": 2,
            "linecolor": "white",
            "showbackground": true,
            "ticks": "",
            "zerolinecolor": "white"
           }
          },
          "shapedefaults": {
           "line": {
            "color": "#2a3f5f"
           }
          },
          "ternary": {
           "aaxis": {
            "gridcolor": "white",
            "linecolor": "white",
            "ticks": ""
           },
           "baxis": {
            "gridcolor": "white",
            "linecolor": "white",
            "ticks": ""
           },
           "bgcolor": "#E5ECF6",
           "caxis": {
            "gridcolor": "white",
            "linecolor": "white",
            "ticks": ""
           }
          },
          "title": {
           "x": 0.05
          },
          "xaxis": {
           "automargin": true,
           "gridcolor": "white",
           "linecolor": "white",
           "ticks": "",
           "title": {
            "standoff": 15
           },
           "zerolinecolor": "white",
           "zerolinewidth": 2
          },
          "yaxis": {
           "automargin": true,
           "gridcolor": "white",
           "linecolor": "white",
           "ticks": "",
           "title": {
            "standoff": 15
           },
           "zerolinecolor": "white",
           "zerolinewidth": 2
          }
         }
        },
        "title": {
         "text": "Cantidad de lagos por provincia"
        },
        "xaxis": {
         "anchor": "y",
         "domain": [
          0,
          1
         ],
         "title": {
          "text": "Provincia"
         }
        },
        "yaxis": {
         "anchor": "x",
         "domain": [
          0,
          1
         ],
         "title": {
          "text": "Cantidad"
         }
        }
       }
      },
      "image/png": "[encoded data removed]"
     },
     "metadata": {},
     "output_type": "display_data"
    }
   ],
   "source": [
    "cantidad_por_provincia = lagos[\"Ubicación\"].value_counts().reset_index()\n",
    "cantidad_por_provincia.columns = [\"Provincia\", \"Cantidad\"]\n",
    "fig = px.bar(cantidad_por_provincia, x=\"Provincia\", y=\"Cantidad\",title=\"Cantidad de lagos por provincia\")\n",
    "fig.show()"
   ]
  },
  {
   "cell_type": "markdown",
   "id": "a1c6b989-d175-429e-8cd1-b22b03dbb5ea",
   "metadata": {},
   "source": [
    "## ¿En qué provincias hay lagos?"
   ]
  },
  {
   "cell_type": "code",
   "execution_count": 29,
   "id": "b004f829-6032-4235-93ec-8ece18fe66e4",
   "metadata": {},
   "outputs": [
    {
     "ename": "AttributeError",
     "evalue": "'Series' object has no attribute 'value'",
     "output_type": "error",
     "traceback": [
      "\u001b[31m---------------------------------------------------------------------------\u001b[39m",
      "\u001b[31mAttributeError\u001b[39m                            Traceback (most recent call last)",
      "\u001b[32m/tmp/ipykernel_8265/480885694.py\u001b[39m in \u001b[36m?\u001b[39m\u001b[34m()\u001b[39m\n\u001b[32m----> \u001b[39m\u001b[32m1\u001b[39m print (lagos[\u001b[33m\"Ubicación\"\u001b[39m].value.count())\n",
      "\u001b[32m~/taller/env/lib/python3.13/site-packages/pandas/core/generic.py\u001b[39m in \u001b[36m?\u001b[39m\u001b[34m(self, name)\u001b[39m\n\u001b[32m   6314\u001b[39m             \u001b[38;5;28;01mand\u001b[39;00m name \u001b[38;5;28;01mnot\u001b[39;00m \u001b[38;5;28;01min\u001b[39;00m self._accessors\n\u001b[32m   6315\u001b[39m             \u001b[38;5;28;01mand\u001b[39;00m self._info_axis._can_hold_identifiers_and_holds_name(name)\n\u001b[32m   6316\u001b[39m         ):\n\u001b[32m   6317\u001b[39m             \u001b[38;5;28;01mreturn\u001b[39;00m self[name]\n\u001b[32m-> \u001b[39m\u001b[32m6318\u001b[39m         \u001b[38;5;28;01mreturn\u001b[39;00m object.__getattribute__(self, name)\n",
      "\u001b[31mAttributeError\u001b[39m: 'Series' object has no attribute 'value'"
     ]
    }
   ],
   "source": [
    "print (lagos[\"Ubicación\"].value.count())"
   ]
  },
  {
   "cell_type": "markdown",
   "id": "2a30678d-10d9-4404-8403-a1ca046ef279",
   "metadata": {},
   "source": [
    "# ✅ Etapa 3: Filtrar y Limpiar Datos (15 min)\n",
    "* Mostrar los lagos que son de la provincia de Neuquén. **Nota**: no te olvides de incluir el lago que está compartido con otra provincia, (isin([\"Neuquén\", \"Río Negro / Neuquén\"])]\n",
    "* Mostrar cómo modificaríamos si nos piden  reemplazar el valor de 'Río Negro / Neuquén' **por** 'Neuquén'?\n",
    "* Filtrá los lagos de Chubut con superficie menor a 10 km². **Nota**: dataframe[(condición1) & (condición2)]"
   ]
  },
  {
   "cell_type": "markdown",
   "id": "0678b9c1-f26f-4e75-9c9c-e9e15c7a624b",
   "metadata": {},
   "source": [
    "### Mostrar los lagos que son de la provincia de Neuquén"
   ]
  },
  {
   "cell_type": "code",
   "execution_count": 24,
   "id": "9fd4a8b8-b816-4b34-b56b-d60f42ef88b1",
   "metadata": {},
   "outputs": [
    {
     "name": "stdout",
     "output_type": "stream",
     "text": [
      "                Nombre Ubicación  Superficie (km²)  Profundidad máxima (m)  \\\n",
      "9   Lago Huechulafquen   Neuquén                84                     NaN   \n",
      "10         Lago Traful   Neuquén                78                     NaN   \n",
      "14        Lago Aluminé   Neuquén                58                   165.0   \n",
      "15          Lago Lácar   Neuquén                53                   277.0   \n",
      "23         Lago Espejo   Neuquén                40                     NaN   \n",
      "27          Lago Lolog   Neuquén                37                     NaN   \n",
      "29         Lago Tromen   Neuquén                29                     NaN   \n",
      "31        Lago Quillén   Neuquén                26                     NaN   \n",
      "34       Lago Moquehue   Neuquén                21                     NaN   \n",
      "35     Lago Correntoso   Neuquén                20                     NaN   \n",
      "41         Lago Paimún   Neuquén                16                     NaN   \n",
      "45      Lago Meliquina   Neuquén                14                     NaN   \n",
      "47        Lago Currhué   Neuquén                12                     NaN   \n",
      "48        Lago Falkner   Neuquén                11                     NaN   \n",
      "\n",
      "    Profundidad media (m)            Coordenadas Sup Tamaño Latitud en GMS  \\\n",
      "9                   142.0  39°46'28\"S 71°30'32\"O     grande     39°46'28\"S   \n",
      "10                    NaN  40°37'50\"S 71°24'55\"O     grande     40°37'50\"S   \n",
      "14                   64.0   38°55'18\"S 71°7'35\"O      medio     38°55'18\"S   \n",
      "15                  166.0   40°9'45\"S 71°26'11\"O      medio      40°9'45\"S   \n",
      "23                    NaN  40°40'33\"S 71°42'40\"O      medio     40°40'33\"S   \n",
      "27                    NaN   40°2'10\"S 71°32'11\"O      medio      40°2'10\"S   \n",
      "29                   69.0  39°31'33\"S 71°26'52\"O      medio     39°31'33\"S   \n",
      "31                    NaN  39°24'41\"S 71°18'52\"O      medio     39°24'41\"S   \n",
      "34                    NaN  38°54'16\"S 71°16'26\"O      medio     38°54'16\"S   \n",
      "35                    NaN   40°42'8\"S 71°39'35\"O      medio      40°42'8\"S   \n",
      "41                   66.0   39°43'27\"S 71°35'2\"O      chico     39°43'27\"S   \n",
      "45                    NaN  40°19'60\"S 71°19'10\"O      chico     40°19'60\"S   \n",
      "47                    NaN  39°50'24\"S 71°30'27\"O      chico     39°50'24\"S   \n",
      "48                    NaN   40°29'6\"S 71°28'33\"O      chico      40°29'6\"S   \n",
      "\n",
      "   Longitud en GMS        lat        lng  \n",
      "9       71°30'32\"O -39.774444 -71.508889  \n",
      "10      71°24'55\"O -40.630556 -71.415278  \n",
      "14       71°7'35\"O -38.921667 -71.126389  \n",
      "15      71°26'11\"O -40.162500 -71.436389  \n",
      "23      71°42'40\"O -40.675833 -71.711111  \n",
      "27      71°32'11\"O -40.036111 -71.536389  \n",
      "29      71°26'52\"O -39.525833 -71.447778  \n",
      "31      71°18'52\"O -39.411389 -71.314444  \n",
      "34      71°16'26\"O -38.904444 -71.273889  \n",
      "35      71°39'35\"O -40.702222 -71.659722  \n",
      "41       71°35'2\"O -39.724167 -71.583889  \n",
      "45      71°19'10\"O -40.333333 -71.319444  \n",
      "47      71°30'27\"O -39.840000 -71.507500  \n",
      "48      71°28'33\"O -40.485000 -71.475833  \n"
     ]
    }
   ],
   "source": [
    "lagos = pd.read_csv(\"lagos_arg.csv\")[\"Ubicación\"]\n",
    "print(pd.read_csv(\"lagos_arg.csv\")[lagos == \"Neuquén\"])"
   ]
  },
  {
   "cell_type": "markdown",
   "id": "c8e571fd-6665-40ac-8d4b-842e44e21194",
   "metadata": {},
   "source": [
    "## Mostrar cómo modificaríamos si nos piden  reemplazar el valor de 'Río Negro / Neuquén' **por** 'Neuquén'?"
   ]
  },
  {
   "cell_type": "code",
   "execution_count": 30,
   "id": "12642ec7-deab-4154-8264-c4c2a83665bc",
   "metadata": {},
   "outputs": [
    {
     "name": "stdout",
     "output_type": "stream",
     "text": [
      "               Nombre     Ubicación  Superficie (km²)  Profundidad máxima (m)  \\\n",
      "0      Lago Argentino    Santa Cruz              1435                   500.0   \n",
      "1         Lago Viedma    Santa Cruz              1166                     NaN   \n",
      "2   Lago Nahuel Huapi       Neuquén               540                   464.0   \n",
      "3        Lago Musters        Chubut               427                    39.0   \n",
      "4        Lago Cardiel    Santa Cruz               358                     NaN   \n",
      "5        Lago Epecuén  Buenos Aires               156                    11.0   \n",
      "6     Lago Pellegrini     Río Negro               116                     NaN   \n",
      "7        Lago Strobel    Santa Cruz               100                     NaN   \n",
      "8        Lago Fontana        Chubut                84                     NaN   \n",
      "9  Lago Huechulafquen       Neuquén                84                     NaN   \n",
      "\n",
      "   Profundidad media (m)            Coordenadas Sup Tamaño Latitud en GMS  \\\n",
      "0                  150.0  50°14'53\"S 72°38'43\"O     grande     50°14'53\"S   \n",
      "1                    NaN  49°37'27\"S 72°29'42\"O     grande     49°37'27\"S   \n",
      "2                  157.0  40°51'16\"S 71°36'58\"O     grande     40°51'16\"S   \n",
      "3                   20.0  45°24'53\"S 69°11'52\"O     grande     45°24'53\"S   \n",
      "4                   49.0   48°55'3\"S 71°12'53\"O     grande      48°55'3\"S   \n",
      "5                    7.0   37°7'45\"S 62°51'53\"O     grande      37°7'45\"S   \n",
      "6                    NaN  38°42'25\"S 67°58'23\"O     grande     38°42'25\"S   \n",
      "7                    NaN  48°25'58\"S 71°11'25\"O     grande     48°25'58\"S   \n",
      "8                   79.0  44°55'17\"S 71°29'45\"O     grande     44°55'17\"S   \n",
      "9                  142.0  39°46'28\"S 71°30'32\"O     grande     39°46'28\"S   \n",
      "\n",
      "  Longitud en GMS        lat        lng  \n",
      "0      72°38'43\"O -50.248056 -72.645278  \n",
      "1      72°29'42\"O -49.624167 -72.495000  \n",
      "2      71°36'58\"O -40.854444 -71.616111  \n",
      "3      69°11'52\"O -45.414722 -69.197778  \n",
      "4      71°12'53\"O -48.917500 -71.214722  \n",
      "5      62°51'53\"O -37.129167 -62.864722  \n",
      "6      67°58'23\"O -38.706944 -67.973056  \n",
      "7      71°11'25\"O -48.432778 -71.190278  \n",
      "8      71°29'45\"O -44.921389 -71.495833  \n",
      "9      71°30'32\"O -39.774444 -71.508889  \n"
     ]
    }
   ],
   "source": [
    "lagos = pd.read_csv(\"lagos_arg.csv\")\n",
    "lagos[\"Ubicación\"] = lagos[\"Ubicación\"].replace(\"Río Negro / Neuquén\", \"Neuquén\")\n",
    "print(lagos.head(10)) "
   ]
  },
  {
   "cell_type": "markdown",
   "id": "47079f37-82d5-4a36-be20-3ae71844e05d",
   "metadata": {},
   "source": [
    "## Filtrá los lagos de Chubut con superficie menor a 10 km²"
   ]
  },
  {
   "cell_type": "code",
   "execution_count": 11,
   "id": "81cac15c-51e4-48f7-9dc0-3dafb33e9e36",
   "metadata": {},
   "outputs": [
    {
     "name": "stdout",
     "output_type": "stream",
     "text": [
      "Superficie (km²)\n",
      "17     2\n",
      "10     2\n",
      "427    1\n",
      "73     1\n",
      "84     1\n",
      "58     1\n",
      "47     1\n",
      "28     1\n",
      "42     1\n",
      "20     1\n",
      "23     1\n",
      "Name: count, dtype: int64\n"
     ]
    }
   ],
   "source": [
    "frecuencia_chubut = lagos[lagos[\"Ubicación\"] == \"Chubut\"][\"Superficie (km²)\"].value_counts()\n",
    "print(frecuencia_chubut)"
   ]
  },
  {
   "cell_type": "markdown",
   "id": "53035ae7-aaf2-4569-9b8c-bf19c08ffc99",
   "metadata": {},
   "source": [
    "# ✅ Etapa 4: Valores Nulos y Estadísticas (10 min)\n",
    "* ¿Qué podemos analizar sobre los valores de la profundidad máxima y media de los lagos?\n",
    "* ¿Entre qué valores están ambas mediciones? **Nota**: describe().\n",
    "* Realicemos un gráfico de barras para comparar **Profundidad máxima** y **Profundidad media** de los lagos.\n",
    "    \n",
    "* ¿Hay valores nulos? **Nota**: info().\n",
    "* Investigar sobre gráficos tipo scatter o dispersión."
   ]
  },
  {
   "cell_type": "markdown",
   "id": "312d39ea-e0ba-4e78-a42a-fb5081e89a95",
   "metadata": {},
   "source": [
    "## ¿Qué podemos analizar sobre los valores de la profundidad máxima y media de los lagos?\n"
   ]
  },
  {
   "cell_type": "code",
   "execution_count": null,
   "id": "8e4c4476-396a-48b3-b499-c721a12049ba",
   "metadata": {},
   "outputs": [],
   "source": []
  },
  {
   "cell_type": "markdown",
   "id": "a14ca8ea-cc19-4e93-987c-1d5b8a4c5212",
   "metadata": {},
   "source": [
    "##  ¿Entre qué valores están ambas mediciones?"
   ]
  },
  {
   "cell_type": "code",
   "execution_count": null,
   "id": "6e554735-3c93-4cfd-a9da-f176ac7d026d",
   "metadata": {},
   "outputs": [],
   "source": []
  },
  {
   "cell_type": "markdown",
   "id": "95c3053d-160e-405e-9729-ff61076389fa",
   "metadata": {},
   "source": [
    "## Realicemos un gráfico para comparar **Profundidad máxima** y **Profundidad media** de los lagos."
   ]
  },
  {
   "cell_type": "code",
   "execution_count": 11,
   "id": "12fa85cc-9cb9-4e15-8aef-db40245d7207",
   "metadata": {},
   "outputs": [
    {
     "ename": "NameError",
     "evalue": "name 'completar' is not defined",
     "output_type": "error",
     "traceback": [
      "\u001b[31m---------------------------------------------------------------------------\u001b[39m",
      "\u001b[31mNameError\u001b[39m                                 Traceback (most recent call last)",
      "\u001b[36mCell\u001b[39m\u001b[36m \u001b[39m\u001b[32mIn[11]\u001b[39m\u001b[32m, line 2\u001b[39m\n\u001b[32m      1\u001b[39m \u001b[38;5;28;01mimport\u001b[39;00m\u001b[38;5;250m \u001b[39m\u001b[34;01mplotly\u001b[39;00m\u001b[34;01m.\u001b[39;00m\u001b[34;01mexpress\u001b[39;00m\u001b[38;5;250m \u001b[39m\u001b[38;5;28;01mas\u001b[39;00m\u001b[38;5;250m \u001b[39m\u001b[34;01mpx\u001b[39;00m\n\u001b[32m----> \u001b[39m\u001b[32m2\u001b[39m fig = px.bar(\u001b[43mcompletar\u001b[49m, \n\u001b[32m      3\u001b[39m              x=\u001b[33m\"\u001b[39m\u001b[33mNombre\u001b[39m\u001b[33m\"\u001b[39m, \n\u001b[32m      4\u001b[39m              y=[\u001b[33m\"\u001b[39m\u001b[33mnombre columna1\u001b[39m\u001b[33m\"\u001b[39m, \u001b[33m\"\u001b[39m\u001b[33mnombre columna2\u001b[39m\u001b[33m\"\u001b[39m],\n\u001b[32m      5\u001b[39m              barmode=\u001b[33m'\u001b[39m\u001b[33mgroup\u001b[39m\u001b[33m'\u001b[39m,\n\u001b[32m      6\u001b[39m              title=\u001b[33m\"\u001b[39m\u001b[33mComparación de Profundidades de Lagos\u001b[39m\u001b[33m\"\u001b[39m,\n\u001b[32m      7\u001b[39m              labels={\u001b[33m\"\u001b[39m\u001b[33mvalue\u001b[39m\u001b[33m\"\u001b[39m: \u001b[33m\"\u001b[39m\u001b[33mMetros\u001b[39m\u001b[33m\"\u001b[39m, \u001b[33m\"\u001b[39m\u001b[33mvariable\u001b[39m\u001b[33m\"\u001b[39m: \u001b[33m\"\u001b[39m\u001b[33mTipo de Profundidad\u001b[39m\u001b[33m\"\u001b[39m},\n\u001b[32m      8\u001b[39m              color_discrete_sequence=[\u001b[33m\"\u001b[39m\u001b[33m#1E90FF\u001b[39m\u001b[33m\"\u001b[39m, \u001b[33m\"\u001b[39m\u001b[33m#00BFFF\u001b[39m\u001b[33m\"\u001b[39m])\n\u001b[32m     10\u001b[39m fig.show()\n",
      "\u001b[31mNameError\u001b[39m: name 'completar' is not defined"
     ]
    }
   ],
   "source": [
    "import plotly.express as px\n",
    "fig = px.bar(completar, \n",
    "             x=\"Nombre\", \n",
    "             y=[\"nombre columna1\", \"nombre columna2\"],\n",
    "             barmode='group',\n",
    "             title=\"Comparación de Profundidades de Lagos\",\n",
    "             labels={\"value\": \"Metros\", \"variable\": \"Tipo de Profundidad\"},\n",
    "             color_discrete_sequence=[\"#1E90FF\", \"#00BFFF\"])\n",
    "\n",
    "fig.show()"
   ]
  },
  {
   "cell_type": "markdown",
   "id": "222d10e8-8318-4585-8683-e8b4a8828621",
   "metadata": {},
   "source": [
    "¿Qué pasa en con los datos de algunos lagos?"
   ]
  },
  {
   "cell_type": "markdown",
   "id": "b693802b-7a8f-4917-920d-ab434af4730f",
   "metadata": {},
   "source": [
    "## ¿Hay valores nulos? **Nota**: info()"
   ]
  },
  {
   "cell_type": "code",
   "execution_count": 31,
   "id": "dcd79dac-72cb-48b8-9e6d-5c8134956552",
   "metadata": {},
   "outputs": [
    {
     "name": "stdout",
     "output_type": "stream",
     "text": [
      "<class 'pandas.core.frame.DataFrame'>\n",
      "RangeIndex: 52 entries, 0 to 51\n",
      "Data columns (total 11 columns):\n",
      " #   Column                  Non-Null Count  Dtype  \n",
      "---  ------                  --------------  -----  \n",
      " 0   Nombre                  52 non-null     object \n",
      " 1   Ubicación               52 non-null     object \n",
      " 2   Superficie (km²)        52 non-null     int64  \n",
      " 3   Profundidad máxima (m)  15 non-null     float64\n",
      " 4   Profundidad media (m)   22 non-null     float64\n",
      " 5   Coordenadas             52 non-null     object \n",
      " 6   Sup Tamaño              52 non-null     object \n",
      " 7   Latitud en GMS          52 non-null     object \n",
      " 8   Longitud en GMS         52 non-null     object \n",
      " 9   lat                     52 non-null     float64\n",
      " 10  lng                     52 non-null     float64\n",
      "dtypes: float64(4), int64(1), object(6)\n",
      "memory usage: 4.6+ KB\n"
     ]
    }
   ],
   "source": [
    "lagos.info()"
   ]
  },
  {
   "cell_type": "markdown",
   "id": "104e9cf7-e658-4b24-976c-251da55926a7",
   "metadata": {},
   "source": [
    "## Gráfico de dispersión"
   ]
  },
  {
   "cell_type": "markdown",
   "id": "b6b035d8-62c7-4e52-95c0-fad1a8dd2697",
   "metadata": {},
   "source": [
    "¿Qué datos compara este gráfico?"
   ]
  },
  {
   "cell_type": "code",
   "execution_count": null,
   "id": "dbb9201b-b068-4bb1-ad7a-ae6df39c358d",
   "metadata": {},
   "outputs": [],
   "source": [
    "fig = px.scatter(lagos, \n",
    "                 x=\"Profundidad media (m)\", \n",
    "                 y=\"Superficie (km²)\",\n",
    "                 \n",
    "                 title=\"Relación: Profundidad Media vs. Superficie\")  \n",
    "\n",
    "fig.update_traces(textposition='top center', marker=dict(size=12))\n",
    "fig.show()"
   ]
  },
  {
   "cell_type": "markdown",
   "id": "70403da3-ab22-4fd7-b655-a345dec601ea",
   "metadata": {},
   "source": [
    "Modificar el gráfico para que compare la longitud y la Superficie."
   ]
  },
  {
   "cell_type": "code",
   "execution_count": null,
   "id": "53de3173-63fd-4913-ac25-345b16909f7f",
   "metadata": {},
   "outputs": [],
   "source": []
  },
  {
   "cell_type": "markdown",
   "id": "a7a928ab-7b96-46b2-bd10-72413bb559fb",
   "metadata": {},
   "source": [
    "# ✅ Etapa 5: Visualización con Mapas (15 min)\n",
    "* Otro recurso para visualizar datos geolocalizados son los mapas.\n",
    "* Mostrar todos los lagos en un mapa.\n",
    "* Mostrar los lagos de Chubut solamente.\n",
    "* Mostrar los lagos con color según su tamaño.\n",
    "* Mostrar los datos de otro dataset.\n"
   ]
  },
  {
   "cell_type": "markdown",
   "id": "064068da-348e-4c50-8288-9600f3dc9db8",
   "metadata": {},
   "source": [
    "## La librería folium nos permite mostrar datos en mapas"
   ]
  },
  {
   "cell_type": "code",
   "execution_count": 10,
   "id": "89ec42f7-dd1f-44a2-aafc-ef629138535a",
   "metadata": {},
   "outputs": [],
   "source": [
    "import folium"
   ]
  },
  {
   "cell_type": "markdown",
   "id": "098ef78a-5282-474e-840b-7fb6cb64386c",
   "metadata": {},
   "source": [
    "* ¿Qué datos nos indican un punto geográfico en un mapa?\n",
    "* ¿En qué columnas están estos datos?"
   ]
  },
  {
   "cell_type": "code",
   "execution_count": null,
   "id": "23ced665-e68d-48ab-acb0-923dcefc9fe0",
   "metadata": {},
   "outputs": [],
   "source": []
  },
  {
   "cell_type": "markdown",
   "id": "0e27d20e-c70f-4bf4-b6fc-05e5df1e8bee",
   "metadata": {},
   "source": [
    "## 📌 Paso 1.Vamos a generar un mapa **base** para luego agregar los puntos\n",
    "* Esta función configura un mapa para mostrar de la República Argentina, realizados por [Instituto Geográfico Nacional](https://www.ign.gob.ar/)\n",
    "* ¿Sabemos qué es una funciòn?"
   ]
  },
  {
   "cell_type": "code",
   "execution_count": 12,
   "id": "b172e03e-f8c0-4a27-afc8-02258770c53b",
   "metadata": {},
   "outputs": [],
   "source": [
    "def generar_mapa():\n",
    "    attr = (\n",
    "        '&copy; <a href=\"https://www.openstreetmap.org/copyright\">OpenStreetMap</a> '\n",
    "        'contributors, &copy; <a href=\"https://cartodb.com/attributions\">CartoDB</a>'\n",
    "    )\n",
    "    \n",
    "    tiles = 'https://wms.ign.gob.ar/geoserver/gwc/service/tms/1.0.0/capabaseargenmap@EPSG%3A3857@png/{z}/{x}/{-y}.png'\n",
    "    m = folium.Map(\n",
    "        location=(-33.457606, -65.346857),\n",
    "        control_scale=True,\n",
    "        zoom_start=5,\n",
    "        name='es',\n",
    "        tiles=tiles,\n",
    "        attr=attr\n",
    "    )\n",
    "    return m"
   ]
  },
  {
   "cell_type": "markdown",
   "id": "c14796d7-45fa-489f-befe-9c8f8fa655ef",
   "metadata": {},
   "source": [
    "Usamos la función **generar_mapa** para tener nuestro mapa base"
   ]
  },
  {
   "cell_type": "code",
   "execution_count": 15,
   "id": "917c2725-8d45-4d73-96b6-599a98a5397c",
   "metadata": {},
   "outputs": [
    {
     "data": {
      "text/html": [
       "<div style=\"width:100%;\"><div style=\"position:relative;width:100%;height:0;padding-bottom:60%;\"><span style=\"color:#565656\">Make this Notebook Trusted to load map: File -> Trust Notebook</span><iframe srcdoc=\"&lt;!DOCTYPE html&gt;\n",
       "&lt;html&gt;\n",
       "&lt;head&gt;\n",
       "    \n",
       "    &lt;meta http-equiv=&quot;content-type&quot; content=&quot;text/html; charset=UTF-8&quot; /&gt;\n",
       "    &lt;script src=&quot;https://cdn.jsdelivr.net/npm/leaflet@1.9.3/dist/leaflet.js&quot;&gt;&lt;/script&gt;\n",
       "    &lt;script src=&quot;https://code.jquery.com/jquery-3.7.1.min.js&quot;&gt;&lt;/script&gt;\n",
       "    &lt;script src=&quot;https://cdn.jsdelivr.net/npm/bootstrap@5.2.2/dist/js/bootstrap.bundle.min.js&quot;&gt;&lt;/script&gt;\n",
       "    &lt;script src=&quot;https://cdnjs.cloudflare.com/ajax/libs/Leaflet.awesome-markers/2.0.2/leaflet.awesome-markers.js&quot;&gt;&lt;/script&gt;\n",
       "    &lt;link rel=&quot;stylesheet&quot; href=&quot;https://cdn.jsdelivr.net/npm/leaflet@1.9.3/dist/leaflet.css&quot;/&gt;\n",
       "    &lt;link rel=&quot;stylesheet&quot; href=&quot;https://cdn.jsdelivr.net/npm/bootstrap@5.2.2/dist/css/bootstrap.min.css&quot;/&gt;\n",
       "    &lt;link rel=&quot;stylesheet&quot; href=&quot;https://netdna.bootstrapcdn.com/bootstrap/3.0.0/css/bootstrap-glyphicons.css&quot;/&gt;\n",
       "    &lt;link rel=&quot;stylesheet&quot; href=&quot;https://cdn.jsdelivr.net/npm/@fortawesome/fontawesome-free@6.2.0/css/all.min.css&quot;/&gt;\n",
       "    &lt;link rel=&quot;stylesheet&quot; href=&quot;https://cdnjs.cloudflare.com/ajax/libs/Leaflet.awesome-markers/2.0.2/leaflet.awesome-markers.css&quot;/&gt;\n",
       "    &lt;link rel=&quot;stylesheet&quot; href=&quot;https://cdn.jsdelivr.net/gh/python-visualization/folium/folium/templates/leaflet.awesome.rotate.min.css&quot;/&gt;\n",
       "    \n",
       "            &lt;meta name=&quot;viewport&quot; content=&quot;width=device-width,\n",
       "                initial-scale=1.0, maximum-scale=1.0, user-scalable=no&quot; /&gt;\n",
       "            &lt;style&gt;\n",
       "                #map_450902a9d9c7cea8c11367b990f34cb7 {\n",
       "                    position: relative;\n",
       "                    width: 100.0%;\n",
       "                    height: 100.0%;\n",
       "                    left: 0.0%;\n",
       "                    top: 0.0%;\n",
       "                }\n",
       "                .leaflet-container { font-size: 1rem; }\n",
       "            &lt;/style&gt;\n",
       "\n",
       "            &lt;style&gt;html, body {\n",
       "                width: 100%;\n",
       "                height: 100%;\n",
       "                margin: 0;\n",
       "                padding: 0;\n",
       "            }\n",
       "            &lt;/style&gt;\n",
       "\n",
       "            &lt;style&gt;#map {\n",
       "                position:absolute;\n",
       "                top:0;\n",
       "                bottom:0;\n",
       "                right:0;\n",
       "                left:0;\n",
       "                }\n",
       "            &lt;/style&gt;\n",
       "\n",
       "            &lt;script&gt;\n",
       "                L_NO_TOUCH = false;\n",
       "                L_DISABLE_3D = false;\n",
       "            &lt;/script&gt;\n",
       "\n",
       "        \n",
       "&lt;/head&gt;\n",
       "&lt;body&gt;\n",
       "    \n",
       "    \n",
       "            &lt;div class=&quot;folium-map&quot; id=&quot;map_450902a9d9c7cea8c11367b990f34cb7&quot; &gt;&lt;/div&gt;\n",
       "        \n",
       "&lt;/body&gt;\n",
       "&lt;script&gt;\n",
       "    \n",
       "    \n",
       "            var map_450902a9d9c7cea8c11367b990f34cb7 = L.map(\n",
       "                &quot;map_450902a9d9c7cea8c11367b990f34cb7&quot;,\n",
       "                {\n",
       "                    center: [-33.457606, -65.346857],\n",
       "                    crs: L.CRS.EPSG3857,\n",
       "                    ...{\n",
       "  &quot;zoom&quot;: 5,\n",
       "  &quot;zoomControl&quot;: true,\n",
       "  &quot;preferCanvas&quot;: false,\n",
       "  &quot;name&quot;: &quot;es&quot;,\n",
       "}\n",
       "\n",
       "                }\n",
       "            );\n",
       "            L.control.scale().addTo(map_450902a9d9c7cea8c11367b990f34cb7);\n",
       "\n",
       "            \n",
       "\n",
       "        \n",
       "    \n",
       "            var tile_layer_d96c4792d01af8bb92687a3db973b553 = L.tileLayer(\n",
       "                &quot;https://wms.ign.gob.ar/geoserver/gwc/service/tms/1.0.0/capabaseargenmap@EPSG%3A3857@png/{z}/{x}/{-y}.png&quot;,\n",
       "                {\n",
       "  &quot;minZoom&quot;: 0,\n",
       "  &quot;maxZoom&quot;: 18,\n",
       "  &quot;maxNativeZoom&quot;: 18,\n",
       "  &quot;noWrap&quot;: false,\n",
       "  &quot;attribution&quot;: &quot;\\u0026copy; \\u003ca href=\\&quot;https://www.openstreetmap.org/copyright\\&quot;\\u003eOpenStreetMap\\u003c/a\\u003e contributors, \\u0026copy; \\u003ca href=\\&quot;https://cartodb.com/attributions\\&quot;\\u003eCartoDB\\u003c/a\\u003e&quot;,\n",
       "  &quot;subdomains&quot;: &quot;abc&quot;,\n",
       "  &quot;detectRetina&quot;: false,\n",
       "  &quot;tms&quot;: false,\n",
       "  &quot;opacity&quot;: 1,\n",
       "}\n",
       "\n",
       "            );\n",
       "        \n",
       "    \n",
       "            tile_layer_d96c4792d01af8bb92687a3db973b553.addTo(map_450902a9d9c7cea8c11367b990f34cb7);\n",
       "        \n",
       "&lt;/script&gt;\n",
       "&lt;/html&gt;\" style=\"position:absolute;width:100%;height:100%;left:0;top:0;border:none !important;\" allowfullscreen webkitallowfullscreen mozallowfullscreen></iframe></div></div>"
      ],
      "text/plain": [
       "<folium.folium.Map at 0x74559cd35d10>"
      ]
     },
     "execution_count": 15,
     "metadata": {},
     "output_type": "execute_result"
    }
   ],
   "source": [
    "mapa = generar_mapa()\n",
    "mapa"
   ]
  },
  {
   "cell_type": "markdown",
   "id": "89141300-f394-47da-bf9c-7a5efb823b59",
   "metadata": {},
   "source": [
    "La variable **mapa** es nuestro mapa **base**"
   ]
  },
  {
   "cell_type": "markdown",
   "id": "29aedcd8-dee5-408e-9bf2-c2c2a1e005cb",
   "metadata": {},
   "source": [
    "## 📌 Paso 2. Definimos la función para poder agregar los puntos:\n",
    "En la celda de abajo pusimos el código de la función que permnite agregar los puntos:\n",
    "\n",
    "* la función **agregar_marca_lago** recibe cada fila e indicamos  los puntos que se encuentran en las columnas de las **coordenadas** de esta forma.\n",
    "```python\n",
    "[row['latitud'], row['longitud']],\n",
    "```\n",
    "* queremos que muestre el nombre del lago cuando hacemos clic sobre cada icono, ponemos el nombre de la columna **Nombre**,  donde se encuentra **ese dato**.\n",
    "```python\n",
    "popup=row['Nombre']\n",
    "```\n"
   ]
  },
  {
   "cell_type": "code",
   "execution_count": 17,
   "id": "9b8a3cbc-be01-4a7f-aa40-fece50fa9b4b",
   "metadata": {},
   "outputs": [],
   "source": [
    "def agregar_marca_lago(row):\n",
    "    folium.Marker(\n",
    "        [row['lat'], row['lng']],\n",
    "        popup=row['Nombre'],\n",
    "        icon=folium.Icon()\n",
    "        ).add_to(mapa)\n",
    "\n"
   ]
  },
  {
   "cell_type": "markdown",
   "id": "67f5027f-ee9d-4928-a380-1c6da8180198",
   "metadata": {},
   "source": [
    "## 📌 Paso 3. Agregamos los puntos al mapa:"
   ]
  },
  {
   "cell_type": "markdown",
   "id": "33df4c27-8ec1-424b-8900-ecb7ec4aa328",
   "metadata": {},
   "source": [
    "En la celda de abajo pusimos el código para poder agregar los puntos,  lo más importante para tener en cuenta:\n",
    "* el nombre de la variable que contiene los datos de los lagos **lagos** y para que agregue los puntos usamos:\n",
    "    * ```python\n",
    "      lagos.apply(nombre_funcion, axis=1)\n",
    "      ```\n",
    "* por úlitmo, mostramos el mapa, escribiendo el nombre de la variable del mapa."
   ]
  },
  {
   "cell_type": "code",
   "execution_count": 18,
   "id": "c3a7e44a-37c6-46fb-a499-1796b2b2193c",
   "metadata": {},
   "outputs": [
    {
     "data": {
      "text/html": [
       "<div style=\"width:100%;\"><div style=\"position:relative;width:100%;height:0;padding-bottom:60%;\"><span style=\"color:#565656\">Make this Notebook Trusted to load map: File -> Trust Notebook</span><iframe srcdoc=\"&lt;!DOCTYPE html&gt;\n",
       "&lt;html&gt;\n",
       "&lt;head&gt;\n",
       "    \n",
       "    &lt;meta http-equiv=&quot;content-type&quot; content=&quot;text/html; charset=UTF-8&quot; /&gt;\n",
       "    &lt;script src=&quot;https://cdn.jsdelivr.net/npm/leaflet@1.9.3/dist/leaflet.js&quot;&gt;&lt;/script&gt;\n",
       "    &lt;script src=&quot;https://code.jquery.com/jquery-3.7.1.min.js&quot;&gt;&lt;/script&gt;\n",
       "    &lt;script src=&quot;https://cdn.jsdelivr.net/npm/bootstrap@5.2.2/dist/js/bootstrap.bundle.min.js&quot;&gt;&lt;/script&gt;\n",
       "    &lt;script src=&quot;https://cdnjs.cloudflare.com/ajax/libs/Leaflet.awesome-markers/2.0.2/leaflet.awesome-markers.js&quot;&gt;&lt;/script&gt;\n",
       "    &lt;link rel=&quot;stylesheet&quot; href=&quot;https://cdn.jsdelivr.net/npm/leaflet@1.9.3/dist/leaflet.css&quot;/&gt;\n",
       "    &lt;link rel=&quot;stylesheet&quot; href=&quot;https://cdn.jsdelivr.net/npm/bootstrap@5.2.2/dist/css/bootstrap.min.css&quot;/&gt;\n",
       "    &lt;link rel=&quot;stylesheet&quot; href=&quot;https://netdna.bootstrapcdn.com/bootstrap/3.0.0/css/bootstrap-glyphicons.css&quot;/&gt;\n",
       "    &lt;link rel=&quot;stylesheet&quot; href=&quot;https://cdn.jsdelivr.net/npm/@fortawesome/fontawesome-free@6.2.0/css/all.min.css&quot;/&gt;\n",
       "    &lt;link rel=&quot;stylesheet&quot; href=&quot;https://cdnjs.cloudflare.com/ajax/libs/Leaflet.awesome-markers/2.0.2/leaflet.awesome-markers.css&quot;/&gt;\n",
       "    &lt;link rel=&quot;stylesheet&quot; href=&quot;https://cdn.jsdelivr.net/gh/python-visualization/folium/folium/templates/leaflet.awesome.rotate.min.css&quot;/&gt;\n",
       "    \n",
       "            &lt;meta name=&quot;viewport&quot; content=&quot;width=device-width,\n",
       "                initial-scale=1.0, maximum-scale=1.0, user-scalable=no&quot; /&gt;\n",
       "            &lt;style&gt;\n",
       "                #map_450902a9d9c7cea8c11367b990f34cb7 {\n",
       "                    position: relative;\n",
       "                    width: 100.0%;\n",
       "                    height: 100.0%;\n",
       "                    left: 0.0%;\n",
       "                    top: 0.0%;\n",
       "                }\n",
       "                .leaflet-container { font-size: 1rem; }\n",
       "            &lt;/style&gt;\n",
       "\n",
       "            &lt;style&gt;html, body {\n",
       "                width: 100%;\n",
       "                height: 100%;\n",
       "                margin: 0;\n",
       "                padding: 0;\n",
       "            }\n",
       "            &lt;/style&gt;\n",
       "\n",
       "            &lt;style&gt;#map {\n",
       "                position:absolute;\n",
       "                top:0;\n",
       "                bottom:0;\n",
       "                right:0;\n",
       "                left:0;\n",
       "                }\n",
       "            &lt;/style&gt;\n",
       "\n",
       "            &lt;script&gt;\n",
       "                L_NO_TOUCH = false;\n",
       "                L_DISABLE_3D = false;\n",
       "            &lt;/script&gt;\n",
       "\n",
       "        \n",
       "&lt;/head&gt;\n",
       "&lt;body&gt;\n",
       "    \n",
       "    \n",
       "            &lt;div class=&quot;folium-map&quot; id=&quot;map_450902a9d9c7cea8c11367b990f34cb7&quot; &gt;&lt;/div&gt;\n",
       "        \n",
       "&lt;/body&gt;\n",
       "&lt;script&gt;\n",
       "    \n",
       "    \n",
       "            var map_450902a9d9c7cea8c11367b990f34cb7 = L.map(\n",
       "                &quot;map_450902a9d9c7cea8c11367b990f34cb7&quot;,\n",
       "                {\n",
       "                    center: [-33.457606, -65.346857],\n",
       "                    crs: L.CRS.EPSG3857,\n",
       "                    ...{\n",
       "  &quot;zoom&quot;: 5,\n",
       "  &quot;zoomControl&quot;: true,\n",
       "  &quot;preferCanvas&quot;: false,\n",
       "  &quot;name&quot;: &quot;es&quot;,\n",
       "}\n",
       "\n",
       "                }\n",
       "            );\n",
       "            L.control.scale().addTo(map_450902a9d9c7cea8c11367b990f34cb7);\n",
       "\n",
       "            \n",
       "\n",
       "        \n",
       "    \n",
       "            var tile_layer_d96c4792d01af8bb92687a3db973b553 = L.tileLayer(\n",
       "                &quot;https://wms.ign.gob.ar/geoserver/gwc/service/tms/1.0.0/capabaseargenmap@EPSG%3A3857@png/{z}/{x}/{-y}.png&quot;,\n",
       "                {\n",
       "  &quot;minZoom&quot;: 0,\n",
       "  &quot;maxZoom&quot;: 18,\n",
       "  &quot;maxNativeZoom&quot;: 18,\n",
       "  &quot;noWrap&quot;: false,\n",
       "  &quot;attribution&quot;: &quot;\\u0026copy; \\u003ca href=\\&quot;https://www.openstreetmap.org/copyright\\&quot;\\u003eOpenStreetMap\\u003c/a\\u003e contributors, \\u0026copy; \\u003ca href=\\&quot;https://cartodb.com/attributions\\&quot;\\u003eCartoDB\\u003c/a\\u003e&quot;,\n",
       "  &quot;subdomains&quot;: &quot;abc&quot;,\n",
       "  &quot;detectRetina&quot;: false,\n",
       "  &quot;tms&quot;: false,\n",
       "  &quot;opacity&quot;: 1,\n",
       "}\n",
       "\n",
       "            );\n",
       "        \n",
       "    \n",
       "            tile_layer_d96c4792d01af8bb92687a3db973b553.addTo(map_450902a9d9c7cea8c11367b990f34cb7);\n",
       "        \n",
       "    \n",
       "            tile_layer_d96c4792d01af8bb92687a3db973b553.addTo(map_450902a9d9c7cea8c11367b990f34cb7);\n",
       "        \n",
       "    \n",
       "            var marker_8412bf52766aa5f668e1d05a913c7c4f = L.marker(\n",
       "                [-50.24805555555556, -72.64527777777778],\n",
       "                {\n",
       "}\n",
       "            ).addTo(map_450902a9d9c7cea8c11367b990f34cb7);\n",
       "        \n",
       "    \n",
       "            var icon_228c938aa25690e33f185ac0b44c6baa = L.AwesomeMarkers.icon(\n",
       "                {\n",
       "  &quot;markerColor&quot;: &quot;blue&quot;,\n",
       "  &quot;iconColor&quot;: &quot;white&quot;,\n",
       "  &quot;icon&quot;: &quot;info-sign&quot;,\n",
       "  &quot;prefix&quot;: &quot;glyphicon&quot;,\n",
       "  &quot;extraClasses&quot;: &quot;fa-rotate-0&quot;,\n",
       "}\n",
       "            );\n",
       "        \n",
       "    \n",
       "        var popup_5a741c5435340f686ce1016d6bc9a4c7 = L.popup({\n",
       "  &quot;maxWidth&quot;: &quot;100%&quot;,\n",
       "});\n",
       "\n",
       "        \n",
       "            \n",
       "                var html_f177a8bb76bb2ad7620cf5c340bb83f1 = $(`&lt;div id=&quot;html_f177a8bb76bb2ad7620cf5c340bb83f1&quot; style=&quot;width: 100.0%; height: 100.0%;&quot;&gt;Lago Argentino&lt;/div&gt;`)[0];\n",
       "                popup_5a741c5435340f686ce1016d6bc9a4c7.setContent(html_f177a8bb76bb2ad7620cf5c340bb83f1);\n",
       "            \n",
       "        \n",
       "\n",
       "        marker_8412bf52766aa5f668e1d05a913c7c4f.bindPopup(popup_5a741c5435340f686ce1016d6bc9a4c7)\n",
       "        ;\n",
       "\n",
       "        \n",
       "    \n",
       "    \n",
       "                marker_8412bf52766aa5f668e1d05a913c7c4f.setIcon(icon_228c938aa25690e33f185ac0b44c6baa);\n",
       "            \n",
       "    \n",
       "            var marker_509a57d695644801f5ee8ea73c467649 = L.marker(\n",
       "                [-49.62416666666667, -72.495],\n",
       "                {\n",
       "}\n",
       "            ).addTo(map_450902a9d9c7cea8c11367b990f34cb7);\n",
       "        \n",
       "    \n",
       "            var icon_db9e16e8a8a4c425c9e0e84602d377cd = L.AwesomeMarkers.icon(\n",
       "                {\n",
       "  &quot;markerColor&quot;: &quot;blue&quot;,\n",
       "  &quot;iconColor&quot;: &quot;white&quot;,\n",
       "  &quot;icon&quot;: &quot;info-sign&quot;,\n",
       "  &quot;prefix&quot;: &quot;glyphicon&quot;,\n",
       "  &quot;extraClasses&quot;: &quot;fa-rotate-0&quot;,\n",
       "}\n",
       "            );\n",
       "        \n",
       "    \n",
       "        var popup_376d2731c0310d4c23f0f7d9a47acafd = L.popup({\n",
       "  &quot;maxWidth&quot;: &quot;100%&quot;,\n",
       "});\n",
       "\n",
       "        \n",
       "            \n",
       "                var html_c5a12e69a30271dbf3c4fb0fc7277562 = $(`&lt;div id=&quot;html_c5a12e69a30271dbf3c4fb0fc7277562&quot; style=&quot;width: 100.0%; height: 100.0%;&quot;&gt;Lago Viedma&lt;/div&gt;`)[0];\n",
       "                popup_376d2731c0310d4c23f0f7d9a47acafd.setContent(html_c5a12e69a30271dbf3c4fb0fc7277562);\n",
       "            \n",
       "        \n",
       "\n",
       "        marker_509a57d695644801f5ee8ea73c467649.bindPopup(popup_376d2731c0310d4c23f0f7d9a47acafd)\n",
       "        ;\n",
       "\n",
       "        \n",
       "    \n",
       "    \n",
       "                marker_509a57d695644801f5ee8ea73c467649.setIcon(icon_db9e16e8a8a4c425c9e0e84602d377cd);\n",
       "            \n",
       "    \n",
       "            var marker_d173bcb5246ac8d01e2f3ae34496bcdd = L.marker(\n",
       "                [-40.85444444444445, -71.61611111111111],\n",
       "                {\n",
       "}\n",
       "            ).addTo(map_450902a9d9c7cea8c11367b990f34cb7);\n",
       "        \n",
       "    \n",
       "            var icon_203a1135281a612ca50a80b65b364a2f = L.AwesomeMarkers.icon(\n",
       "                {\n",
       "  &quot;markerColor&quot;: &quot;blue&quot;,\n",
       "  &quot;iconColor&quot;: &quot;white&quot;,\n",
       "  &quot;icon&quot;: &quot;info-sign&quot;,\n",
       "  &quot;prefix&quot;: &quot;glyphicon&quot;,\n",
       "  &quot;extraClasses&quot;: &quot;fa-rotate-0&quot;,\n",
       "}\n",
       "            );\n",
       "        \n",
       "    \n",
       "        var popup_3617a4b4c8bb8b053dba1305614bbdee = L.popup({\n",
       "  &quot;maxWidth&quot;: &quot;100%&quot;,\n",
       "});\n",
       "\n",
       "        \n",
       "            \n",
       "                var html_3a98492f80e0bcd4d89345b125df2e51 = $(`&lt;div id=&quot;html_3a98492f80e0bcd4d89345b125df2e51&quot; style=&quot;width: 100.0%; height: 100.0%;&quot;&gt;Lago Nahuel Huapi&lt;/div&gt;`)[0];\n",
       "                popup_3617a4b4c8bb8b053dba1305614bbdee.setContent(html_3a98492f80e0bcd4d89345b125df2e51);\n",
       "            \n",
       "        \n",
       "\n",
       "        marker_d173bcb5246ac8d01e2f3ae34496bcdd.bindPopup(popup_3617a4b4c8bb8b053dba1305614bbdee)\n",
       "        ;\n",
       "\n",
       "        \n",
       "    \n",
       "    \n",
       "                marker_d173bcb5246ac8d01e2f3ae34496bcdd.setIcon(icon_203a1135281a612ca50a80b65b364a2f);\n",
       "            \n",
       "    \n",
       "            var marker_bed2cfa23f8354ffd8e0046a94a74f28 = L.marker(\n",
       "                [-45.414722222222224, -69.19777777777779],\n",
       "                {\n",
       "}\n",
       "            ).addTo(map_450902a9d9c7cea8c11367b990f34cb7);\n",
       "        \n",
       "    \n",
       "            var icon_f7de1ac94898e5cc12e625d615dddc92 = L.AwesomeMarkers.icon(\n",
       "                {\n",
       "  &quot;markerColor&quot;: &quot;blue&quot;,\n",
       "  &quot;iconColor&quot;: &quot;white&quot;,\n",
       "  &quot;icon&quot;: &quot;info-sign&quot;,\n",
       "  &quot;prefix&quot;: &quot;glyphicon&quot;,\n",
       "  &quot;extraClasses&quot;: &quot;fa-rotate-0&quot;,\n",
       "}\n",
       "            );\n",
       "        \n",
       "    \n",
       "        var popup_f13cc2cb420402560d3a3467f7ef43a9 = L.popup({\n",
       "  &quot;maxWidth&quot;: &quot;100%&quot;,\n",
       "});\n",
       "\n",
       "        \n",
       "            \n",
       "                var html_2298f58e4e2d16399dacbcfd91e1b62d = $(`&lt;div id=&quot;html_2298f58e4e2d16399dacbcfd91e1b62d&quot; style=&quot;width: 100.0%; height: 100.0%;&quot;&gt;Lago Musters&lt;/div&gt;`)[0];\n",
       "                popup_f13cc2cb420402560d3a3467f7ef43a9.setContent(html_2298f58e4e2d16399dacbcfd91e1b62d);\n",
       "            \n",
       "        \n",
       "\n",
       "        marker_bed2cfa23f8354ffd8e0046a94a74f28.bindPopup(popup_f13cc2cb420402560d3a3467f7ef43a9)\n",
       "        ;\n",
       "\n",
       "        \n",
       "    \n",
       "    \n",
       "                marker_bed2cfa23f8354ffd8e0046a94a74f28.setIcon(icon_f7de1ac94898e5cc12e625d615dddc92);\n",
       "            \n",
       "    \n",
       "            var marker_7a80ad3749937792e0e3a61802f11606 = L.marker(\n",
       "                [-48.9175, -71.21472222222222],\n",
       "                {\n",
       "}\n",
       "            ).addTo(map_450902a9d9c7cea8c11367b990f34cb7);\n",
       "        \n",
       "    \n",
       "            var icon_530a33e1ea9d82ba0d554279036eee3c = L.AwesomeMarkers.icon(\n",
       "                {\n",
       "  &quot;markerColor&quot;: &quot;blue&quot;,\n",
       "  &quot;iconColor&quot;: &quot;white&quot;,\n",
       "  &quot;icon&quot;: &quot;info-sign&quot;,\n",
       "  &quot;prefix&quot;: &quot;glyphicon&quot;,\n",
       "  &quot;extraClasses&quot;: &quot;fa-rotate-0&quot;,\n",
       "}\n",
       "            );\n",
       "        \n",
       "    \n",
       "        var popup_27d18b45d707eaa34b980e2dbb88c160 = L.popup({\n",
       "  &quot;maxWidth&quot;: &quot;100%&quot;,\n",
       "});\n",
       "\n",
       "        \n",
       "            \n",
       "                var html_42838908eb0aa391c9e7c58b97cf8a65 = $(`&lt;div id=&quot;html_42838908eb0aa391c9e7c58b97cf8a65&quot; style=&quot;width: 100.0%; height: 100.0%;&quot;&gt;Lago Cardiel&lt;/div&gt;`)[0];\n",
       "                popup_27d18b45d707eaa34b980e2dbb88c160.setContent(html_42838908eb0aa391c9e7c58b97cf8a65);\n",
       "            \n",
       "        \n",
       "\n",
       "        marker_7a80ad3749937792e0e3a61802f11606.bindPopup(popup_27d18b45d707eaa34b980e2dbb88c160)\n",
       "        ;\n",
       "\n",
       "        \n",
       "    \n",
       "    \n",
       "                marker_7a80ad3749937792e0e3a61802f11606.setIcon(icon_530a33e1ea9d82ba0d554279036eee3c);\n",
       "            \n",
       "    \n",
       "            var marker_4d18cc00340d6fd3a7f51c6ee83096c5 = L.marker(\n",
       "                [-37.12916666666667, -62.86472222222223],\n",
       "                {\n",
       "}\n",
       "            ).addTo(map_450902a9d9c7cea8c11367b990f34cb7);\n",
       "        \n",
       "    \n",
       "            var icon_1914cede89726c52a1cf2ddfde561ca8 = L.AwesomeMarkers.icon(\n",
       "                {\n",
       "  &quot;markerColor&quot;: &quot;blue&quot;,\n",
       "  &quot;iconColor&quot;: &quot;white&quot;,\n",
       "  &quot;icon&quot;: &quot;info-sign&quot;,\n",
       "  &quot;prefix&quot;: &quot;glyphicon&quot;,\n",
       "  &quot;extraClasses&quot;: &quot;fa-rotate-0&quot;,\n",
       "}\n",
       "            );\n",
       "        \n",
       "    \n",
       "        var popup_89708d6661238491bef347e7b52ab068 = L.popup({\n",
       "  &quot;maxWidth&quot;: &quot;100%&quot;,\n",
       "});\n",
       "\n",
       "        \n",
       "            \n",
       "                var html_180ff1755031459569397108ab1aa57e = $(`&lt;div id=&quot;html_180ff1755031459569397108ab1aa57e&quot; style=&quot;width: 100.0%; height: 100.0%;&quot;&gt;Lago Epecuén&lt;/div&gt;`)[0];\n",
       "                popup_89708d6661238491bef347e7b52ab068.setContent(html_180ff1755031459569397108ab1aa57e);\n",
       "            \n",
       "        \n",
       "\n",
       "        marker_4d18cc00340d6fd3a7f51c6ee83096c5.bindPopup(popup_89708d6661238491bef347e7b52ab068)\n",
       "        ;\n",
       "\n",
       "        \n",
       "    \n",
       "    \n",
       "                marker_4d18cc00340d6fd3a7f51c6ee83096c5.setIcon(icon_1914cede89726c52a1cf2ddfde561ca8);\n",
       "            \n",
       "    \n",
       "            var marker_cbcb61fcc3d8a2575f3553f8ee205f08 = L.marker(\n",
       "                [-38.706944444444446, -67.97305555555556],\n",
       "                {\n",
       "}\n",
       "            ).addTo(map_450902a9d9c7cea8c11367b990f34cb7);\n",
       "        \n",
       "    \n",
       "            var icon_211837130d517db6c5bbbc276ba61dfb = L.AwesomeMarkers.icon(\n",
       "                {\n",
       "  &quot;markerColor&quot;: &quot;blue&quot;,\n",
       "  &quot;iconColor&quot;: &quot;white&quot;,\n",
       "  &quot;icon&quot;: &quot;info-sign&quot;,\n",
       "  &quot;prefix&quot;: &quot;glyphicon&quot;,\n",
       "  &quot;extraClasses&quot;: &quot;fa-rotate-0&quot;,\n",
       "}\n",
       "            );\n",
       "        \n",
       "    \n",
       "        var popup_f12fecebe9230de6491ccea9b1202034 = L.popup({\n",
       "  &quot;maxWidth&quot;: &quot;100%&quot;,\n",
       "});\n",
       "\n",
       "        \n",
       "            \n",
       "                var html_1ff3b54e9bae3a6ba4c822e4d8de1f50 = $(`&lt;div id=&quot;html_1ff3b54e9bae3a6ba4c822e4d8de1f50&quot; style=&quot;width: 100.0%; height: 100.0%;&quot;&gt;Lago Pellegrini&lt;/div&gt;`)[0];\n",
       "                popup_f12fecebe9230de6491ccea9b1202034.setContent(html_1ff3b54e9bae3a6ba4c822e4d8de1f50);\n",
       "            \n",
       "        \n",
       "\n",
       "        marker_cbcb61fcc3d8a2575f3553f8ee205f08.bindPopup(popup_f12fecebe9230de6491ccea9b1202034)\n",
       "        ;\n",
       "\n",
       "        \n",
       "    \n",
       "    \n",
       "                marker_cbcb61fcc3d8a2575f3553f8ee205f08.setIcon(icon_211837130d517db6c5bbbc276ba61dfb);\n",
       "            \n",
       "    \n",
       "            var marker_bc3697db7892d4345710e3307116f5c8 = L.marker(\n",
       "                [-48.43277777777777, -71.19027777777778],\n",
       "                {\n",
       "}\n",
       "            ).addTo(map_450902a9d9c7cea8c11367b990f34cb7);\n",
       "        \n",
       "    \n",
       "            var icon_c6685bf5bf1ffe6f055b937a3f9e8b4c = L.AwesomeMarkers.icon(\n",
       "                {\n",
       "  &quot;markerColor&quot;: &quot;blue&quot;,\n",
       "  &quot;iconColor&quot;: &quot;white&quot;,\n",
       "  &quot;icon&quot;: &quot;info-sign&quot;,\n",
       "  &quot;prefix&quot;: &quot;glyphicon&quot;,\n",
       "  &quot;extraClasses&quot;: &quot;fa-rotate-0&quot;,\n",
       "}\n",
       "            );\n",
       "        \n",
       "    \n",
       "        var popup_133d4e8c8d29120b24864851c22811f5 = L.popup({\n",
       "  &quot;maxWidth&quot;: &quot;100%&quot;,\n",
       "});\n",
       "\n",
       "        \n",
       "            \n",
       "                var html_5d0f7f869ec211ce396b6295e1731b64 = $(`&lt;div id=&quot;html_5d0f7f869ec211ce396b6295e1731b64&quot; style=&quot;width: 100.0%; height: 100.0%;&quot;&gt;Lago Strobel&lt;/div&gt;`)[0];\n",
       "                popup_133d4e8c8d29120b24864851c22811f5.setContent(html_5d0f7f869ec211ce396b6295e1731b64);\n",
       "            \n",
       "        \n",
       "\n",
       "        marker_bc3697db7892d4345710e3307116f5c8.bindPopup(popup_133d4e8c8d29120b24864851c22811f5)\n",
       "        ;\n",
       "\n",
       "        \n",
       "    \n",
       "    \n",
       "                marker_bc3697db7892d4345710e3307116f5c8.setIcon(icon_c6685bf5bf1ffe6f055b937a3f9e8b4c);\n",
       "            \n",
       "    \n",
       "            var marker_b1936d170e2bdbc4b5fabc4a850e2481 = L.marker(\n",
       "                [-44.921388888888885, -71.49583333333334],\n",
       "                {\n",
       "}\n",
       "            ).addTo(map_450902a9d9c7cea8c11367b990f34cb7);\n",
       "        \n",
       "    \n",
       "            var icon_aaf73806717437852f4ee1bdc7073c98 = L.AwesomeMarkers.icon(\n",
       "                {\n",
       "  &quot;markerColor&quot;: &quot;blue&quot;,\n",
       "  &quot;iconColor&quot;: &quot;white&quot;,\n",
       "  &quot;icon&quot;: &quot;info-sign&quot;,\n",
       "  &quot;prefix&quot;: &quot;glyphicon&quot;,\n",
       "  &quot;extraClasses&quot;: &quot;fa-rotate-0&quot;,\n",
       "}\n",
       "            );\n",
       "        \n",
       "    \n",
       "        var popup_4d776596178308bf3cf82a1ae06377d1 = L.popup({\n",
       "  &quot;maxWidth&quot;: &quot;100%&quot;,\n",
       "});\n",
       "\n",
       "        \n",
       "            \n",
       "                var html_ceb0d6ab1b8ab530d05fa72e587b8b65 = $(`&lt;div id=&quot;html_ceb0d6ab1b8ab530d05fa72e587b8b65&quot; style=&quot;width: 100.0%; height: 100.0%;&quot;&gt;Lago Fontana&lt;/div&gt;`)[0];\n",
       "                popup_4d776596178308bf3cf82a1ae06377d1.setContent(html_ceb0d6ab1b8ab530d05fa72e587b8b65);\n",
       "            \n",
       "        \n",
       "\n",
       "        marker_b1936d170e2bdbc4b5fabc4a850e2481.bindPopup(popup_4d776596178308bf3cf82a1ae06377d1)\n",
       "        ;\n",
       "\n",
       "        \n",
       "    \n",
       "    \n",
       "                marker_b1936d170e2bdbc4b5fabc4a850e2481.setIcon(icon_aaf73806717437852f4ee1bdc7073c98);\n",
       "            \n",
       "    \n",
       "            var marker_53335297e46a8980c076a9961c053376 = L.marker(\n",
       "                [-39.77444444444444, -71.50888888888889],\n",
       "                {\n",
       "}\n",
       "            ).addTo(map_450902a9d9c7cea8c11367b990f34cb7);\n",
       "        \n",
       "    \n",
       "            var icon_d28c577fb8e2da56f784e7edb499be0a = L.AwesomeMarkers.icon(\n",
       "                {\n",
       "  &quot;markerColor&quot;: &quot;blue&quot;,\n",
       "  &quot;iconColor&quot;: &quot;white&quot;,\n",
       "  &quot;icon&quot;: &quot;info-sign&quot;,\n",
       "  &quot;prefix&quot;: &quot;glyphicon&quot;,\n",
       "  &quot;extraClasses&quot;: &quot;fa-rotate-0&quot;,\n",
       "}\n",
       "            );\n",
       "        \n",
       "    \n",
       "        var popup_a63e1f1cecb736e97844e330052d1483 = L.popup({\n",
       "  &quot;maxWidth&quot;: &quot;100%&quot;,\n",
       "});\n",
       "\n",
       "        \n",
       "            \n",
       "                var html_9ff5c4c01511f9c1807e2bb67eb738e7 = $(`&lt;div id=&quot;html_9ff5c4c01511f9c1807e2bb67eb738e7&quot; style=&quot;width: 100.0%; height: 100.0%;&quot;&gt;Lago Huechulafquen&lt;/div&gt;`)[0];\n",
       "                popup_a63e1f1cecb736e97844e330052d1483.setContent(html_9ff5c4c01511f9c1807e2bb67eb738e7);\n",
       "            \n",
       "        \n",
       "\n",
       "        marker_53335297e46a8980c076a9961c053376.bindPopup(popup_a63e1f1cecb736e97844e330052d1483)\n",
       "        ;\n",
       "\n",
       "        \n",
       "    \n",
       "    \n",
       "                marker_53335297e46a8980c076a9961c053376.setIcon(icon_d28c577fb8e2da56f784e7edb499be0a);\n",
       "            \n",
       "    \n",
       "            var marker_cde1515f6bc397853ae5f25ee45cd9df = L.marker(\n",
       "                [-40.63055555555555, -71.41527777777779],\n",
       "                {\n",
       "}\n",
       "            ).addTo(map_450902a9d9c7cea8c11367b990f34cb7);\n",
       "        \n",
       "    \n",
       "            var icon_b6b77a9bf585f8fdf7fe25db16807040 = L.AwesomeMarkers.icon(\n",
       "                {\n",
       "  &quot;markerColor&quot;: &quot;blue&quot;,\n",
       "  &quot;iconColor&quot;: &quot;white&quot;,\n",
       "  &quot;icon&quot;: &quot;info-sign&quot;,\n",
       "  &quot;prefix&quot;: &quot;glyphicon&quot;,\n",
       "  &quot;extraClasses&quot;: &quot;fa-rotate-0&quot;,\n",
       "}\n",
       "            );\n",
       "        \n",
       "    \n",
       "        var popup_1d841ac44bb0e4bef3a67a2bb8822edf = L.popup({\n",
       "  &quot;maxWidth&quot;: &quot;100%&quot;,\n",
       "});\n",
       "\n",
       "        \n",
       "            \n",
       "                var html_292f04920efd859ffaa71dfb21c27dcf = $(`&lt;div id=&quot;html_292f04920efd859ffaa71dfb21c27dcf&quot; style=&quot;width: 100.0%; height: 100.0%;&quot;&gt;Lago Traful&lt;/div&gt;`)[0];\n",
       "                popup_1d841ac44bb0e4bef3a67a2bb8822edf.setContent(html_292f04920efd859ffaa71dfb21c27dcf);\n",
       "            \n",
       "        \n",
       "\n",
       "        marker_cde1515f6bc397853ae5f25ee45cd9df.bindPopup(popup_1d841ac44bb0e4bef3a67a2bb8822edf)\n",
       "        ;\n",
       "\n",
       "        \n",
       "    \n",
       "    \n",
       "                marker_cde1515f6bc397853ae5f25ee45cd9df.setIcon(icon_b6b77a9bf585f8fdf7fe25db16807040);\n",
       "            \n",
       "    \n",
       "            var marker_60bb071da6bb4fc9ce6b2541b3bebea2 = L.marker(\n",
       "                [-44.85916666666667, -71.82],\n",
       "                {\n",
       "}\n",
       "            ).addTo(map_450902a9d9c7cea8c11367b990f34cb7);\n",
       "        \n",
       "    \n",
       "            var icon_1f9dc5d4ed1cd1c447476eedb4aba44a = L.AwesomeMarkers.icon(\n",
       "                {\n",
       "  &quot;markerColor&quot;: &quot;blue&quot;,\n",
       "  &quot;iconColor&quot;: &quot;white&quot;,\n",
       "  &quot;icon&quot;: &quot;info-sign&quot;,\n",
       "  &quot;prefix&quot;: &quot;glyphicon&quot;,\n",
       "  &quot;extraClasses&quot;: &quot;fa-rotate-0&quot;,\n",
       "}\n",
       "            );\n",
       "        \n",
       "    \n",
       "        var popup_3aa4b742609c41a55043259962959f93 = L.popup({\n",
       "  &quot;maxWidth&quot;: &quot;100%&quot;,\n",
       "});\n",
       "\n",
       "        \n",
       "            \n",
       "                var html_deb6d777516d4879af05d7e2ebe0ec82 = $(`&lt;div id=&quot;html_deb6d777516d4879af05d7e2ebe0ec82&quot; style=&quot;width: 100.0%; height: 100.0%;&quot;&gt;Lago La Plata&lt;/div&gt;`)[0];\n",
       "                popup_3aa4b742609c41a55043259962959f93.setContent(html_deb6d777516d4879af05d7e2ebe0ec82);\n",
       "            \n",
       "        \n",
       "\n",
       "        marker_60bb071da6bb4fc9ce6b2541b3bebea2.bindPopup(popup_3aa4b742609c41a55043259962959f93)\n",
       "        ;\n",
       "\n",
       "        \n",
       "    \n",
       "    \n",
       "                marker_60bb071da6bb4fc9ce6b2541b3bebea2.setIcon(icon_1f9dc5d4ed1cd1c447476eedb4aba44a);\n",
       "            \n",
       "    \n",
       "            var marker_112dd825bcbcc5a99d3a5f70118b6299 = L.marker(\n",
       "                [-47.28833333333333, -71.53027777777778],\n",
       "                {\n",
       "}\n",
       "            ).addTo(map_450902a9d9c7cea8c11367b990f34cb7);\n",
       "        \n",
       "    \n",
       "            var icon_e0b48b96403f6b3481fdaf09399b172e = L.AwesomeMarkers.icon(\n",
       "                {\n",
       "  &quot;markerColor&quot;: &quot;blue&quot;,\n",
       "  &quot;iconColor&quot;: &quot;white&quot;,\n",
       "  &quot;icon&quot;: &quot;info-sign&quot;,\n",
       "  &quot;prefix&quot;: &quot;glyphicon&quot;,\n",
       "  &quot;extraClasses&quot;: &quot;fa-rotate-0&quot;,\n",
       "}\n",
       "            );\n",
       "        \n",
       "    \n",
       "        var popup_a747670399e52ff5a9571d685c0cd1ee = L.popup({\n",
       "  &quot;maxWidth&quot;: &quot;100%&quot;,\n",
       "});\n",
       "\n",
       "        \n",
       "            \n",
       "                var html_348d753372ee40acb4211baba6424447 = $(`&lt;div id=&quot;html_348d753372ee40acb4211baba6424447&quot; style=&quot;width: 100.0%; height: 100.0%;&quot;&gt;Lago Ghío&lt;/div&gt;`)[0];\n",
       "                popup_a747670399e52ff5a9571d685c0cd1ee.setContent(html_348d753372ee40acb4211baba6424447);\n",
       "            \n",
       "        \n",
       "\n",
       "        marker_112dd825bcbcc5a99d3a5f70118b6299.bindPopup(popup_a747670399e52ff5a9571d685c0cd1ee)\n",
       "        ;\n",
       "\n",
       "        \n",
       "    \n",
       "    \n",
       "                marker_112dd825bcbcc5a99d3a5f70118b6299.setIcon(icon_e0b48b96403f6b3481fdaf09399b172e);\n",
       "            \n",
       "    \n",
       "            var marker_f350920be18c469a9b4308753cde41d3 = L.marker(\n",
       "                [-42.69111111111111, -71.8625],\n",
       "                {\n",
       "}\n",
       "            ).addTo(map_450902a9d9c7cea8c11367b990f34cb7);\n",
       "        \n",
       "    \n",
       "            var icon_b4e0212a20f8f93d737aad4ae76b8d69 = L.AwesomeMarkers.icon(\n",
       "                {\n",
       "  &quot;markerColor&quot;: &quot;blue&quot;,\n",
       "  &quot;iconColor&quot;: &quot;white&quot;,\n",
       "  &quot;icon&quot;: &quot;info-sign&quot;,\n",
       "  &quot;prefix&quot;: &quot;glyphicon&quot;,\n",
       "  &quot;extraClasses&quot;: &quot;fa-rotate-0&quot;,\n",
       "}\n",
       "            );\n",
       "        \n",
       "    \n",
       "        var popup_740b5cfbcd733caf929863f63339abac = L.popup({\n",
       "  &quot;maxWidth&quot;: &quot;100%&quot;,\n",
       "});\n",
       "\n",
       "        \n",
       "            \n",
       "                var html_135d3a3e8e5cde5fa19d884702ddfcf8 = $(`&lt;div id=&quot;html_135d3a3e8e5cde5fa19d884702ddfcf8&quot; style=&quot;width: 100.0%; height: 100.0%;&quot;&gt;Lago Menéndez&lt;/div&gt;`)[0];\n",
       "                popup_740b5cfbcd733caf929863f63339abac.setContent(html_135d3a3e8e5cde5fa19d884702ddfcf8);\n",
       "            \n",
       "        \n",
       "\n",
       "        marker_f350920be18c469a9b4308753cde41d3.bindPopup(popup_740b5cfbcd733caf929863f63339abac)\n",
       "        ;\n",
       "\n",
       "        \n",
       "    \n",
       "    \n",
       "                marker_f350920be18c469a9b4308753cde41d3.setIcon(icon_b4e0212a20f8f93d737aad4ae76b8d69);\n",
       "            \n",
       "    \n",
       "            var marker_3217fa02828d59a3dd4edb007160fd4e = L.marker(\n",
       "                [-38.92166666666667, -71.12638888888888],\n",
       "                {\n",
       "}\n",
       "            ).addTo(map_450902a9d9c7cea8c11367b990f34cb7);\n",
       "        \n",
       "    \n",
       "            var icon_6be8f9a99fd38e3c54599e49e7936491 = L.AwesomeMarkers.icon(\n",
       "                {\n",
       "  &quot;markerColor&quot;: &quot;blue&quot;,\n",
       "  &quot;iconColor&quot;: &quot;white&quot;,\n",
       "  &quot;icon&quot;: &quot;info-sign&quot;,\n",
       "  &quot;prefix&quot;: &quot;glyphicon&quot;,\n",
       "  &quot;extraClasses&quot;: &quot;fa-rotate-0&quot;,\n",
       "}\n",
       "            );\n",
       "        \n",
       "    \n",
       "        var popup_37718b7add8cef66319e90b8407f0483 = L.popup({\n",
       "  &quot;maxWidth&quot;: &quot;100%&quot;,\n",
       "});\n",
       "\n",
       "        \n",
       "            \n",
       "                var html_ec23f24bad7212ff73187045c4a9af7d = $(`&lt;div id=&quot;html_ec23f24bad7212ff73187045c4a9af7d&quot; style=&quot;width: 100.0%; height: 100.0%;&quot;&gt;Lago Aluminé&lt;/div&gt;`)[0];\n",
       "                popup_37718b7add8cef66319e90b8407f0483.setContent(html_ec23f24bad7212ff73187045c4a9af7d);\n",
       "            \n",
       "        \n",
       "\n",
       "        marker_3217fa02828d59a3dd4edb007160fd4e.bindPopup(popup_37718b7add8cef66319e90b8407f0483)\n",
       "        ;\n",
       "\n",
       "        \n",
       "    \n",
       "    \n",
       "                marker_3217fa02828d59a3dd4edb007160fd4e.setIcon(icon_6be8f9a99fd38e3c54599e49e7936491);\n",
       "            \n",
       "    \n",
       "            var marker_7156a8336c195d92277ae884dd5f3bac = L.marker(\n",
       "                [-40.1625, -71.4363888888889],\n",
       "                {\n",
       "}\n",
       "            ).addTo(map_450902a9d9c7cea8c11367b990f34cb7);\n",
       "        \n",
       "    \n",
       "            var icon_0e9e0b8240c2afaec9aae0a2cf702926 = L.AwesomeMarkers.icon(\n",
       "                {\n",
       "  &quot;markerColor&quot;: &quot;blue&quot;,\n",
       "  &quot;iconColor&quot;: &quot;white&quot;,\n",
       "  &quot;icon&quot;: &quot;info-sign&quot;,\n",
       "  &quot;prefix&quot;: &quot;glyphicon&quot;,\n",
       "  &quot;extraClasses&quot;: &quot;fa-rotate-0&quot;,\n",
       "}\n",
       "            );\n",
       "        \n",
       "    \n",
       "        var popup_ab8af33a48955b776ba1d8d2f7b4ae2e = L.popup({\n",
       "  &quot;maxWidth&quot;: &quot;100%&quot;,\n",
       "});\n",
       "\n",
       "        \n",
       "            \n",
       "                var html_d5cd546e3e4469cab7de38ba314cc4d9 = $(`&lt;div id=&quot;html_d5cd546e3e4469cab7de38ba314cc4d9&quot; style=&quot;width: 100.0%; height: 100.0%;&quot;&gt;Lago Lácar&lt;/div&gt;`)[0];\n",
       "                popup_ab8af33a48955b776ba1d8d2f7b4ae2e.setContent(html_d5cd546e3e4469cab7de38ba314cc4d9);\n",
       "            \n",
       "        \n",
       "\n",
       "        marker_7156a8336c195d92277ae884dd5f3bac.bindPopup(popup_ab8af33a48955b776ba1d8d2f7b4ae2e)\n",
       "        ;\n",
       "\n",
       "        \n",
       "    \n",
       "    \n",
       "                marker_7156a8336c195d92277ae884dd5f3bac.setIcon(icon_0e9e0b8240c2afaec9aae0a2cf702926);\n",
       "            \n",
       "    \n",
       "            var marker_e685c999f7e069da65d77180c1fa2320 = L.marker(\n",
       "                [-54.41194444444445, -67.71527777777779],\n",
       "                {\n",
       "}\n",
       "            ).addTo(map_450902a9d9c7cea8c11367b990f34cb7);\n",
       "        \n",
       "    \n",
       "            var icon_6eedddd0a215f9e66fa253eb423f8c78 = L.AwesomeMarkers.icon(\n",
       "                {\n",
       "  &quot;markerColor&quot;: &quot;blue&quot;,\n",
       "  &quot;iconColor&quot;: &quot;white&quot;,\n",
       "  &quot;icon&quot;: &quot;info-sign&quot;,\n",
       "  &quot;prefix&quot;: &quot;glyphicon&quot;,\n",
       "  &quot;extraClasses&quot;: &quot;fa-rotate-0&quot;,\n",
       "}\n",
       "            );\n",
       "        \n",
       "    \n",
       "        var popup_b6b59cbb2deb6d49f3e1ad605b37bf39 = L.popup({\n",
       "  &quot;maxWidth&quot;: &quot;100%&quot;,\n",
       "});\n",
       "\n",
       "        \n",
       "            \n",
       "                var html_e95273cb438651786102bd50bed790cb = $(`&lt;div id=&quot;html_e95273cb438651786102bd50bed790cb&quot; style=&quot;width: 100.0%; height: 100.0%;&quot;&gt;Lago Yehuin&lt;/div&gt;`)[0];\n",
       "                popup_b6b59cbb2deb6d49f3e1ad605b37bf39.setContent(html_e95273cb438651786102bd50bed790cb);\n",
       "            \n",
       "        \n",
       "\n",
       "        marker_e685c999f7e069da65d77180c1fa2320.bindPopup(popup_b6b59cbb2deb6d49f3e1ad605b37bf39)\n",
       "        ;\n",
       "\n",
       "        \n",
       "    \n",
       "    \n",
       "                marker_e685c999f7e069da65d77180c1fa2320.setIcon(icon_6eedddd0a215f9e66fa253eb423f8c78);\n",
       "            \n",
       "    \n",
       "            var marker_b220335391d98dc21de5995cb2a37d34 = L.marker(\n",
       "                [-48.41694444444444, -71.55083333333333],\n",
       "                {\n",
       "}\n",
       "            ).addTo(map_450902a9d9c7cea8c11367b990f34cb7);\n",
       "        \n",
       "    \n",
       "            var icon_f0e3ff2665fd0376997d46755b5b110b = L.AwesomeMarkers.icon(\n",
       "                {\n",
       "  &quot;markerColor&quot;: &quot;blue&quot;,\n",
       "  &quot;iconColor&quot;: &quot;white&quot;,\n",
       "  &quot;icon&quot;: &quot;info-sign&quot;,\n",
       "  &quot;prefix&quot;: &quot;glyphicon&quot;,\n",
       "  &quot;extraClasses&quot;: &quot;fa-rotate-0&quot;,\n",
       "}\n",
       "            );\n",
       "        \n",
       "    \n",
       "        var popup_f1d878f9f8e7bd63be1472ef71f9191d = L.popup({\n",
       "  &quot;maxWidth&quot;: &quot;100%&quot;,\n",
       "});\n",
       "\n",
       "        \n",
       "            \n",
       "                var html_51b44800344283495dc975ea332553b8 = $(`&lt;div id=&quot;html_51b44800344283495dc975ea332553b8&quot; style=&quot;width: 100.0%; height: 100.0%;&quot;&gt;Lago Quiroga&lt;/div&gt;`)[0];\n",
       "                popup_f1d878f9f8e7bd63be1472ef71f9191d.setContent(html_51b44800344283495dc975ea332553b8);\n",
       "            \n",
       "        \n",
       "\n",
       "        marker_b220335391d98dc21de5995cb2a37d34.bindPopup(popup_f1d878f9f8e7bd63be1472ef71f9191d)\n",
       "        ;\n",
       "\n",
       "        \n",
       "    \n",
       "    \n",
       "                marker_b220335391d98dc21de5995cb2a37d34.setIcon(icon_f0e3ff2665fd0376997d46755b5b110b);\n",
       "            \n",
       "    \n",
       "            var marker_8c93782e88fdfec05add6de531ad2386 = L.marker(\n",
       "                [-42.15083333333333, -71.64972222222222],\n",
       "                {\n",
       "}\n",
       "            ).addTo(map_450902a9d9c7cea8c11367b990f34cb7);\n",
       "        \n",
       "    \n",
       "            var icon_8c02d70f9291c3c8e5a60e384f56cd51 = L.AwesomeMarkers.icon(\n",
       "                {\n",
       "  &quot;markerColor&quot;: &quot;blue&quot;,\n",
       "  &quot;iconColor&quot;: &quot;white&quot;,\n",
       "  &quot;icon&quot;: &quot;info-sign&quot;,\n",
       "  &quot;prefix&quot;: &quot;glyphicon&quot;,\n",
       "  &quot;extraClasses&quot;: &quot;fa-rotate-0&quot;,\n",
       "}\n",
       "            );\n",
       "        \n",
       "    \n",
       "        var popup_a60a16dccc579f85140b7291fdc313dc = L.popup({\n",
       "  &quot;maxWidth&quot;: &quot;100%&quot;,\n",
       "});\n",
       "\n",
       "        \n",
       "            \n",
       "                var html_d0b85059fb79b4ed0c5ac4da5c7bb151 = $(`&lt;div id=&quot;html_d0b85059fb79b4ed0c5ac4da5c7bb151&quot; style=&quot;width: 100.0%; height: 100.0%;&quot;&gt;Lago Puelo&lt;/div&gt;`)[0];\n",
       "                popup_a60a16dccc579f85140b7291fdc313dc.setContent(html_d0b85059fb79b4ed0c5ac4da5c7bb151);\n",
       "            \n",
       "        \n",
       "\n",
       "        marker_8c93782e88fdfec05add6de531ad2386.bindPopup(popup_a60a16dccc579f85140b7291fdc313dc)\n",
       "        ;\n",
       "\n",
       "        \n",
       "    \n",
       "    \n",
       "                marker_8c93782e88fdfec05add6de531ad2386.setIcon(icon_8c02d70f9291c3c8e5a60e384f56cd51);\n",
       "            \n",
       "    \n",
       "            var marker_b8155f6b851a040a30c62b1f8277cbfd = L.marker(\n",
       "                [-47.97888888888889, -72.35305555555556],\n",
       "                {\n",
       "}\n",
       "            ).addTo(map_450902a9d9c7cea8c11367b990f34cb7);\n",
       "        \n",
       "    \n",
       "            var icon_f8bdc6405fffb0567b8cdfd00d34ef2a = L.AwesomeMarkers.icon(\n",
       "                {\n",
       "  &quot;markerColor&quot;: &quot;blue&quot;,\n",
       "  &quot;iconColor&quot;: &quot;white&quot;,\n",
       "  &quot;icon&quot;: &quot;info-sign&quot;,\n",
       "  &quot;prefix&quot;: &quot;glyphicon&quot;,\n",
       "  &quot;extraClasses&quot;: &quot;fa-rotate-0&quot;,\n",
       "}\n",
       "            );\n",
       "        \n",
       "    \n",
       "        var popup_c2ba75dec4e3b16def6ddb0828278ba3 = L.popup({\n",
       "  &quot;maxWidth&quot;: &quot;100%&quot;,\n",
       "});\n",
       "\n",
       "        \n",
       "            \n",
       "                var html_022ec5da54d04b9a9e87e7c52e38f71b = $(`&lt;div id=&quot;html_022ec5da54d04b9a9e87e7c52e38f71b&quot; style=&quot;width: 100.0%; height: 100.0%;&quot;&gt;Lago Nansen&lt;/div&gt;`)[0];\n",
       "                popup_c2ba75dec4e3b16def6ddb0828278ba3.setContent(html_022ec5da54d04b9a9e87e7c52e38f71b);\n",
       "            \n",
       "        \n",
       "\n",
       "        marker_b8155f6b851a040a30c62b1f8277cbfd.bindPopup(popup_c2ba75dec4e3b16def6ddb0828278ba3)\n",
       "        ;\n",
       "\n",
       "        \n",
       "    \n",
       "    \n",
       "                marker_b8155f6b851a040a30c62b1f8277cbfd.setIcon(icon_f8bdc6405fffb0567b8cdfd00d34ef2a);\n",
       "            \n",
       "    \n",
       "            var marker_bbd22acaf817fbd902495ab2347dcb8f = L.marker(\n",
       "                [-47.84388888888889, -72.14277777777778],\n",
       "                {\n",
       "}\n",
       "            ).addTo(map_450902a9d9c7cea8c11367b990f34cb7);\n",
       "        \n",
       "    \n",
       "            var icon_c2c20f5b285ef83e29d86a0485cc6b1a = L.AwesomeMarkers.icon(\n",
       "                {\n",
       "  &quot;markerColor&quot;: &quot;blue&quot;,\n",
       "  &quot;iconColor&quot;: &quot;white&quot;,\n",
       "  &quot;icon&quot;: &quot;info-sign&quot;,\n",
       "  &quot;prefix&quot;: &quot;glyphicon&quot;,\n",
       "  &quot;extraClasses&quot;: &quot;fa-rotate-0&quot;,\n",
       "}\n",
       "            );\n",
       "        \n",
       "    \n",
       "        var popup_e32ddf20d780e21d8b5b7a5866589f12 = L.popup({\n",
       "  &quot;maxWidth&quot;: &quot;100%&quot;,\n",
       "});\n",
       "\n",
       "        \n",
       "            \n",
       "                var html_9efc91655b4a7a46f8dcd341da24ca0b = $(`&lt;div id=&quot;html_9efc91655b4a7a46f8dcd341da24ca0b&quot; style=&quot;width: 100.0%; height: 100.0%;&quot;&gt;Lago Belgrano&lt;/div&gt;`)[0];\n",
       "                popup_e32ddf20d780e21d8b5b7a5866589f12.setContent(html_9efc91655b4a7a46f8dcd341da24ca0b);\n",
       "            \n",
       "        \n",
       "\n",
       "        marker_bbd22acaf817fbd902495ab2347dcb8f.bindPopup(popup_e32ddf20d780e21d8b5b7a5866589f12)\n",
       "        ;\n",
       "\n",
       "        \n",
       "    \n",
       "    \n",
       "                marker_bbd22acaf817fbd902495ab2347dcb8f.setIcon(icon_c2c20f5b285ef83e29d86a0485cc6b1a);\n",
       "            \n",
       "    \n",
       "            var marker_7f2d1a0b1937bd6ee5a14247f1a9259b = L.marker(\n",
       "                [-42.82833333333333, -71.67527777777778],\n",
       "                {\n",
       "}\n",
       "            ).addTo(map_450902a9d9c7cea8c11367b990f34cb7);\n",
       "        \n",
       "    \n",
       "            var icon_ce00d2d3d77f823b11c8f44d4ec94d07 = L.AwesomeMarkers.icon(\n",
       "                {\n",
       "  &quot;markerColor&quot;: &quot;blue&quot;,\n",
       "  &quot;iconColor&quot;: &quot;white&quot;,\n",
       "  &quot;icon&quot;: &quot;info-sign&quot;,\n",
       "  &quot;prefix&quot;: &quot;glyphicon&quot;,\n",
       "  &quot;extraClasses&quot;: &quot;fa-rotate-0&quot;,\n",
       "}\n",
       "            );\n",
       "        \n",
       "    \n",
       "        var popup_6635698d81305ae6240ece2d0303d9b8 = L.popup({\n",
       "  &quot;maxWidth&quot;: &quot;100%&quot;,\n",
       "});\n",
       "\n",
       "        \n",
       "            \n",
       "                var html_41ef5854af600000ac295e6b3c1407b4 = $(`&lt;div id=&quot;html_41ef5854af600000ac295e6b3c1407b4&quot; style=&quot;width: 100.0%; height: 100.0%;&quot;&gt;Lago Futalaufquen&lt;/div&gt;`)[0];\n",
       "                popup_6635698d81305ae6240ece2d0303d9b8.setContent(html_41ef5854af600000ac295e6b3c1407b4);\n",
       "            \n",
       "        \n",
       "\n",
       "        marker_7f2d1a0b1937bd6ee5a14247f1a9259b.bindPopup(popup_6635698d81305ae6240ece2d0303d9b8)\n",
       "        ;\n",
       "\n",
       "        \n",
       "    \n",
       "    \n",
       "                marker_7f2d1a0b1937bd6ee5a14247f1a9259b.setIcon(icon_ce00d2d3d77f823b11c8f44d4ec94d07);\n",
       "            \n",
       "    \n",
       "            var marker_18e00eb55fde7acc35dc4b76a5d66ddf = L.marker(\n",
       "                [-47.49444444444445, -71.83194444444445],\n",
       "                {\n",
       "}\n",
       "            ).addTo(map_450902a9d9c7cea8c11367b990f34cb7);\n",
       "        \n",
       "    \n",
       "            var icon_8b74b6ca533ac8cf8118edfd3320f94b = L.AwesomeMarkers.icon(\n",
       "                {\n",
       "  &quot;markerColor&quot;: &quot;blue&quot;,\n",
       "  &quot;iconColor&quot;: &quot;white&quot;,\n",
       "  &quot;icon&quot;: &quot;info-sign&quot;,\n",
       "  &quot;prefix&quot;: &quot;glyphicon&quot;,\n",
       "  &quot;extraClasses&quot;: &quot;fa-rotate-0&quot;,\n",
       "}\n",
       "            );\n",
       "        \n",
       "    \n",
       "        var popup_f2c2468413388eaadf40191633923354 = L.popup({\n",
       "  &quot;maxWidth&quot;: &quot;100%&quot;,\n",
       "});\n",
       "\n",
       "        \n",
       "            \n",
       "                var html_db0542bf86eaacf3f8ea77ad2dfa72e7 = $(`&lt;div id=&quot;html_db0542bf86eaacf3f8ea77ad2dfa72e7&quot; style=&quot;width: 100.0%; height: 100.0%;&quot;&gt;Lago Posadas&lt;/div&gt;`)[0];\n",
       "                popup_f2c2468413388eaadf40191633923354.setContent(html_db0542bf86eaacf3f8ea77ad2dfa72e7);\n",
       "            \n",
       "        \n",
       "\n",
       "        marker_18e00eb55fde7acc35dc4b76a5d66ddf.bindPopup(popup_f2c2468413388eaadf40191633923354)\n",
       "        ;\n",
       "\n",
       "        \n",
       "    \n",
       "    \n",
       "                marker_18e00eb55fde7acc35dc4b76a5d66ddf.setIcon(icon_8b74b6ca533ac8cf8118edfd3320f94b);\n",
       "            \n",
       "    \n",
       "            var marker_900be07af282dc43b8e5a7fe34bc8974 = L.marker(\n",
       "                [-40.67583333333333, -71.71111111111111],\n",
       "                {\n",
       "}\n",
       "            ).addTo(map_450902a9d9c7cea8c11367b990f34cb7);\n",
       "        \n",
       "    \n",
       "            var icon_978cdf34b5ec2c084050bb0a4eb72ff5 = L.AwesomeMarkers.icon(\n",
       "                {\n",
       "  &quot;markerColor&quot;: &quot;blue&quot;,\n",
       "  &quot;iconColor&quot;: &quot;white&quot;,\n",
       "  &quot;icon&quot;: &quot;info-sign&quot;,\n",
       "  &quot;prefix&quot;: &quot;glyphicon&quot;,\n",
       "  &quot;extraClasses&quot;: &quot;fa-rotate-0&quot;,\n",
       "}\n",
       "            );\n",
       "        \n",
       "    \n",
       "        var popup_5e276516ba86a2d06d76c9d8f5b6dc4c = L.popup({\n",
       "  &quot;maxWidth&quot;: &quot;100%&quot;,\n",
       "});\n",
       "\n",
       "        \n",
       "            \n",
       "                var html_8ec47f00b8b2b72e705d3af34b3ad76b = $(`&lt;div id=&quot;html_8ec47f00b8b2b72e705d3af34b3ad76b&quot; style=&quot;width: 100.0%; height: 100.0%;&quot;&gt;Lago Espejo&lt;/div&gt;`)[0];\n",
       "                popup_5e276516ba86a2d06d76c9d8f5b6dc4c.setContent(html_8ec47f00b8b2b72e705d3af34b3ad76b);\n",
       "            \n",
       "        \n",
       "\n",
       "        marker_900be07af282dc43b8e5a7fe34bc8974.bindPopup(popup_5e276516ba86a2d06d76c9d8f5b6dc4c)\n",
       "        ;\n",
       "\n",
       "        \n",
       "    \n",
       "    \n",
       "                marker_900be07af282dc43b8e5a7fe34bc8974.setIcon(icon_978cdf34b5ec2c084050bb0a4eb72ff5);\n",
       "            \n",
       "    \n",
       "            var marker_3ddde2fe951f3e94a5446d95280c7654 = L.marker(\n",
       "                [-41.34611111111112, -71.54777777777778],\n",
       "                {\n",
       "}\n",
       "            ).addTo(map_450902a9d9c7cea8c11367b990f34cb7);\n",
       "        \n",
       "    \n",
       "            var icon_429687586c064d8d6b880858b53a5df3 = L.AwesomeMarkers.icon(\n",
       "                {\n",
       "  &quot;markerColor&quot;: &quot;blue&quot;,\n",
       "  &quot;iconColor&quot;: &quot;white&quot;,\n",
       "  &quot;icon&quot;: &quot;info-sign&quot;,\n",
       "  &quot;prefix&quot;: &quot;glyphicon&quot;,\n",
       "  &quot;extraClasses&quot;: &quot;fa-rotate-0&quot;,\n",
       "}\n",
       "            );\n",
       "        \n",
       "    \n",
       "        var popup_d977e3d9483ccd23634750afbd274c3b = L.popup({\n",
       "  &quot;maxWidth&quot;: &quot;100%&quot;,\n",
       "});\n",
       "\n",
       "        \n",
       "            \n",
       "                var html_0cf99a4a285117537735a8d47cd9473f = $(`&lt;div id=&quot;html_0cf99a4a285117537735a8d47cd9473f&quot; style=&quot;width: 100.0%; height: 100.0%;&quot;&gt;Lago Mascardi&lt;/div&gt;`)[0];\n",
       "                popup_d977e3d9483ccd23634750afbd274c3b.setContent(html_0cf99a4a285117537735a8d47cd9473f);\n",
       "            \n",
       "        \n",
       "\n",
       "        marker_3ddde2fe951f3e94a5446d95280c7654.bindPopup(popup_d977e3d9483ccd23634750afbd274c3b)\n",
       "        ;\n",
       "\n",
       "        \n",
       "    \n",
       "    \n",
       "                marker_3ddde2fe951f3e94a5446d95280c7654.setIcon(icon_429687586c064d8d6b880858b53a5df3);\n",
       "            \n",
       "    \n",
       "            var marker_2e3dbe48b8a9c14e4cb157c8a839c7f0 = L.marker(\n",
       "                [-54.395, -67.59333333333333],\n",
       "                {\n",
       "}\n",
       "            ).addTo(map_450902a9d9c7cea8c11367b990f34cb7);\n",
       "        \n",
       "    \n",
       "            var icon_8eab01640f9febdc62043838bb4e5f86 = L.AwesomeMarkers.icon(\n",
       "                {\n",
       "  &quot;markerColor&quot;: &quot;blue&quot;,\n",
       "  &quot;iconColor&quot;: &quot;white&quot;,\n",
       "  &quot;icon&quot;: &quot;info-sign&quot;,\n",
       "  &quot;prefix&quot;: &quot;glyphicon&quot;,\n",
       "  &quot;extraClasses&quot;: &quot;fa-rotate-0&quot;,\n",
       "}\n",
       "            );\n",
       "        \n",
       "    \n",
       "        var popup_e2f23d198a20e8c33806ba1f13b7e9fb = L.popup({\n",
       "  &quot;maxWidth&quot;: &quot;100%&quot;,\n",
       "});\n",
       "\n",
       "        \n",
       "            \n",
       "                var html_e50ddb76af751ee2c29c55cb4f6980ff = $(`&lt;div id=&quot;html_e50ddb76af751ee2c29c55cb4f6980ff&quot; style=&quot;width: 100.0%; height: 100.0%;&quot;&gt;Lago Chepelmut&lt;/div&gt;`)[0];\n",
       "                popup_e2f23d198a20e8c33806ba1f13b7e9fb.setContent(html_e50ddb76af751ee2c29c55cb4f6980ff);\n",
       "            \n",
       "        \n",
       "\n",
       "        marker_2e3dbe48b8a9c14e4cb157c8a839c7f0.bindPopup(popup_e2f23d198a20e8c33806ba1f13b7e9fb)\n",
       "        ;\n",
       "\n",
       "        \n",
       "    \n",
       "    \n",
       "                marker_2e3dbe48b8a9c14e4cb157c8a839c7f0.setIcon(icon_8eab01640f9febdc62043838bb4e5f86);\n",
       "            \n",
       "    \n",
       "            var marker_53ef7ab169864cf82cf44caaf7435081 = L.marker(\n",
       "                [-47.5, -71.61333333333333],\n",
       "                {\n",
       "}\n",
       "            ).addTo(map_450902a9d9c7cea8c11367b990f34cb7);\n",
       "        \n",
       "    \n",
       "            var icon_f9ae0d630b27a01a6e38b11db8600679 = L.AwesomeMarkers.icon(\n",
       "                {\n",
       "  &quot;markerColor&quot;: &quot;blue&quot;,\n",
       "  &quot;iconColor&quot;: &quot;white&quot;,\n",
       "  &quot;icon&quot;: &quot;info-sign&quot;,\n",
       "  &quot;prefix&quot;: &quot;glyphicon&quot;,\n",
       "  &quot;extraClasses&quot;: &quot;fa-rotate-0&quot;,\n",
       "}\n",
       "            );\n",
       "        \n",
       "    \n",
       "        var popup_a8d51414f65a8f952db268a5a525d034 = L.popup({\n",
       "  &quot;maxWidth&quot;: &quot;100%&quot;,\n",
       "});\n",
       "\n",
       "        \n",
       "            \n",
       "                var html_d841abc10ad2ed923794f2517c63f731 = $(`&lt;div id=&quot;html_d841abc10ad2ed923794f2517c63f731&quot; style=&quot;width: 100.0%; height: 100.0%;&quot;&gt;Lago Salitroso o Sucio&lt;/div&gt;`)[0];\n",
       "                popup_a8d51414f65a8f952db268a5a525d034.setContent(html_d841abc10ad2ed923794f2517c63f731);\n",
       "            \n",
       "        \n",
       "\n",
       "        marker_53ef7ab169864cf82cf44caaf7435081.bindPopup(popup_a8d51414f65a8f952db268a5a525d034)\n",
       "        ;\n",
       "\n",
       "        \n",
       "    \n",
       "    \n",
       "                marker_53ef7ab169864cf82cf44caaf7435081.setIcon(icon_f9ae0d630b27a01a6e38b11db8600679);\n",
       "            \n",
       "    \n",
       "            var marker_758bc70a7b652a887a842196e9e93c71 = L.marker(\n",
       "                [-40.03611111111111, -71.5363888888889],\n",
       "                {\n",
       "}\n",
       "            ).addTo(map_450902a9d9c7cea8c11367b990f34cb7);\n",
       "        \n",
       "    \n",
       "            var icon_1b36db0a7bda68c9dddaaf929f8dec7b = L.AwesomeMarkers.icon(\n",
       "                {\n",
       "  &quot;markerColor&quot;: &quot;blue&quot;,\n",
       "  &quot;iconColor&quot;: &quot;white&quot;,\n",
       "  &quot;icon&quot;: &quot;info-sign&quot;,\n",
       "  &quot;prefix&quot;: &quot;glyphicon&quot;,\n",
       "  &quot;extraClasses&quot;: &quot;fa-rotate-0&quot;,\n",
       "}\n",
       "            );\n",
       "        \n",
       "    \n",
       "        var popup_34efc8331291550543ea234e5b86279e = L.popup({\n",
       "  &quot;maxWidth&quot;: &quot;100%&quot;,\n",
       "});\n",
       "\n",
       "        \n",
       "            \n",
       "                var html_295bbf2593642532052edabcaeb78a51 = $(`&lt;div id=&quot;html_295bbf2593642532052edabcaeb78a51&quot; style=&quot;width: 100.0%; height: 100.0%;&quot;&gt;Lago Lolog&lt;/div&gt;`)[0];\n",
       "                popup_34efc8331291550543ea234e5b86279e.setContent(html_295bbf2593642532052edabcaeb78a51);\n",
       "            \n",
       "        \n",
       "\n",
       "        marker_758bc70a7b652a887a842196e9e93c71.bindPopup(popup_34efc8331291550543ea234e5b86279e)\n",
       "        ;\n",
       "\n",
       "        \n",
       "    \n",
       "    \n",
       "                marker_758bc70a7b652a887a842196e9e93c71.setIcon(icon_1b36db0a7bda68c9dddaaf929f8dec7b);\n",
       "            \n",
       "    \n",
       "            var marker_e8d4bc7582263ff0ba3296054f807687 = L.marker(\n",
       "                [-49.22833333333333, -72.01722222222222],\n",
       "                {\n",
       "}\n",
       "            ).addTo(map_450902a9d9c7cea8c11367b990f34cb7);\n",
       "        \n",
       "    \n",
       "            var icon_cf52e3f10631f8ec732561b2b3d93874 = L.AwesomeMarkers.icon(\n",
       "                {\n",
       "  &quot;markerColor&quot;: &quot;blue&quot;,\n",
       "  &quot;iconColor&quot;: &quot;white&quot;,\n",
       "  &quot;icon&quot;: &quot;info-sign&quot;,\n",
       "  &quot;prefix&quot;: &quot;glyphicon&quot;,\n",
       "  &quot;extraClasses&quot;: &quot;fa-rotate-0&quot;,\n",
       "}\n",
       "            );\n",
       "        \n",
       "    \n",
       "        var popup_1f605aed3a6e6d354ce64848177da6dd = L.popup({\n",
       "  &quot;maxWidth&quot;: &quot;100%&quot;,\n",
       "});\n",
       "\n",
       "        \n",
       "            \n",
       "                var html_67dd308f55b75c79f2ca59163ddd763c = $(`&lt;div id=&quot;html_67dd308f55b75c79f2ca59163ddd763c&quot; style=&quot;width: 100.0%; height: 100.0%;&quot;&gt;Lago Tar&lt;/div&gt;`)[0];\n",
       "                popup_1f605aed3a6e6d354ce64848177da6dd.setContent(html_67dd308f55b75c79f2ca59163ddd763c);\n",
       "            \n",
       "        \n",
       "\n",
       "        marker_e8d4bc7582263ff0ba3296054f807687.bindPopup(popup_1f605aed3a6e6d354ce64848177da6dd)\n",
       "        ;\n",
       "\n",
       "        \n",
       "    \n",
       "    \n",
       "                marker_e8d4bc7582263ff0ba3296054f807687.setIcon(icon_cf52e3f10631f8ec732561b2b3d93874);\n",
       "            \n",
       "    \n",
       "            var marker_54998a3ad44a72a13017599a923d027f = L.marker(\n",
       "                [-39.52583333333333, -71.44777777777779],\n",
       "                {\n",
       "}\n",
       "            ).addTo(map_450902a9d9c7cea8c11367b990f34cb7);\n",
       "        \n",
       "    \n",
       "            var icon_b5d04cba4dd6429cfeab1a2614e1ec71 = L.AwesomeMarkers.icon(\n",
       "                {\n",
       "  &quot;markerColor&quot;: &quot;blue&quot;,\n",
       "  &quot;iconColor&quot;: &quot;white&quot;,\n",
       "  &quot;icon&quot;: &quot;info-sign&quot;,\n",
       "  &quot;prefix&quot;: &quot;glyphicon&quot;,\n",
       "  &quot;extraClasses&quot;: &quot;fa-rotate-0&quot;,\n",
       "}\n",
       "            );\n",
       "        \n",
       "    \n",
       "        var popup_c124a7a27498bc2f1a2c0ae076c9a778 = L.popup({\n",
       "  &quot;maxWidth&quot;: &quot;100%&quot;,\n",
       "});\n",
       "\n",
       "        \n",
       "            \n",
       "                var html_6b2866535d633e1453ef95c85475542f = $(`&lt;div id=&quot;html_6b2866535d633e1453ef95c85475542f&quot; style=&quot;width: 100.0%; height: 100.0%;&quot;&gt;Lago Tromen&lt;/div&gt;`)[0];\n",
       "                popup_c124a7a27498bc2f1a2c0ae076c9a778.setContent(html_6b2866535d633e1453ef95c85475542f);\n",
       "            \n",
       "        \n",
       "\n",
       "        marker_54998a3ad44a72a13017599a923d027f.bindPopup(popup_c124a7a27498bc2f1a2c0ae076c9a778)\n",
       "        ;\n",
       "\n",
       "        \n",
       "    \n",
       "    \n",
       "                marker_54998a3ad44a72a13017599a923d027f.setIcon(icon_b5d04cba4dd6429cfeab1a2614e1ec71);\n",
       "            \n",
       "    \n",
       "            var marker_2c756121c55b6e91658086e067496ea8 = L.marker(\n",
       "                [-45.88777777777778, -71.22361111111111],\n",
       "                {\n",
       "}\n",
       "            ).addTo(map_450902a9d9c7cea8c11367b990f34cb7);\n",
       "        \n",
       "    \n",
       "            var icon_d089eacf6c046eb6fa798e35a22f4a72 = L.AwesomeMarkers.icon(\n",
       "                {\n",
       "  &quot;markerColor&quot;: &quot;blue&quot;,\n",
       "  &quot;iconColor&quot;: &quot;white&quot;,\n",
       "  &quot;icon&quot;: &quot;info-sign&quot;,\n",
       "  &quot;prefix&quot;: &quot;glyphicon&quot;,\n",
       "  &quot;extraClasses&quot;: &quot;fa-rotate-0&quot;,\n",
       "}\n",
       "            );\n",
       "        \n",
       "    \n",
       "        var popup_66efe5285c084f82805a688d55dfef1d = L.popup({\n",
       "  &quot;maxWidth&quot;: &quot;100%&quot;,\n",
       "});\n",
       "\n",
       "        \n",
       "            \n",
       "                var html_08d0cf0bf3d1d9f917a060a8c21febb0 = $(`&lt;div id=&quot;html_08d0cf0bf3d1d9f917a060a8c21febb0&quot; style=&quot;width: 100.0%; height: 100.0%;&quot;&gt;Lago Blanco&lt;/div&gt;`)[0];\n",
       "                popup_66efe5285c084f82805a688d55dfef1d.setContent(html_08d0cf0bf3d1d9f917a060a8c21febb0);\n",
       "            \n",
       "        \n",
       "\n",
       "        marker_2c756121c55b6e91658086e067496ea8.bindPopup(popup_66efe5285c084f82805a688d55dfef1d)\n",
       "        ;\n",
       "\n",
       "        \n",
       "    \n",
       "    \n",
       "                marker_2c756121c55b6e91658086e067496ea8.setIcon(icon_d089eacf6c046eb6fa798e35a22f4a72);\n",
       "            \n",
       "    \n",
       "            var marker_665805203322c52e88d0125e4d3f74ec = L.marker(\n",
       "                [-39.41138888888889, -71.31444444444445],\n",
       "                {\n",
       "}\n",
       "            ).addTo(map_450902a9d9c7cea8c11367b990f34cb7);\n",
       "        \n",
       "    \n",
       "            var icon_46cb4dff8591d7092d177acae27227c3 = L.AwesomeMarkers.icon(\n",
       "                {\n",
       "  &quot;markerColor&quot;: &quot;blue&quot;,\n",
       "  &quot;iconColor&quot;: &quot;white&quot;,\n",
       "  &quot;icon&quot;: &quot;info-sign&quot;,\n",
       "  &quot;prefix&quot;: &quot;glyphicon&quot;,\n",
       "  &quot;extraClasses&quot;: &quot;fa-rotate-0&quot;,\n",
       "}\n",
       "            );\n",
       "        \n",
       "    \n",
       "        var popup_206065339c84ec9d8ef5022da8dd9524 = L.popup({\n",
       "  &quot;maxWidth&quot;: &quot;100%&quot;,\n",
       "});\n",
       "\n",
       "        \n",
       "            \n",
       "                var html_3f13e1ffc35d36d07d8fab84606ad80f = $(`&lt;div id=&quot;html_3f13e1ffc35d36d07d8fab84606ad80f&quot; style=&quot;width: 100.0%; height: 100.0%;&quot;&gt;Lago Quillén&lt;/div&gt;`)[0];\n",
       "                popup_206065339c84ec9d8ef5022da8dd9524.setContent(html_3f13e1ffc35d36d07d8fab84606ad80f);\n",
       "            \n",
       "        \n",
       "\n",
       "        marker_665805203322c52e88d0125e4d3f74ec.bindPopup(popup_206065339c84ec9d8ef5022da8dd9524)\n",
       "        ;\n",
       "\n",
       "        \n",
       "    \n",
       "    \n",
       "                marker_665805203322c52e88d0125e4d3f74ec.setIcon(icon_46cb4dff8591d7092d177acae27227c3);\n",
       "            \n",
       "    \n",
       "            var marker_812bd495e3042ae9555a24edbc2cd034 = L.marker(\n",
       "                [-47.8625, -71.47027777777778],\n",
       "                {\n",
       "}\n",
       "            ).addTo(map_450902a9d9c7cea8c11367b990f34cb7);\n",
       "        \n",
       "    \n",
       "            var icon_e7fd1d3aa4cf0c72774e90e8b3303760 = L.AwesomeMarkers.icon(\n",
       "                {\n",
       "  &quot;markerColor&quot;: &quot;blue&quot;,\n",
       "  &quot;iconColor&quot;: &quot;white&quot;,\n",
       "  &quot;icon&quot;: &quot;info-sign&quot;,\n",
       "  &quot;prefix&quot;: &quot;glyphicon&quot;,\n",
       "  &quot;extraClasses&quot;: &quot;fa-rotate-0&quot;,\n",
       "}\n",
       "            );\n",
       "        \n",
       "    \n",
       "        var popup_9f33d68c2dc713ad336817a44e62997e = L.popup({\n",
       "  &quot;maxWidth&quot;: &quot;100%&quot;,\n",
       "});\n",
       "\n",
       "        \n",
       "            \n",
       "                var html_7a599e75049a8139ec1d83713132c04c = $(`&lt;div id=&quot;html_7a599e75049a8139ec1d83713132c04c&quot; style=&quot;width: 100.0%; height: 100.0%;&quot;&gt;Lago Asador o Guitarra&lt;/div&gt;`)[0];\n",
       "                popup_9f33d68c2dc713ad336817a44e62997e.setContent(html_7a599e75049a8139ec1d83713132c04c);\n",
       "            \n",
       "        \n",
       "\n",
       "        marker_812bd495e3042ae9555a24edbc2cd034.bindPopup(popup_9f33d68c2dc713ad336817a44e62997e)\n",
       "        ;\n",
       "\n",
       "        \n",
       "    \n",
       "    \n",
       "                marker_812bd495e3042ae9555a24edbc2cd034.setIcon(icon_e7fd1d3aa4cf0c72774e90e8b3303760);\n",
       "            \n",
       "    \n",
       "            var marker_c6975e5562ff740a4bf01478ba1022bd = L.marker(\n",
       "                [-42.61083333333333, -71.66638888888889],\n",
       "                {\n",
       "}\n",
       "            ).addTo(map_450902a9d9c7cea8c11367b990f34cb7);\n",
       "        \n",
       "    \n",
       "            var icon_b142b96621956d887c9746c1580ef8fe = L.AwesomeMarkers.icon(\n",
       "                {\n",
       "  &quot;markerColor&quot;: &quot;blue&quot;,\n",
       "  &quot;iconColor&quot;: &quot;white&quot;,\n",
       "  &quot;icon&quot;: &quot;info-sign&quot;,\n",
       "  &quot;prefix&quot;: &quot;glyphicon&quot;,\n",
       "  &quot;extraClasses&quot;: &quot;fa-rotate-0&quot;,\n",
       "}\n",
       "            );\n",
       "        \n",
       "    \n",
       "        var popup_8b3301935631fd645e03c69f0784f746 = L.popup({\n",
       "  &quot;maxWidth&quot;: &quot;100%&quot;,\n",
       "});\n",
       "\n",
       "        \n",
       "            \n",
       "                var html_defff2bffb73742b8b7e5dd936b8f0ac = $(`&lt;div id=&quot;html_defff2bffb73742b8b7e5dd936b8f0ac&quot; style=&quot;width: 100.0%; height: 100.0%;&quot;&gt;Lago Rivadavia&lt;/div&gt;`)[0];\n",
       "                popup_8b3301935631fd645e03c69f0784f746.setContent(html_defff2bffb73742b8b7e5dd936b8f0ac);\n",
       "            \n",
       "        \n",
       "\n",
       "        marker_c6975e5562ff740a4bf01478ba1022bd.bindPopup(popup_8b3301935631fd645e03c69f0784f746)\n",
       "        ;\n",
       "\n",
       "        \n",
       "    \n",
       "    \n",
       "                marker_c6975e5562ff740a4bf01478ba1022bd.setIcon(icon_b142b96621956d887c9746c1580ef8fe);\n",
       "            \n",
       "    \n",
       "            var marker_cc5c5e2fc572a2fe851bdcfdd0d3d563 = L.marker(\n",
       "                [-38.90444444444445, -71.27388888888889],\n",
       "                {\n",
       "}\n",
       "            ).addTo(map_450902a9d9c7cea8c11367b990f34cb7);\n",
       "        \n",
       "    \n",
       "            var icon_df8a3e441f61da11918b759488b7f9a0 = L.AwesomeMarkers.icon(\n",
       "                {\n",
       "  &quot;markerColor&quot;: &quot;blue&quot;,\n",
       "  &quot;iconColor&quot;: &quot;white&quot;,\n",
       "  &quot;icon&quot;: &quot;info-sign&quot;,\n",
       "  &quot;prefix&quot;: &quot;glyphicon&quot;,\n",
       "  &quot;extraClasses&quot;: &quot;fa-rotate-0&quot;,\n",
       "}\n",
       "            );\n",
       "        \n",
       "    \n",
       "        var popup_084a1904cf24befe749dae8e326edf8f = L.popup({\n",
       "  &quot;maxWidth&quot;: &quot;100%&quot;,\n",
       "});\n",
       "\n",
       "        \n",
       "            \n",
       "                var html_0ad7ede43b651d2bf4c900a4ccce0348 = $(`&lt;div id=&quot;html_0ad7ede43b651d2bf4c900a4ccce0348&quot; style=&quot;width: 100.0%; height: 100.0%;&quot;&gt;Lago Moquehue&lt;/div&gt;`)[0];\n",
       "                popup_084a1904cf24befe749dae8e326edf8f.setContent(html_0ad7ede43b651d2bf4c900a4ccce0348);\n",
       "            \n",
       "        \n",
       "\n",
       "        marker_cc5c5e2fc572a2fe851bdcfdd0d3d563.bindPopup(popup_084a1904cf24befe749dae8e326edf8f)\n",
       "        ;\n",
       "\n",
       "        \n",
       "    \n",
       "    \n",
       "                marker_cc5c5e2fc572a2fe851bdcfdd0d3d563.setIcon(icon_df8a3e441f61da11918b759488b7f9a0);\n",
       "            \n",
       "    \n",
       "            var marker_2f63b3b007e1cbd5917698de839b129f = L.marker(\n",
       "                [-40.70222222222223, -71.65972222222223],\n",
       "                {\n",
       "}\n",
       "            ).addTo(map_450902a9d9c7cea8c11367b990f34cb7);\n",
       "        \n",
       "    \n",
       "            var icon_42576821568e13dad0b2995654fa9755 = L.AwesomeMarkers.icon(\n",
       "                {\n",
       "  &quot;markerColor&quot;: &quot;blue&quot;,\n",
       "  &quot;iconColor&quot;: &quot;white&quot;,\n",
       "  &quot;icon&quot;: &quot;info-sign&quot;,\n",
       "  &quot;prefix&quot;: &quot;glyphicon&quot;,\n",
       "  &quot;extraClasses&quot;: &quot;fa-rotate-0&quot;,\n",
       "}\n",
       "            );\n",
       "        \n",
       "    \n",
       "        var popup_7cc2e3f1b7425436cfe9b245af292933 = L.popup({\n",
       "  &quot;maxWidth&quot;: &quot;100%&quot;,\n",
       "});\n",
       "\n",
       "        \n",
       "            \n",
       "                var html_6f89ed22f0f5e6e7b867894a6cba0a23 = $(`&lt;div id=&quot;html_6f89ed22f0f5e6e7b867894a6cba0a23&quot; style=&quot;width: 100.0%; height: 100.0%;&quot;&gt;Lago Correntoso&lt;/div&gt;`)[0];\n",
       "                popup_7cc2e3f1b7425436cfe9b245af292933.setContent(html_6f89ed22f0f5e6e7b867894a6cba0a23);\n",
       "            \n",
       "        \n",
       "\n",
       "        marker_2f63b3b007e1cbd5917698de839b129f.bindPopup(popup_7cc2e3f1b7425436cfe9b245af292933)\n",
       "        ;\n",
       "\n",
       "        \n",
       "    \n",
       "    \n",
       "                marker_2f63b3b007e1cbd5917698de839b129f.setIcon(icon_42576821568e13dad0b2995654fa9755);\n",
       "            \n",
       "    \n",
       "            var marker_2ca70ecfc8659d9463ca6e53c48b3004 = L.marker(\n",
       "                [-45.59444444444445, -68.54777777777778],\n",
       "                {\n",
       "}\n",
       "            ).addTo(map_450902a9d9c7cea8c11367b990f34cb7);\n",
       "        \n",
       "    \n",
       "            var icon_e95fdc57b174f3036c55dd3e602c5158 = L.AwesomeMarkers.icon(\n",
       "                {\n",
       "  &quot;markerColor&quot;: &quot;blue&quot;,\n",
       "  &quot;iconColor&quot;: &quot;white&quot;,\n",
       "  &quot;icon&quot;: &quot;info-sign&quot;,\n",
       "  &quot;prefix&quot;: &quot;glyphicon&quot;,\n",
       "  &quot;extraClasses&quot;: &quot;fa-rotate-0&quot;,\n",
       "}\n",
       "            );\n",
       "        \n",
       "    \n",
       "        var popup_563f96688761946ae19e36cf19600ed8 = L.popup({\n",
       "  &quot;maxWidth&quot;: &quot;100%&quot;,\n",
       "});\n",
       "\n",
       "        \n",
       "            \n",
       "                var html_3c571f2e5e0616a5c5704b61f9bb2a09 = $(`&lt;div id=&quot;html_3c571f2e5e0616a5c5704b61f9bb2a09&quot; style=&quot;width: 100.0%; height: 100.0%;&quot;&gt;Lago Río Chico&lt;/div&gt;`)[0];\n",
       "                popup_563f96688761946ae19e36cf19600ed8.setContent(html_3c571f2e5e0616a5c5704b61f9bb2a09);\n",
       "            \n",
       "        \n",
       "\n",
       "        marker_2ca70ecfc8659d9463ca6e53c48b3004.bindPopup(popup_563f96688761946ae19e36cf19600ed8)\n",
       "        ;\n",
       "\n",
       "        \n",
       "    \n",
       "    \n",
       "                marker_2ca70ecfc8659d9463ca6e53c48b3004.setIcon(icon_e95fdc57b174f3036c55dd3e602c5158);\n",
       "            \n",
       "    \n",
       "            var marker_d5a2423b193bf71ac65d072ab61a038a = L.marker(\n",
       "                [-48.49916666666667, -71.58472222222221],\n",
       "                {\n",
       "}\n",
       "            ).addTo(map_450902a9d9c7cea8c11367b990f34cb7);\n",
       "        \n",
       "    \n",
       "            var icon_4bad72fc9c9b31d5290cba16e131c47e = L.AwesomeMarkers.icon(\n",
       "                {\n",
       "  &quot;markerColor&quot;: &quot;blue&quot;,\n",
       "  &quot;iconColor&quot;: &quot;white&quot;,\n",
       "  &quot;icon&quot;: &quot;info-sign&quot;,\n",
       "  &quot;prefix&quot;: &quot;glyphicon&quot;,\n",
       "  &quot;extraClasses&quot;: &quot;fa-rotate-0&quot;,\n",
       "}\n",
       "            );\n",
       "        \n",
       "    \n",
       "        var popup_77c4fad249c34117b939c4160e5541ce = L.popup({\n",
       "  &quot;maxWidth&quot;: &quot;100%&quot;,\n",
       "});\n",
       "\n",
       "        \n",
       "            \n",
       "                var html_0f905efa9813416575993e311b3ad368 = $(`&lt;div id=&quot;html_0f905efa9813416575993e311b3ad368&quot; style=&quot;width: 100.0%; height: 100.0%;&quot;&gt;Lago Quiroga Chico&lt;/div&gt;`)[0];\n",
       "                popup_77c4fad249c34117b939c4160e5541ce.setContent(html_0f905efa9813416575993e311b3ad368);\n",
       "            \n",
       "        \n",
       "\n",
       "        marker_d5a2423b193bf71ac65d072ab61a038a.bindPopup(popup_77c4fad249c34117b939c4160e5541ce)\n",
       "        ;\n",
       "\n",
       "        \n",
       "    \n",
       "    \n",
       "                marker_d5a2423b193bf71ac65d072ab61a038a.setIcon(icon_4bad72fc9c9b31d5290cba16e131c47e);\n",
       "            \n",
       "    \n",
       "            var marker_c64655ee5a2cd16286655f44e5b6f737 = L.marker(\n",
       "                [-42.1875, -71.50666666666666],\n",
       "                {\n",
       "}\n",
       "            ).addTo(map_450902a9d9c7cea8c11367b990f34cb7);\n",
       "        \n",
       "    \n",
       "            var icon_f177366dcf1212091ec7b054f3458993 = L.AwesomeMarkers.icon(\n",
       "                {\n",
       "  &quot;markerColor&quot;: &quot;blue&quot;,\n",
       "  &quot;iconColor&quot;: &quot;white&quot;,\n",
       "  &quot;icon&quot;: &quot;info-sign&quot;,\n",
       "  &quot;prefix&quot;: &quot;glyphicon&quot;,\n",
       "  &quot;extraClasses&quot;: &quot;fa-rotate-0&quot;,\n",
       "}\n",
       "            );\n",
       "        \n",
       "    \n",
       "        var popup_1647d17a57993687a1f341d22eafcf01 = L.popup({\n",
       "  &quot;maxWidth&quot;: &quot;100%&quot;,\n",
       "});\n",
       "\n",
       "        \n",
       "            \n",
       "                var html_301c14c0865efc9d80c5288eab567851 = $(`&lt;div id=&quot;html_301c14c0865efc9d80c5288eab567851&quot; style=&quot;width: 100.0%; height: 100.0%;&quot;&gt;Lago Epuyén&lt;/div&gt;`)[0];\n",
       "                popup_1647d17a57993687a1f341d22eafcf01.setContent(html_301c14c0865efc9d80c5288eab567851);\n",
       "            \n",
       "        \n",
       "\n",
       "        marker_c64655ee5a2cd16286655f44e5b6f737.bindPopup(popup_1647d17a57993687a1f341d22eafcf01)\n",
       "        ;\n",
       "\n",
       "        \n",
       "    \n",
       "    \n",
       "                marker_c64655ee5a2cd16286655f44e5b6f737.setIcon(icon_f177366dcf1212091ec7b054f3458993);\n",
       "            \n",
       "    \n",
       "            var marker_3dec93782961ef95a36817f5a948e606 = L.marker(\n",
       "                [-41.20777777777778, -71.42027777777778],\n",
       "                {\n",
       "}\n",
       "            ).addTo(map_450902a9d9c7cea8c11367b990f34cb7);\n",
       "        \n",
       "    \n",
       "            var icon_5b4c1b2ec6abe356b610245d5f19d254 = L.AwesomeMarkers.icon(\n",
       "                {\n",
       "  &quot;markerColor&quot;: &quot;blue&quot;,\n",
       "  &quot;iconColor&quot;: &quot;white&quot;,\n",
       "  &quot;icon&quot;: &quot;info-sign&quot;,\n",
       "  &quot;prefix&quot;: &quot;glyphicon&quot;,\n",
       "  &quot;extraClasses&quot;: &quot;fa-rotate-0&quot;,\n",
       "}\n",
       "            );\n",
       "        \n",
       "    \n",
       "        var popup_2fa558c92c0dee0a871f45ec978ec4b1 = L.popup({\n",
       "  &quot;maxWidth&quot;: &quot;100%&quot;,\n",
       "});\n",
       "\n",
       "        \n",
       "            \n",
       "                var html_9e8f295d270c500a272daa5c2b0c6bef = $(`&lt;div id=&quot;html_9e8f295d270c500a272daa5c2b0c6bef&quot; style=&quot;width: 100.0%; height: 100.0%;&quot;&gt;Lago Gutiérrez&lt;/div&gt;`)[0];\n",
       "                popup_2fa558c92c0dee0a871f45ec978ec4b1.setContent(html_9e8f295d270c500a272daa5c2b0c6bef);\n",
       "            \n",
       "        \n",
       "\n",
       "        marker_3dec93782961ef95a36817f5a948e606.bindPopup(popup_2fa558c92c0dee0a871f45ec978ec4b1)\n",
       "        ;\n",
       "\n",
       "        \n",
       "    \n",
       "    \n",
       "                marker_3dec93782961ef95a36817f5a948e606.setIcon(icon_5b4c1b2ec6abe356b610245d5f19d254);\n",
       "            \n",
       "    \n",
       "            var marker_e58533fc61e017431cb2069652e900c6 = L.marker(\n",
       "                [-42.45861111111111, -71.66916666666667],\n",
       "                {\n",
       "}\n",
       "            ).addTo(map_450902a9d9c7cea8c11367b990f34cb7);\n",
       "        \n",
       "    \n",
       "            var icon_517e9178935cf8c4d80c6ad625125464 = L.AwesomeMarkers.icon(\n",
       "                {\n",
       "  &quot;markerColor&quot;: &quot;blue&quot;,\n",
       "  &quot;iconColor&quot;: &quot;white&quot;,\n",
       "  &quot;icon&quot;: &quot;info-sign&quot;,\n",
       "  &quot;prefix&quot;: &quot;glyphicon&quot;,\n",
       "  &quot;extraClasses&quot;: &quot;fa-rotate-0&quot;,\n",
       "}\n",
       "            );\n",
       "        \n",
       "    \n",
       "        var popup_80c333ccabb34962dc432b3fba0e7377 = L.popup({\n",
       "  &quot;maxWidth&quot;: &quot;100%&quot;,\n",
       "});\n",
       "\n",
       "        \n",
       "            \n",
       "                var html_75711486b3d48aedcc11a990eb922335 = $(`&lt;div id=&quot;html_75711486b3d48aedcc11a990eb922335&quot; style=&quot;width: 100.0%; height: 100.0%;&quot;&gt;Lago Cholila&lt;/div&gt;`)[0];\n",
       "                popup_80c333ccabb34962dc432b3fba0e7377.setContent(html_75711486b3d48aedcc11a990eb922335);\n",
       "            \n",
       "        \n",
       "\n",
       "        marker_e58533fc61e017431cb2069652e900c6.bindPopup(popup_80c333ccabb34962dc432b3fba0e7377)\n",
       "        ;\n",
       "\n",
       "        \n",
       "    \n",
       "    \n",
       "                marker_e58533fc61e017431cb2069652e900c6.setIcon(icon_517e9178935cf8c4d80c6ad625125464);\n",
       "            \n",
       "    \n",
       "            var marker_369e4a57cf6d16d1639551192b54a559 = L.marker(\n",
       "                [-39.72416666666667, -71.58388888888888],\n",
       "                {\n",
       "}\n",
       "            ).addTo(map_450902a9d9c7cea8c11367b990f34cb7);\n",
       "        \n",
       "    \n",
       "            var icon_78e23922efde8e5ffcaaab59086644f8 = L.AwesomeMarkers.icon(\n",
       "                {\n",
       "  &quot;markerColor&quot;: &quot;blue&quot;,\n",
       "  &quot;iconColor&quot;: &quot;white&quot;,\n",
       "  &quot;icon&quot;: &quot;info-sign&quot;,\n",
       "  &quot;prefix&quot;: &quot;glyphicon&quot;,\n",
       "  &quot;extraClasses&quot;: &quot;fa-rotate-0&quot;,\n",
       "}\n",
       "            );\n",
       "        \n",
       "    \n",
       "        var popup_6b9d5d72350b5822fa8e7792285f4f22 = L.popup({\n",
       "  &quot;maxWidth&quot;: &quot;100%&quot;,\n",
       "});\n",
       "\n",
       "        \n",
       "            \n",
       "                var html_2c39402a2e5890b901c22bb3740bda89 = $(`&lt;div id=&quot;html_2c39402a2e5890b901c22bb3740bda89&quot; style=&quot;width: 100.0%; height: 100.0%;&quot;&gt;Lago Paimún&lt;/div&gt;`)[0];\n",
       "                popup_6b9d5d72350b5822fa8e7792285f4f22.setContent(html_2c39402a2e5890b901c22bb3740bda89);\n",
       "            \n",
       "        \n",
       "\n",
       "        marker_369e4a57cf6d16d1639551192b54a559.bindPopup(popup_6b9d5d72350b5822fa8e7792285f4f22)\n",
       "        ;\n",
       "\n",
       "        \n",
       "    \n",
       "    \n",
       "                marker_369e4a57cf6d16d1639551192b54a559.setIcon(icon_78e23922efde8e5ffcaaab59086644f8);\n",
       "            \n",
       "    \n",
       "            var marker_af617c45c2dd7bce91f2d1f4ec595fe2 = L.marker(\n",
       "                [-47.84583333333334, -72.27027777777778],\n",
       "                {\n",
       "}\n",
       "            ).addTo(map_450902a9d9c7cea8c11367b990f34cb7);\n",
       "        \n",
       "    \n",
       "            var icon_2abc81c88449c03fe17eb0e6faba419c = L.AwesomeMarkers.icon(\n",
       "                {\n",
       "  &quot;markerColor&quot;: &quot;blue&quot;,\n",
       "  &quot;iconColor&quot;: &quot;white&quot;,\n",
       "  &quot;icon&quot;: &quot;info-sign&quot;,\n",
       "  &quot;prefix&quot;: &quot;glyphicon&quot;,\n",
       "  &quot;extraClasses&quot;: &quot;fa-rotate-0&quot;,\n",
       "}\n",
       "            );\n",
       "        \n",
       "    \n",
       "        var popup_c283718d2bb3deb5a4509c9cf5573fbf = L.popup({\n",
       "  &quot;maxWidth&quot;: &quot;100%&quot;,\n",
       "});\n",
       "\n",
       "        \n",
       "            \n",
       "                var html_f36f0585bae6d3a0a3a4aba925555e43 = $(`&lt;div id=&quot;html_f36f0585bae6d3a0a3a4aba925555e43&quot; style=&quot;width: 100.0%; height: 100.0%;&quot;&gt;Lago Azara&lt;/div&gt;`)[0];\n",
       "                popup_c283718d2bb3deb5a4509c9cf5573fbf.setContent(html_f36f0585bae6d3a0a3a4aba925555e43);\n",
       "            \n",
       "        \n",
       "\n",
       "        marker_af617c45c2dd7bce91f2d1f4ec595fe2.bindPopup(popup_c283718d2bb3deb5a4509c9cf5573fbf)\n",
       "        ;\n",
       "\n",
       "        \n",
       "    \n",
       "    \n",
       "                marker_af617c45c2dd7bce91f2d1f4ec595fe2.setIcon(icon_2abc81c88449c03fe17eb0e6faba419c);\n",
       "            \n",
       "    \n",
       "            var marker_80de3589fa31f7c29f110dcc96add296 = L.marker(\n",
       "                [-47.95555555555556, -72.2025],\n",
       "                {\n",
       "}\n",
       "            ).addTo(map_450902a9d9c7cea8c11367b990f34cb7);\n",
       "        \n",
       "    \n",
       "            var icon_214b3a01ece0f0b7df16b8e25cbb0421 = L.AwesomeMarkers.icon(\n",
       "                {\n",
       "  &quot;markerColor&quot;: &quot;blue&quot;,\n",
       "  &quot;iconColor&quot;: &quot;white&quot;,\n",
       "  &quot;icon&quot;: &quot;info-sign&quot;,\n",
       "  &quot;prefix&quot;: &quot;glyphicon&quot;,\n",
       "  &quot;extraClasses&quot;: &quot;fa-rotate-0&quot;,\n",
       "}\n",
       "            );\n",
       "        \n",
       "    \n",
       "        var popup_9e78d976bb896215a84fc7bc0b1d2d5d = L.popup({\n",
       "  &quot;maxWidth&quot;: &quot;100%&quot;,\n",
       "});\n",
       "\n",
       "        \n",
       "            \n",
       "                var html_5a62139923a8d8657a41ae2c0e64a2c0 = $(`&lt;div id=&quot;html_5a62139923a8d8657a41ae2c0e64a2c0&quot; style=&quot;width: 100.0%; height: 100.0%;&quot;&gt;Lago Burmeister&lt;/div&gt;`)[0];\n",
       "                popup_9e78d976bb896215a84fc7bc0b1d2d5d.setContent(html_5a62139923a8d8657a41ae2c0e64a2c0);\n",
       "            \n",
       "        \n",
       "\n",
       "        marker_80de3589fa31f7c29f110dcc96add296.bindPopup(popup_9e78d976bb896215a84fc7bc0b1d2d5d)\n",
       "        ;\n",
       "\n",
       "        \n",
       "    \n",
       "    \n",
       "                marker_80de3589fa31f7c29f110dcc96add296.setIcon(icon_214b3a01ece0f0b7df16b8e25cbb0421);\n",
       "            \n",
       "    \n",
       "            var marker_0b08e5ea804bb580cd5e0463e2083d21 = L.marker(\n",
       "                [-50.10833333333333, -73.34972222222221],\n",
       "                {\n",
       "}\n",
       "            ).addTo(map_450902a9d9c7cea8c11367b990f34cb7);\n",
       "        \n",
       "    \n",
       "            var icon_0b05a0e2e537521812d69796660b984e = L.AwesomeMarkers.icon(\n",
       "                {\n",
       "  &quot;markerColor&quot;: &quot;blue&quot;,\n",
       "  &quot;iconColor&quot;: &quot;white&quot;,\n",
       "  &quot;icon&quot;: &quot;info-sign&quot;,\n",
       "  &quot;prefix&quot;: &quot;glyphicon&quot;,\n",
       "  &quot;extraClasses&quot;: &quot;fa-rotate-0&quot;,\n",
       "}\n",
       "            );\n",
       "        \n",
       "    \n",
       "        var popup_287b2ba54da95a6dfbb4f3465e42690f = L.popup({\n",
       "  &quot;maxWidth&quot;: &quot;100%&quot;,\n",
       "});\n",
       "\n",
       "        \n",
       "            \n",
       "                var html_860c6d9e30e89f7127ed83ab99f2d947 = $(`&lt;div id=&quot;html_860c6d9e30e89f7127ed83ab99f2d947&quot; style=&quot;width: 100.0%; height: 100.0%;&quot;&gt;Lago Onelli&lt;/div&gt;`)[0];\n",
       "                popup_287b2ba54da95a6dfbb4f3465e42690f.setContent(html_860c6d9e30e89f7127ed83ab99f2d947);\n",
       "            \n",
       "        \n",
       "\n",
       "        marker_0b08e5ea804bb580cd5e0463e2083d21.bindPopup(popup_287b2ba54da95a6dfbb4f3465e42690f)\n",
       "        ;\n",
       "\n",
       "        \n",
       "    \n",
       "    \n",
       "                marker_0b08e5ea804bb580cd5e0463e2083d21.setIcon(icon_0b05a0e2e537521812d69796660b984e);\n",
       "            \n",
       "    \n",
       "            var marker_142f55465cac1584115a6deb04ae110c = L.marker(\n",
       "                [-40.333333333333336, -71.31944444444444],\n",
       "                {\n",
       "}\n",
       "            ).addTo(map_450902a9d9c7cea8c11367b990f34cb7);\n",
       "        \n",
       "    \n",
       "            var icon_65a8537a284239fb7fe33703a9a23431 = L.AwesomeMarkers.icon(\n",
       "                {\n",
       "  &quot;markerColor&quot;: &quot;blue&quot;,\n",
       "  &quot;iconColor&quot;: &quot;white&quot;,\n",
       "  &quot;icon&quot;: &quot;info-sign&quot;,\n",
       "  &quot;prefix&quot;: &quot;glyphicon&quot;,\n",
       "  &quot;extraClasses&quot;: &quot;fa-rotate-0&quot;,\n",
       "}\n",
       "            );\n",
       "        \n",
       "    \n",
       "        var popup_7996003b3793544ad1590c029bde4040 = L.popup({\n",
       "  &quot;maxWidth&quot;: &quot;100%&quot;,\n",
       "});\n",
       "\n",
       "        \n",
       "            \n",
       "                var html_d3162033dbaa6dba887995ad460a2ceb = $(`&lt;div id=&quot;html_d3162033dbaa6dba887995ad460a2ceb&quot; style=&quot;width: 100.0%; height: 100.0%;&quot;&gt;Lago Meliquina&lt;/div&gt;`)[0];\n",
       "                popup_7996003b3793544ad1590c029bde4040.setContent(html_d3162033dbaa6dba887995ad460a2ceb);\n",
       "            \n",
       "        \n",
       "\n",
       "        marker_142f55465cac1584115a6deb04ae110c.bindPopup(popup_7996003b3793544ad1590c029bde4040)\n",
       "        ;\n",
       "\n",
       "        \n",
       "    \n",
       "    \n",
       "                marker_142f55465cac1584115a6deb04ae110c.setIcon(icon_65a8537a284239fb7fe33703a9a23431);\n",
       "            \n",
       "    \n",
       "            var marker_db824f0c81eb00430ce7b533b905b04c = L.marker(\n",
       "                [-41.06611111111111, -71.5411111111111],\n",
       "                {\n",
       "}\n",
       "            ).addTo(map_450902a9d9c7cea8c11367b990f34cb7);\n",
       "        \n",
       "    \n",
       "            var icon_3228def004ba2f97691226369f3c4cbc = L.AwesomeMarkers.icon(\n",
       "                {\n",
       "  &quot;markerColor&quot;: &quot;blue&quot;,\n",
       "  &quot;iconColor&quot;: &quot;white&quot;,\n",
       "  &quot;icon&quot;: &quot;info-sign&quot;,\n",
       "  &quot;prefix&quot;: &quot;glyphicon&quot;,\n",
       "  &quot;extraClasses&quot;: &quot;fa-rotate-0&quot;,\n",
       "}\n",
       "            );\n",
       "        \n",
       "    \n",
       "        var popup_f56f0c6c2f655aaab0cf37850837a588 = L.popup({\n",
       "  &quot;maxWidth&quot;: &quot;100%&quot;,\n",
       "});\n",
       "\n",
       "        \n",
       "            \n",
       "                var html_e1b1adbdf6542bb451c541e5ccf4b164 = $(`&lt;div id=&quot;html_e1b1adbdf6542bb451c541e5ccf4b164&quot; style=&quot;width: 100.0%; height: 100.0%;&quot;&gt;Lago Perito Moreno&lt;/div&gt;`)[0];\n",
       "                popup_f56f0c6c2f655aaab0cf37850837a588.setContent(html_e1b1adbdf6542bb451c541e5ccf4b164);\n",
       "            \n",
       "        \n",
       "\n",
       "        marker_db824f0c81eb00430ce7b533b905b04c.bindPopup(popup_f56f0c6c2f655aaab0cf37850837a588)\n",
       "        ;\n",
       "\n",
       "        \n",
       "    \n",
       "    \n",
       "                marker_db824f0c81eb00430ce7b533b905b04c.setIcon(icon_3228def004ba2f97691226369f3c4cbc);\n",
       "            \n",
       "    \n",
       "            var marker_058a79622d4289daff8ed7d162a32772 = L.marker(\n",
       "                [-39.84, -71.5075],\n",
       "                {\n",
       "}\n",
       "            ).addTo(map_450902a9d9c7cea8c11367b990f34cb7);\n",
       "        \n",
       "    \n",
       "            var icon_aaca41d279add661897c6cd33403afe6 = L.AwesomeMarkers.icon(\n",
       "                {\n",
       "  &quot;markerColor&quot;: &quot;blue&quot;,\n",
       "  &quot;iconColor&quot;: &quot;white&quot;,\n",
       "  &quot;icon&quot;: &quot;info-sign&quot;,\n",
       "  &quot;prefix&quot;: &quot;glyphicon&quot;,\n",
       "  &quot;extraClasses&quot;: &quot;fa-rotate-0&quot;,\n",
       "}\n",
       "            );\n",
       "        \n",
       "    \n",
       "        var popup_72890350fbc5407a227a7c49f11a8f46 = L.popup({\n",
       "  &quot;maxWidth&quot;: &quot;100%&quot;,\n",
       "});\n",
       "\n",
       "        \n",
       "            \n",
       "                var html_19fa8c461f96d23b27ea0be5b01364a6 = $(`&lt;div id=&quot;html_19fa8c461f96d23b27ea0be5b01364a6&quot; style=&quot;width: 100.0%; height: 100.0%;&quot;&gt;Lago Currhué&lt;/div&gt;`)[0];\n",
       "                popup_72890350fbc5407a227a7c49f11a8f46.setContent(html_19fa8c461f96d23b27ea0be5b01364a6);\n",
       "            \n",
       "        \n",
       "\n",
       "        marker_058a79622d4289daff8ed7d162a32772.bindPopup(popup_72890350fbc5407a227a7c49f11a8f46)\n",
       "        ;\n",
       "\n",
       "        \n",
       "    \n",
       "    \n",
       "                marker_058a79622d4289daff8ed7d162a32772.setIcon(icon_aaca41d279add661897c6cd33403afe6);\n",
       "            \n",
       "    \n",
       "            var marker_34209ae87236b0419879cad6c5febbc9 = L.marker(\n",
       "                [-40.485, -71.47583333333334],\n",
       "                {\n",
       "}\n",
       "            ).addTo(map_450902a9d9c7cea8c11367b990f34cb7);\n",
       "        \n",
       "    \n",
       "            var icon_5d80d6d96b87416d6d5b8c09757f7610 = L.AwesomeMarkers.icon(\n",
       "                {\n",
       "  &quot;markerColor&quot;: &quot;blue&quot;,\n",
       "  &quot;iconColor&quot;: &quot;white&quot;,\n",
       "  &quot;icon&quot;: &quot;info-sign&quot;,\n",
       "  &quot;prefix&quot;: &quot;glyphicon&quot;,\n",
       "  &quot;extraClasses&quot;: &quot;fa-rotate-0&quot;,\n",
       "}\n",
       "            );\n",
       "        \n",
       "    \n",
       "        var popup_57068816abd09136416bd010f546a816 = L.popup({\n",
       "  &quot;maxWidth&quot;: &quot;100%&quot;,\n",
       "});\n",
       "\n",
       "        \n",
       "            \n",
       "                var html_42dac6bcafaa595d4150ccbdc08545c4 = $(`&lt;div id=&quot;html_42dac6bcafaa595d4150ccbdc08545c4&quot; style=&quot;width: 100.0%; height: 100.0%;&quot;&gt;Lago Falkner&lt;/div&gt;`)[0];\n",
       "                popup_57068816abd09136416bd010f546a816.setContent(html_42dac6bcafaa595d4150ccbdc08545c4);\n",
       "            \n",
       "        \n",
       "\n",
       "        marker_34209ae87236b0419879cad6c5febbc9.bindPopup(popup_57068816abd09136416bd010f546a816)\n",
       "        ;\n",
       "\n",
       "        \n",
       "    \n",
       "    \n",
       "                marker_34209ae87236b0419879cad6c5febbc9.setIcon(icon_5d80d6d96b87416d6d5b8c09757f7610);\n",
       "            \n",
       "    \n",
       "            var marker_b028c91d0ea361fdd100209af94b5bbd = L.marker(\n",
       "                [-44.24194444444444, -71.50222222222222],\n",
       "                {\n",
       "}\n",
       "            ).addTo(map_450902a9d9c7cea8c11367b990f34cb7);\n",
       "        \n",
       "    \n",
       "            var icon_0dc28a02e812e6eb2f562e3ec7052061 = L.AwesomeMarkers.icon(\n",
       "                {\n",
       "  &quot;markerColor&quot;: &quot;blue&quot;,\n",
       "  &quot;iconColor&quot;: &quot;white&quot;,\n",
       "  &quot;icon&quot;: &quot;info-sign&quot;,\n",
       "  &quot;prefix&quot;: &quot;glyphicon&quot;,\n",
       "  &quot;extraClasses&quot;: &quot;fa-rotate-0&quot;,\n",
       "}\n",
       "            );\n",
       "        \n",
       "    \n",
       "        var popup_7c305248bb51f9ef0daf8a29bb4e1cbf = L.popup({\n",
       "  &quot;maxWidth&quot;: &quot;100%&quot;,\n",
       "});\n",
       "\n",
       "        \n",
       "            \n",
       "                var html_26cbf83b8a5a1d41f0d2c896b8bd8231 = $(`&lt;div id=&quot;html_26cbf83b8a5a1d41f0d2c896b8bd8231&quot; style=&quot;width: 100.0%; height: 100.0%;&quot;&gt;Lago Pico Nº 1&lt;/div&gt;`)[0];\n",
       "                popup_7c305248bb51f9ef0daf8a29bb4e1cbf.setContent(html_26cbf83b8a5a1d41f0d2c896b8bd8231);\n",
       "            \n",
       "        \n",
       "\n",
       "        marker_b028c91d0ea361fdd100209af94b5bbd.bindPopup(popup_7c305248bb51f9ef0daf8a29bb4e1cbf)\n",
       "        ;\n",
       "\n",
       "        \n",
       "    \n",
       "    \n",
       "                marker_b028c91d0ea361fdd100209af94b5bbd.setIcon(icon_0dc28a02e812e6eb2f562e3ec7052061);\n",
       "            \n",
       "    \n",
       "            var marker_8b0334b8682fb92d7299430feefb7ea1 = L.marker(\n",
       "                [-54.68861111111111, -65.80638888888889],\n",
       "                {\n",
       "}\n",
       "            ).addTo(map_450902a9d9c7cea8c11367b990f34cb7);\n",
       "        \n",
       "    \n",
       "            var icon_4f73a38bf5d707f8e9b58997ef3679c0 = L.AwesomeMarkers.icon(\n",
       "                {\n",
       "  &quot;markerColor&quot;: &quot;blue&quot;,\n",
       "  &quot;iconColor&quot;: &quot;white&quot;,\n",
       "  &quot;icon&quot;: &quot;info-sign&quot;,\n",
       "  &quot;prefix&quot;: &quot;glyphicon&quot;,\n",
       "  &quot;extraClasses&quot;: &quot;fa-rotate-0&quot;,\n",
       "}\n",
       "            );\n",
       "        \n",
       "    \n",
       "        var popup_b3a6b24a41ec3518cde7d376ecbcc906 = L.popup({\n",
       "  &quot;maxWidth&quot;: &quot;100%&quot;,\n",
       "});\n",
       "\n",
       "        \n",
       "            \n",
       "                var html_602663136bef55a38770b0e1d2a5e685 = $(`&lt;div id=&quot;html_602663136bef55a38770b0e1d2a5e685&quot; style=&quot;width: 100.0%; height: 100.0%;&quot;&gt;Lago Río Bueno&lt;/div&gt;`)[0];\n",
       "                popup_b3a6b24a41ec3518cde7d376ecbcc906.setContent(html_602663136bef55a38770b0e1d2a5e685);\n",
       "            \n",
       "        \n",
       "\n",
       "        marker_8b0334b8682fb92d7299430feefb7ea1.bindPopup(popup_b3a6b24a41ec3518cde7d376ecbcc906)\n",
       "        ;\n",
       "\n",
       "        \n",
       "    \n",
       "    \n",
       "                marker_8b0334b8682fb92d7299430feefb7ea1.setIcon(icon_4f73a38bf5d707f8e9b58997ef3679c0);\n",
       "            \n",
       "    \n",
       "            var marker_ec9c57aaa9596b1903e3757e874d01af = L.marker(\n",
       "                [-43.26, -71.34666666666666],\n",
       "                {\n",
       "}\n",
       "            ).addTo(map_450902a9d9c7cea8c11367b990f34cb7);\n",
       "        \n",
       "    \n",
       "            var icon_fdcc1707e1a4aca103b7876ac60d8dbc = L.AwesomeMarkers.icon(\n",
       "                {\n",
       "  &quot;markerColor&quot;: &quot;blue&quot;,\n",
       "  &quot;iconColor&quot;: &quot;white&quot;,\n",
       "  &quot;icon&quot;: &quot;info-sign&quot;,\n",
       "  &quot;prefix&quot;: &quot;glyphicon&quot;,\n",
       "  &quot;extraClasses&quot;: &quot;fa-rotate-0&quot;,\n",
       "}\n",
       "            );\n",
       "        \n",
       "    \n",
       "        var popup_ef3f14335d23c8e8c27cda1ed19b02e5 = L.popup({\n",
       "  &quot;maxWidth&quot;: &quot;100%&quot;,\n",
       "});\n",
       "\n",
       "        \n",
       "            \n",
       "                var html_94fe89b9828f8b129f018c5fbff9ec1c = $(`&lt;div id=&quot;html_94fe89b9828f8b129f018c5fbff9ec1c&quot; style=&quot;width: 100.0%; height: 100.0%;&quot;&gt;Lago Rosario&lt;/div&gt;`)[0];\n",
       "                popup_ef3f14335d23c8e8c27cda1ed19b02e5.setContent(html_94fe89b9828f8b129f018c5fbff9ec1c);\n",
       "            \n",
       "        \n",
       "\n",
       "        marker_ec9c57aaa9596b1903e3757e874d01af.bindPopup(popup_ef3f14335d23c8e8c27cda1ed19b02e5)\n",
       "        ;\n",
       "\n",
       "        \n",
       "    \n",
       "    \n",
       "                marker_ec9c57aaa9596b1903e3757e874d01af.setIcon(icon_fdcc1707e1a4aca103b7876ac60d8dbc);\n",
       "            \n",
       "&lt;/script&gt;\n",
       "&lt;/html&gt;\" style=\"position:absolute;width:100%;height:100%;left:0;top:0;border:none !important;\" allowfullscreen webkitallowfullscreen mozallowfullscreen></iframe></div></div>"
      ],
      "text/plain": [
       "<folium.folium.Map at 0x74559cd35d10>"
      ]
     },
     "execution_count": 18,
     "metadata": {},
     "output_type": "execute_result"
    }
   ],
   "source": [
    "lagos.apply(agregar_marca_lago, axis=1)\n",
    "mapa"
   ]
  },
  {
   "cell_type": "markdown",
   "id": "132d5bc6-c287-471b-85bb-348560bd51dc",
   "metadata": {},
   "source": [
    "## Mostrar en un mapa los lagos de Chubut"
   ]
  },
  {
   "cell_type": "code",
   "execution_count": null,
   "id": "6b6abe97-12d8-4822-b436-fda020a14e30",
   "metadata": {},
   "outputs": [],
   "source": []
  },
  {
   "cell_type": "markdown",
   "id": "d0459b9d-6bb8-42e7-ab6f-984cd47704a3",
   "metadata": {},
   "source": [
    "## Mostrar los lagos con iconos de colores según su tamaño"
   ]
  },
  {
   "cell_type": "markdown",
   "id": "fd505695-f16e-439e-8761-a5b9d81c53f0",
   "metadata": {},
   "source": [
    "* ¿En qué columna están con valores categorizados los tamaños de los lagos?\n",
    "* ¿Cuáles son los tamaños?"
   ]
  },
  {
   "cell_type": "code",
   "execution_count": null,
   "id": "c04368c6-75c7-4f2f-af65-ba47f678c7a6",
   "metadata": {},
   "outputs": [],
   "source": []
  },
  {
   "cell_type": "code",
   "execution_count": null,
   "id": "d989c407-2755-4ddd-a3cc-b515655f82e1",
   "metadata": {},
   "outputs": [],
   "source": []
  },
  {
   "cell_type": "code",
   "execution_count": 17,
   "id": "2a7d25ec-1ebc-4c18-bf84-08bd83ea2dc2",
   "metadata": {},
   "outputs": [],
   "source": [
    "def agregar_marca_lago(row):\n",
    "    colores = {'tamaño1': 'red', 'tamaño2': 'blue', 'tamaño3': 'green'}\n",
    "    color = colores.get(row['Sup Tamaño'], 'gray')\n",
    "    folium.CircleMarker( \n",
    "        location=[row['lat'], row['lng']],\n",
    "        radius=6,\n",
    "        color=color,\n",
    "        fill=True,\n",
    "        popup=row['Nombre']\n",
    "        ).add_to(mapa)\n"
   ]
  },
  {
   "cell_type": "code",
   "execution_count": null,
   "id": "45dc0b52-5ded-42c8-993b-aeb22cc43147",
   "metadata": {},
   "outputs": [],
   "source": [
    "lagos.apply(agregar_marca_lago, axis=1)\n",
    "mapa"
   ]
  }
 ],
 "metadata": {
  "kernelspec": {
   "display_name": "Python 3 (ipykernel)",
   "language": "python",
   "name": "python3"
  },
  "language_info": {
   "codemirror_mode": {
    "name": "ipython",
    "version": 3
   },
   "file_extension": ".py",
   "mimetype": "text/x-python",
   "name": "python",
   "nbconvert_exporter": "python",
   "pygments_lexer": "ipython3",
   "version": "3.11.7"
  }
 },
 "nbformat": 4,
 "nbformat_minor": 5
}
