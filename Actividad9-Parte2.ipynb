{
 "cells": [
  {
   "cell_type": "markdown",
   "id": "3bbb1997-e93e-420e-b8b6-121be3c27198",
   "metadata": {},
   "source": [
    "# Actividad 9\n",
    "# 🔍 Parte 2: Análisis de Datasets\n",
    "Objetivo: Analizar datasets con Pandas, utilizando filtros y visualización con:\n",
    "* tablas\n",
    "* gráficos\n",
    "* mapas\n",
    "\n"
   ]
  },
  {
   "cell_type": "markdown",
   "id": "88e03465-38b2-4515-a885-419c0cd40ffd",
   "metadata": {},
   "source": [
    "## Elegí un dataset\n",
    "* Realizar exploración básica"
   ]
  },
  {
   "cell_type": "markdown",
   "id": "a99df127-cfcb-43bf-a55a-eb525e273481",
   "metadata": {},
   "source": [
    "*  ### Avistajes de felinos en Argentina\n",
    "    * Link para descarga: https://archivos.linti.unlp.edu.ar/index.php/s/5iC9FrYWiGi11d0\n",
    "    * Nombre del archivo: felinos_filtrado.csv \n",
    "    * Descargado y adaptado de: https://www.gbif.org/ \n",
    "    * Descripción: describe los avistajes de felinos en peligro de extinción con ubicación, especie, fecha etc.\n",
    "* ### Áreas protegidas\n",
    "    * Link para descarga: https://archivos.linti.unlp.edu.ar/index.php/s/Eqw1eAVC1pdefmb \n",
    "    * Descargado de: https://dnsg.ign.gob.ar/apps/api/v1/capas-sig/Geodesia+y+demarcaci%C3%B3n/L%C3%ADmites/area_protegida/csv*\n",
    "    * Página consultada: https://www.ign.gob.ar/NuestrasActividades/InformacionGeoespacial/CapasSIG \n",
    "    * Descripción: detalle de las áreas protegidas terrestres y marítimas \n",
    "    * Documento con detalle de los datos: https://archivos.linti.unlp.edu.ar/index.php/s/PEFAt1t2vRusqCI\n",
    "* ### Aeropuertos Argentina\n",
    "    * Link para  descarga: https://archivos.linti.unlp.edu.ar/index.php/s/RwFLzTUtqEfqOkc\n",
    "    * Nombre del archivo: ar-airports.csv \n",
    "    * Descargado de: https://ourairports.com/countries/AR/airports.csv \n",
    "    * Descripción: Aeropuertos de Argentina por tipo y localidad\n",
    "* ### Conectividad Argentina\n",
    "    * Link para descarga: https://archivos.linti.unlp.edu.ar/index.php/s/3k2TO5sSzaAU6IY\n",
    "    * Nombre del archivo: Conectividad_Internet.csv \n",
    "    * Descargado de : https://datos.gob.ar/dataset/enacom-conectividad-al-servicio-internet/archivo/enacom_CONEC-AL-SERVI-DE-INTER_0 \n",
    "    * Descripción: Describe las tecnologías disponibles en las localidades para acceder al servicio de Internet fijo y móvil\n",
    "* ### Precios combustibles\n",
    "    * [Link para descarga](https://archivos.linti.unlp.edu.ar/index.php/s/x0InilFLhgt1B1R).\n",
    "    * Descargado de: https://www.datos.gob.ar/dataset/energia-precios-surtidor---resolucion-3142016\n",
    "    * Descripción: Datos del Sistema en línea de información de precios de combustibles en surtidor, a través del cual los titulares de bocas de expendio de combustibles líquidos inscriptos en el registro creado por la resolución n° 1.102/2004 presentan la información relativa a precios de comercialización minorista dentro de las 8 (ocho) horas de producida una modificación en el precio en surtidor.\n",
    "* ### Ferrocarriles.\n",
    "    *  [Link para descarga](https://archivos.linti.unlp.edu.ar/index.php/s/6OrxQjJihfu0Gd3)\n",
    "    * Descargado de :https://catalogo.datos.gba.gob.ar/dataset/007e56d4-9123-485c-83e0-4556b6c75784/resource/dc2d7c3e-96ba-4fe6-b18c-9becd9643e87/download/estaciones-ferrocarril-pba.csv\n",
    "    * Descripción: Estaciones del sistema ferroviario en la provincia de Buenos Aires Instituto Geográfico Nacional. Dirección Nacional de Servicios Geográficos. Dirección de Información Geoespacial. Datos de la ubicación y descripción de las estaciones de la red ferroviaria en territorio provincial.\n",
    "    * Explicación de los datos: https://catalogo.datos.gba.gob.ar/dataset/007e56d4-9123-485c-83e0-4556b6c75784/resource/f01259b2-ad3d-4d53-8f89-7c39468c8c49/download/estaciones-ferrocarril-provincia.pdf\n"
   ]
  },
  {
   "cell_type": "markdown",
   "id": "816f1350-e8c0-45da-a425-90a05051b072",
   "metadata": {},
   "source": [
    "# ✅ Etapa 1: Exploración Básica (10 min)\n",
    "* Cantidad de filas y columans\n",
    "* Nombres de las columnas\n",
    "* Tipos de datos de las columnas\n",
    "* Ver las primeras 10 filas del dataset"
   ]
  },
  {
   "cell_type": "code",
   "execution_count": null,
   "id": "e88a7ec4-a287-4512-8540-f6f79abbb63e",
   "metadata": {},
   "outputs": [],
   "source": []
  },
  {
   "cell_type": "markdown",
   "id": "58a1a7b2-c40d-4214-b715-ba7c1f4b91f8",
   "metadata": {},
   "source": [
    "# ✅ Etapa 2: Análisis por temática(10 min)\n",
    "* Cada dataset se analizará según categorías correspondiente a los datos que lo conforman"
   ]
  },
  {
   "cell_type": "code",
   "execution_count": null,
   "id": "f3afaa59-ad7a-4c6a-a1fc-9790e44bef0d",
   "metadata": {},
   "outputs": [],
   "source": []
  },
  {
   "cell_type": "markdown",
   "id": "30c7fa49-e008-4bd3-9582-55b40e304bd8",
   "metadata": {},
   "source": [
    "# ✅ Etapa 3: Filtrar y Limpiar Datos (15 min)"
   ]
  },
  {
   "cell_type": "code",
   "execution_count": null,
   "id": "8876bad6-0787-465b-9317-2c3f7abdbfe1",
   "metadata": {},
   "outputs": [],
   "source": []
  },
  {
   "cell_type": "markdown",
   "id": "bd52685e-af18-4eab-beb7-2de840a5f8f6",
   "metadata": {},
   "source": [
    "# ✅ Etapa 4: Valores Nulos y Estadísticas (10 min)\n",
    "* Mostrar la composición de las columnas indicando aquellas con datos faltantes"
   ]
  },
  {
   "cell_type": "code",
   "execution_count": null,
   "id": "aacc6a17-4832-4122-94ba-02f20b0e8299",
   "metadata": {},
   "outputs": [],
   "source": []
  },
  {
   "cell_type": "markdown",
   "id": "8c158c4f-309d-40f6-b257-7cfc092cc903",
   "metadata": {},
   "source": [
    "# ✅ Etapa 5: Visualización con Mapas (15 min)"
   ]
  },
  {
   "cell_type": "markdown",
   "id": "374d54c3-665e-4e20-b3fc-bf8540d3c1fb",
   "metadata": {},
   "source": [
    "*  ### Avistajes de felinos en Argentina\n",
    "    * **Mapa**: mostrar iconos de color según el tipo de \"genus\" .\n",
    "* ### Áreas protegidas\n",
    "    * **Mapa**: mostrar iconos de color según el tipo de área protegida definida en la columna \"tap\".\n",
    "* ### Aeropuertos Argentina\n",
    "    * **Mapa**: mostrar iconos de color según el tipo de aeropuerto: type\n",
    "* ### Conectividad Argentina\n",
    "    * **Mapa**: mostrar las localidades donde hay FIBRAOPTICA.\n",
    "* ### Precios combustibles\n",
    "    *  **Mapa**: mostrar los registros de las provincias de la Patagonia según \"tipohorario\".\n",
    "* ### Ferrocarriles.\n",
    "    * **Mapa**: mostrar las estaciones en el mapa según el tipo indicado en la columna \"gna\"."
   ]
  },
  {
   "cell_type": "markdown",
   "id": "da0feae1-e9bf-4b1b-bdf4-643112c1defd",
   "metadata": {},
   "source": [
    "## 📌 Paso 1.Generar un mapa **base** para luego agregar los puntos"
   ]
  },
  {
   "cell_type": "code",
   "execution_count": null,
   "id": "5b781e3c-b3d6-49dc-a446-e88dcdf4bb02",
   "metadata": {},
   "outputs": [],
   "source": []
  },
  {
   "cell_type": "markdown",
   "id": "58ec513e-165b-4d10-81b6-f822ad1c27bc",
   "metadata": {},
   "source": [
    "## 📌 Paso 2. Definir la función para  agregar los puntos"
   ]
  },
  {
   "cell_type": "code",
   "execution_count": null,
   "id": "9f3b6e0e-2b1d-4af7-9426-c86455526975",
   "metadata": {},
   "outputs": [],
   "source": []
  },
  {
   "cell_type": "markdown",
   "id": "7fa5ddf8-793b-40a6-b9c0-611be2368854",
   "metadata": {},
   "source": [
    "## 📌 Paso 3. Agrergar los puntos al mapa"
   ]
  },
  {
   "cell_type": "code",
   "execution_count": null,
   "id": "f053916b-b630-4aa1-bf12-c95f699711a5",
   "metadata": {},
   "outputs": [],
   "source": []
  },
  {
   "cell_type": "code",
   "execution_count": null,
   "id": "b4aa4fc2-b5ad-4f98-b2a0-18c273823832",
   "metadata": {},
   "outputs": [],
   "source": []
  }
 ],
 "metadata": {
  "kernelspec": {
   "display_name": "Python 3 (ipykernel)",
   "language": "python",
   "name": "python3"
  },
  "language_info": {
   "codemirror_mode": {
    "name": "ipython",
    "version": 3
   },
   "file_extension": ".py",
   "mimetype": "text/x-python",
   "name": "python",
   "nbconvert_exporter": "python",
   "pygments_lexer": "ipython3",
   "version": "3.10.12"
  }
 },
 "nbformat": 4,
 "nbformat_minor": 5
}
